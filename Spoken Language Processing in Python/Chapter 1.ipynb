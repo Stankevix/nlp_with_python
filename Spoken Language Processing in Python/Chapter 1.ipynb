{
 "cells": [
  {
   "cell_type": "markdown",
   "id": "classified-recruitment",
   "metadata": {},
   "source": [
    "## Introduction to audio data in Python"
   ]
  },
  {
   "cell_type": "markdown",
   "id": "environmental-charger",
   "metadata": {},
   "source": [
    "Assim como outros tipos de dados, os arquivos de áudio vêm em muitos formatos diferentes como:\n",
    "\n",
    "* mp3, \n",
    "* wav,\n",
    "* m4a, \n",
    "* e flac. \n",
    "\n",
    "Mas cada um desses formatos tem uma medida padrão de frequência. \n",
    "\n",
    "A frequência é medida em quilohertz, mas também é conhecida como kHz ou taxa de amostragem. Assim como um filme mostra 30 imagens por segundo, que nossos cérebros registram como imagens em movimento, a taxa de amostragem de um arquivo de áudio é uma medida do número de blocos de dados por segundo usados para representar um som digital. \n",
    "\n",
    "Com um quilohertz igual a mil informações por segundo.\n",
    "\n",
    "Por exemplo, uma música que você reproduz normalmente terá uma taxa de amostragem de 32 kHz. \n",
    "Isso significa 32.000 informações por segundo. Os livros de fala e áudio têm geralmente entre 8 e 16 kHz. Veremos alguns deles mais tarde. E como você deve ter adivinhado, os arquivos de áudio são diferentes dos dados tabulares ou de texto porque você não pode ver imediatamente os dados com os quais está trabalhando. \n",
    "\n",
    "Para transformar arquivos de áudio em linguagem falada em algo que possamos ver e manipular, primeiro temos que abrir o arquivo de áudio com o módulo de onda interno do Python. \n",
    "\n",
    "Podemos começar com o módulo wave executando o comando import wave."
   ]
  },
  {
   "cell_type": "code",
   "execution_count": 5,
   "id": "pursuant-anchor",
   "metadata": {
    "ExecuteTime": {
     "end_time": "2021-10-21T15:08:49.812353Z",
     "start_time": "2021-10-21T15:08:49.794402Z"
    }
   },
   "outputs": [],
   "source": [
    "import wave"
   ]
  },
  {
   "cell_type": "code",
   "execution_count": 6,
   "id": "quarterly-gamma",
   "metadata": {
    "ExecuteTime": {
     "end_time": "2021-10-21T15:08:50.216179Z",
     "start_time": "2021-10-21T15:08:50.207206Z"
    }
   },
   "outputs": [],
   "source": [
    "good_morning = wave.open(\"dataset/good-morning.wav\",\"r\")"
   ]
  },
  {
   "cell_type": "code",
   "execution_count": 7,
   "id": "configured-logan",
   "metadata": {
    "ExecuteTime": {
     "end_time": "2021-10-21T15:08:50.902511Z",
     "start_time": "2021-10-21T15:08:50.884525Z"
    }
   },
   "outputs": [
    {
     "name": "stdout",
     "output_type": "stream",
     "text": [
      "b'\\xfd\\xff\\xfb\\xff\\xf8\\xff\\xf8\\xff\\xf7\\xff'\n"
     ]
    }
   ],
   "source": [
    "signal_gm = good_morning.readframes(-1)\n",
    "print(signal_gm[:10])"
   ]
  },
  {
   "cell_type": "markdown",
   "id": "appointed-harvest",
   "metadata": {},
   "source": [
    "Agora, temos um arquivo de áudio, good_morning.wav. \n",
    "\n",
    "Ele contém uma pessoa dizendo as palavras bom dia. \n",
    "\n",
    "* Para importá-lo, usaremos o método aberto do wave. \n",
    "* Agora salvamos o arquivo de áudio .wav de bom dia na variável good_morning no formato de wave_object. No entanto, neste estado, não é muito útil para nós. \n",
    "* Para manipulá-lo ainda mais, usaremos o método readframes para converter wave_object em bytes. O -1 significa que queremos ler todas as informações dentro de wave_object. \n",
    "* Agora que convertemos o arquivo de áudio em bytes, como eles se parecem? Ok, podemos ver um trecho de toda a onda sonora na forma de bytes. Mas lembre-se de como quilohertz significa milhares de informações por segundo? O arquivo de áudio .wav bom dia tem 48 quilohertz e 2 segundos de duração. \n",
    "* 48.000 informações por segundo e 2 segundos de duração equivalem a 96.000 blocos de dados, todos por apenas duas palavras. \n",
    "\n",
    "Portanto, se imprimirmos toda a onda sonora na forma de bytes, veremos 96.000 dessas combinações de letras e números. Não se preocupe, se a saída parecer confusa por enquanto, aprenderemos como converter esses bytes em algo mais útil em breve."
   ]
  },
  {
   "cell_type": "markdown",
   "id": "rental-anime",
   "metadata": {},
   "source": [
    "## Converting sound wave bytes to integers"
   ]
  },
  {
   "cell_type": "markdown",
   "id": "finite-fruit",
   "metadata": {},
   "source": [
    "Para tornar nossos dados de áudio mais úteis, vamos convertê-los da forma de bytes para inteiros. \n",
    "\n",
    "Para fazer isso, usaremos o NumPy. \n",
    "\n",
    "NumPy é uma biblioteca Python numérica cheia de funções úteis. \n",
    "* Primeiro, vamos importá-lo.\n",
    "* Então, o método NumPy que usaremos para converter nossos bytes em inteiros é frombuffer. frombuffer transforma uma série de dados em uma matriz unidimensional de um tipo de dados especificado. \n",
    "* Como soundwave_gm é um array de dados, podemos passá-lo para frombuffer como o primeiro parâmetro. \n",
    "* E então podemos definir o parâmetro dtype para o tipo de dados que gostaríamos de obter. \n",
    "* Existem vários tipos de dados que podemos passar, mas para o nosso caso, int16 é o que estamos procurando. \n"
   ]
  },
  {
   "cell_type": "code",
   "execution_count": 8,
   "id": "announced-kernel",
   "metadata": {
    "ExecuteTime": {
     "end_time": "2021-10-21T15:12:53.063054Z",
     "start_time": "2021-10-21T15:12:52.641093Z"
    }
   },
   "outputs": [],
   "source": [
    "import numpy as np"
   ]
  },
  {
   "cell_type": "code",
   "execution_count": 11,
   "id": "focal-automation",
   "metadata": {
    "ExecuteTime": {
     "end_time": "2021-10-21T15:14:05.993803Z",
     "start_time": "2021-10-21T15:14:05.975823Z"
    }
   },
   "outputs": [],
   "source": [
    "good_morning = wave.open(\"dataset/good-morning.wav\",\"r\")\n",
    "soundwave_gm = good_morning.readframes(-1)\n",
    "signal_gm = np.frombuffer(soundwave_gm, dtype='int16')"
   ]
  },
  {
   "cell_type": "code",
   "execution_count": 12,
   "id": "certain-california",
   "metadata": {
    "ExecuteTime": {
     "end_time": "2021-10-21T15:14:06.663198Z",
     "start_time": "2021-10-21T15:14:06.650263Z"
    }
   },
   "outputs": [
    {
     "data": {
      "text/plain": [
       "array([ -3,  -5,  -8,  -8,  -9, -13,  -8, -10,  -9, -11], dtype=int16)"
      ]
     },
     "execution_count": 12,
     "metadata": {},
     "output_type": "execute_result"
    }
   ],
   "source": [
    "signal_gm[:10]"
   ]
  },
  {
   "cell_type": "markdown",
   "id": "certain-standing",
   "metadata": {},
   "source": [
    "Ok, sabemos que nossa onda sonora de bom dia tem uma frequência de 48 kilohertz. Mas e se não o fizéssemos? Para encontrá-lo, podemos dividir o comprimento da matriz de objetos de onda pela duração da onda sonora em segundos. Mas o módulo de onda do Python tem uma maneira programática. \n",
    "\n",
    "Chamar get frame rate em um objeto de onda sonora retornará sua taxa de frames. Vamos usá-lo em nosso objeto de onda bom dia. \n",
    "\n",
    "O método retorna o número que esperávamos, 48.000 ou 48 quilohertz. \n",
    "\n",
    "Podemos usar esta variável de taxa de quadros para mais uma coisa que será útil para visualizar nossas ondas sonoras mais tarde. \n",
    "\n",
    "Dividindo o número de itens na matriz de ondas sonoras pela taxa de quadros, podemos obter a duração do nosso arquivo de áudio.\n",
    "\n",
    "    duração_audio(segundos) = tamanho do objeto(array) / frequencia(Hz)"
   ]
  },
  {
   "cell_type": "code",
   "execution_count": 13,
   "id": "characteristic-hormone",
   "metadata": {
    "ExecuteTime": {
     "end_time": "2021-10-21T15:17:59.433661Z",
     "start_time": "2021-10-21T15:17:59.420698Z"
    }
   },
   "outputs": [
    {
     "data": {
      "text/plain": [
       "48000"
      ]
     },
     "execution_count": 13,
     "metadata": {},
     "output_type": "execute_result"
    }
   ],
   "source": [
    "framerate_gm = good_morning.getframerate()\n",
    "framerate_gm"
   ]
  },
  {
   "cell_type": "markdown",
   "id": "compact-southeast",
   "metadata": {},
   "source": [
    "Com esse valor, podemos aproveitar o método linspace do NumPy para descobrir o registro de data e hora em que ocorre cada valor de onda sonora. \n",
    "\n",
    "O método linspace leva start, stop e num inteiros como parâmetros. \n",
    "\n",
    "Chamá-lo retornará um número de valores uniformemente espaçados entre o início e o fim. "
   ]
  },
  {
   "cell_type": "code",
   "execution_count": 14,
   "id": "utility-plaintiff",
   "metadata": {
    "ExecuteTime": {
     "end_time": "2021-10-21T15:20:23.262449Z",
     "start_time": "2021-10-21T15:20:23.251485Z"
    }
   },
   "outputs": [
    {
     "data": {
      "text/plain": [
       "array([ 1.,  2.,  3.,  4.,  5.,  6.,  7.,  8.,  9., 10.])"
      ]
     },
     "execution_count": 14,
     "metadata": {},
     "output_type": "execute_result"
    }
   ],
   "source": [
    "np.linspace(start=1, stop=10, num=10)"
   ]
  },
  {
   "cell_type": "code",
   "execution_count": 15,
   "id": "fifth-procedure",
   "metadata": {
    "ExecuteTime": {
     "end_time": "2021-10-21T15:21:03.811885Z",
     "start_time": "2021-10-21T15:21:03.794930Z"
    }
   },
   "outputs": [
    {
     "data": {
      "text/plain": [
       "array([ 1.        ,  1.00001883,  1.00003767, ..., 10.41596233,\n",
       "       10.41598117, 10.416     ])"
      ]
     },
     "execution_count": 15,
     "metadata": {},
     "output_type": "execute_result"
    }
   ],
   "source": [
    "time_gm = np.linspace(start=1, \n",
    "            stop=len(soundwave_gm)/framerate_gm, \n",
    "            num=len(soundwave_gm))\n",
    "\n",
    "time_gm"
   ]
  },
  {
   "cell_type": "markdown",
   "id": "plain-riverside",
   "metadata": {},
   "source": [
    "## Visualizing sound waves"
   ]
  },
  {
   "cell_type": "markdown",
   "id": "parliamentary-timothy",
   "metadata": {},
   "source": [
    "Para visualizar o que estamos criando, vamos trazer outra onda sonora, boa tarde. \n",
    "\n",
    "Isso destacará a diferença entre duas ondas sonoras semelhantes e configurará a intuição para o resto do curso. \n",
    "\n",
    "Os arquivos de áudio de bom dia e boa tarde têm 48 kHz ou 48.000 quadros por segundo. "
   ]
  },
  {
   "cell_type": "code",
   "execution_count": 16,
   "id": "exceptional-dylan",
   "metadata": {
    "ExecuteTime": {
     "end_time": "2021-10-21T15:21:51.811964Z",
     "start_time": "2021-10-21T15:21:51.335683Z"
    }
   },
   "outputs": [],
   "source": [
    "import matplotlib.pyplot as plt"
   ]
  },
  {
   "cell_type": "code",
   "execution_count": 31,
   "id": "bizarre-meaning",
   "metadata": {
    "ExecuteTime": {
     "end_time": "2021-10-21T15:30:07.890693Z",
     "start_time": "2021-10-21T15:30:07.879723Z"
    }
   },
   "outputs": [],
   "source": [
    "good_morning = wave.open(\"dataset/good-morning.wav\",\"r\")\n",
    "soundwave_gm = good_morning.readframes(-1)\n",
    "soundwave_gm = np.frombuffer(soundwave_gm, dtype='int16')\n",
    "\n",
    "\n",
    "good_afternoon = wave.open(\"dataset/good-afternoon.wav\",\"r\")\n",
    "soundwave_ga = good_afternoon.readframes(-1)\n",
    "soundwave_ga = np.frombuffer(soundwave_ga, dtype='int16')\n"
   ]
  },
  {
   "cell_type": "code",
   "execution_count": 32,
   "id": "frank-wages",
   "metadata": {
    "ExecuteTime": {
     "end_time": "2021-10-21T15:30:08.436320Z",
     "start_time": "2021-10-21T15:30:08.418364Z"
    }
   },
   "outputs": [],
   "source": [
    "framerate_gm = good_morning.getframerate()\n",
    "framerate_ga = good_afternoon.getframerate()"
   ]
  },
  {
   "cell_type": "code",
   "execution_count": 33,
   "id": "armed-hudson",
   "metadata": {
    "ExecuteTime": {
     "end_time": "2021-10-21T15:30:08.931742Z",
     "start_time": "2021-10-21T15:30:08.918778Z"
    }
   },
   "outputs": [],
   "source": [
    "time_gm = np.linspace(start=1, \n",
    "            stop=len(soundwave_gm)/framerate_gm, \n",
    "            num=len(soundwave_gm))\n",
    "\n",
    "time_ga = np.linspace(start=1, \n",
    "            stop=len(soundwave_ga)/framerate_ga, \n",
    "            num=len(soundwave_ga))"
   ]
  },
  {
   "cell_type": "code",
   "execution_count": 36,
   "id": "characteristic-identifier",
   "metadata": {
    "ExecuteTime": {
     "end_time": "2021-10-21T15:30:20.536567Z",
     "start_time": "2021-10-21T15:30:20.123643Z"
    }
   },
   "outputs": [
    {
     "data": {
      "image/png": "[encoded data removed]",
      "text/plain": [
       "<Figure size 432x288 with 1 Axes>"
      ]
     },
     "metadata": {
      "needs_background": "light"
     },
     "output_type": "display_data"
    }
   ],
   "source": [
    "plt.title(\"Good Afternoon vs. Good Morning\")\n",
    "plt.xlabel(\"Time (Seconds)\")\n",
    "plt.ylabel(\"Amplitude\")\n",
    "\n",
    "plt.plot(time_ga, soundwave_ga, label = \"Good Afternoon\")\n",
    "plt.plot(time_gm, soundwave_gm, label = \"Good Morning\",alpha=0.8)\n",
    "\n",
    "plt.legend()\n",
    "plt.show()"
   ]
  }
 ],
 "metadata": {
  "kernelspec": {
   "display_name": "Python 3",
   "language": "python",
   "name": "python3"
  },
  "language_info": {
   "codemirror_mode": {
    "name": "ipython",
    "version": 3
   },
   "file_extension": ".py",
   "mimetype": "text/x-python",
   "name": "python",
   "nbconvert_exporter": "python",
   "pygments_lexer": "ipython3",
   "version": "3.6.4"
  },
  "toc": {
   "base_numbering": 1,
   "nav_menu": {},
   "number_sections": true,
   "sideBar": true,
   "skip_h1_title": false,
   "title_cell": "Table of Contents",
   "title_sidebar": "Contents",
   "toc_cell": false,
   "toc_position": {},
   "toc_section_display": true,
   "toc_window_display": false
  }
 },
 "nbformat": 4,
 "nbformat_minor": 5
}
