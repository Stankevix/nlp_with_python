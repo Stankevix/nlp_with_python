{
 "cells": [
  {
   "cell_type": "markdown",
   "id": "comparable-robinson",
   "metadata": {},
   "source": [
    "# Chapter 4 - TF-IDF and similarity scores"
   ]
  },
  {
   "cell_type": "code",
   "execution_count": 1,
   "id": "referenced-rating",
   "metadata": {
    "ExecuteTime": {
     "end_time": "2021-10-11T13:14:14.034136Z",
     "start_time": "2021-10-11T13:14:12.186222Z"
    }
   },
   "outputs": [],
   "source": [
    "import pandas as pd\n",
    "import numpy as np\n",
    "import matplotlib as mpl\n",
    "import matplotlib.pyplot as plt"
   ]
  },
  {
   "cell_type": "markdown",
   "id": "korean-broadcasting",
   "metadata": {},
   "source": [
    "## Building tf-idf document vectors"
   ]
  },
  {
   "cell_type": "markdown",
   "id": "stainless-warrior",
   "metadata": {},
   "source": [
    "## tf-idf vectors for TED talks"
   ]
  },
  {
   "cell_type": "code",
   "execution_count": 2,
   "id": "antique-selling",
   "metadata": {
    "ExecuteTime": {
     "end_time": "2021-10-11T13:14:23.914658Z",
     "start_time": "2021-10-11T13:14:23.899698Z"
    }
   },
   "outputs": [],
   "source": [
    "from sklearn.feature_extraction.text import TfidfVectorizer"
   ]
  },
  {
   "cell_type": "code",
   "execution_count": 3,
   "id": "psychological-edward",
   "metadata": {
    "ExecuteTime": {
     "end_time": "2021-10-11T13:14:42.294739Z",
     "start_time": "2021-10-11T13:14:42.211717Z"
    }
   },
   "outputs": [],
   "source": [
    "ted = pd.read_csv(\"ted.csv\")"
   ]
  },
  {
   "cell_type": "code",
   "execution_count": 4,
   "id": "polar-blanket",
   "metadata": {
    "ExecuteTime": {
     "end_time": "2021-10-11T13:14:51.845468Z",
     "start_time": "2021-10-11T13:14:51.824525Z"
    }
   },
   "outputs": [
    {
     "data": {
      "text/html": [
       "<div>\n",
       "<style scoped>\n",
       "    .dataframe tbody tr th:only-of-type {\n",
       "        vertical-align: middle;\n",
       "    }\n",
       "\n",
       "    .dataframe tbody tr th {\n",
       "        vertical-align: top;\n",
       "    }\n",
       "\n",
       "    .dataframe thead th {\n",
       "        text-align: right;\n",
       "    }\n",
       "</style>\n",
       "<table border=\"1\" class=\"dataframe\">\n",
       "  <thead>\n",
       "    <tr style=\"text-align: right;\">\n",
       "      <th></th>\n",
       "      <th>transcript</th>\n",
       "      <th>url</th>\n",
       "    </tr>\n",
       "  </thead>\n",
       "  <tbody>\n",
       "    <tr>\n",
       "      <th>0</th>\n",
       "      <td>We're going to talk — my — a new lecture, just...</td>\n",
       "      <td>https://www.ted.com/talks/al_seckel_says_our_b...</td>\n",
       "    </tr>\n",
       "    <tr>\n",
       "      <th>1</th>\n",
       "      <td>This is a representation of your brain, and yo...</td>\n",
       "      <td>https://www.ted.com/talks/aaron_o_connell_maki...</td>\n",
       "    </tr>\n",
       "    <tr>\n",
       "      <th>2</th>\n",
       "      <td>It's a great honor today to share with you The...</td>\n",
       "      <td>https://www.ted.com/talks/carter_emmart_demos_...</td>\n",
       "    </tr>\n",
       "    <tr>\n",
       "      <th>3</th>\n",
       "      <td>My passions are music, technology and making t...</td>\n",
       "      <td>https://www.ted.com/talks/jared_ficklin_new_wa...</td>\n",
       "    </tr>\n",
       "    <tr>\n",
       "      <th>4</th>\n",
       "      <td>It used to be that if you wanted to get a comp...</td>\n",
       "      <td>https://www.ted.com/talks/jeremy_howard_the_wo...</td>\n",
       "    </tr>\n",
       "  </tbody>\n",
       "</table>\n",
       "</div>"
      ],
      "text/plain": [
       "                                          transcript  \\\n",
       "0  We're going to talk — my — a new lecture, just...   \n",
       "1  This is a representation of your brain, and yo...   \n",
       "2  It's a great honor today to share with you The...   \n",
       "3  My passions are music, technology and making t...   \n",
       "4  It used to be that if you wanted to get a comp...   \n",
       "\n",
       "                                                 url  \n",
       "0  https://www.ted.com/talks/al_seckel_says_our_b...  \n",
       "1  https://www.ted.com/talks/aaron_o_connell_maki...  \n",
       "2  https://www.ted.com/talks/carter_emmart_demos_...  \n",
       "3  https://www.ted.com/talks/jared_ficklin_new_wa...  \n",
       "4  https://www.ted.com/talks/jeremy_howard_the_wo...  "
      ]
     },
     "execution_count": 4,
     "metadata": {},
     "output_type": "execute_result"
    }
   ],
   "source": [
    "ted.head()"
   ]
  },
  {
   "cell_type": "code",
   "execution_count": 5,
   "id": "stable-encounter",
   "metadata": {
    "ExecuteTime": {
     "end_time": "2021-10-11T13:15:05.034056Z",
     "start_time": "2021-10-11T13:15:04.347207Z"
    }
   },
   "outputs": [
    {
     "name": "stdout",
     "output_type": "stream",
     "text": [
      "(500, 29158)\n"
     ]
    }
   ],
   "source": [
    "# Create TfidfVectorizer object\n",
    "vectorizer = TfidfVectorizer()\n",
    "\n",
    "# Generate matrix of word vectors\n",
    "tfidf_matrix = vectorizer.fit_transform(ted['transcript'])\n",
    "\n",
    "# Print the shape of tfidf_matrix\n",
    "print(tfidf_matrix.shape)"
   ]
  },
  {
   "cell_type": "markdown",
   "id": "inappropriate-reviewer",
   "metadata": {},
   "source": [
    "## Cosine similarity"
   ]
  },
  {
   "cell_type": "markdown",
   "id": "prerequisite-track",
   "metadata": {},
   "source": [
    "### Computing dot product"
   ]
  },
  {
   "cell_type": "code",
   "execution_count": 6,
   "id": "crucial-accommodation",
   "metadata": {
    "ExecuteTime": {
     "end_time": "2021-10-11T13:22:09.445530Z",
     "start_time": "2021-10-11T13:22:09.424554Z"
    }
   },
   "outputs": [
    {
     "name": "stdout",
     "output_type": "stream",
     "text": [
      "4\n"
     ]
    }
   ],
   "source": [
    "# Initialize numpy vectors\n",
    "A = np.array([1,3])\n",
    "B = np.array([-2,2])\n",
    "\n",
    "# Compute dot product\n",
    "dot_prod = np.dot(A, B)\n",
    "\n",
    "# Print dot product\n",
    "print(dot_prod)"
   ]
  },
  {
   "cell_type": "markdown",
   "id": "dominant-aging",
   "metadata": {},
   "source": [
    "### Cosine similarity matrix of a corpus"
   ]
  },
  {
   "cell_type": "code",
   "execution_count": 9,
   "id": "pediatric-hearts",
   "metadata": {
    "ExecuteTime": {
     "end_time": "2021-10-11T13:24:28.148496Z",
     "start_time": "2021-10-11T13:24:28.131541Z"
    }
   },
   "outputs": [],
   "source": [
    "from sklearn.metrics.pairwise import cosine_similarity"
   ]
  },
  {
   "cell_type": "code",
   "execution_count": 10,
   "id": "toxic-british",
   "metadata": {
    "ExecuteTime": {
     "end_time": "2021-10-11T13:24:28.988854Z",
     "start_time": "2021-10-11T13:24:28.973896Z"
    }
   },
   "outputs": [],
   "source": [
    "corpus = ted['transcript']"
   ]
  },
  {
   "cell_type": "code",
   "execution_count": 11,
   "id": "public-garage",
   "metadata": {
    "ExecuteTime": {
     "end_time": "2021-10-11T13:24:30.323999Z",
     "start_time": "2021-10-11T13:24:29.552396Z"
    }
   },
   "outputs": [
    {
     "name": "stdout",
     "output_type": "stream",
     "text": [
      "[[1.         0.47014672 0.43111468 ... 0.46412547 0.45670633 0.49282253]\n",
      " [0.47014672 1.         0.44271363 ... 0.46985012 0.44711665 0.50449557]\n",
      " [0.43111468 0.44271363 1.         ... 0.46801727 0.39181858 0.46637994]\n",
      " ...\n",
      " [0.46412547 0.46985012 0.46801727 ... 1.         0.45097242 0.48634418]\n",
      " [0.45670633 0.44711665 0.39181858 ... 0.45097242 1.         0.49410619]\n",
      " [0.49282253 0.50449557 0.46637994 ... 0.48634418 0.49410619 1.        ]]\n"
     ]
    }
   ],
   "source": [
    "# Initialize an instance of tf-idf Vectorizer\n",
    "tfidf_vectorizer = TfidfVectorizer()\n",
    "\n",
    "# Generate the tf-idf vectors for the corpus\n",
    "tfidf_matrix = tfidf_vectorizer.fit_transform(corpus)\n",
    "\n",
    "# Compute and print the cosine similarity matrix\n",
    "cosine_sim = cosine_similarity(tfidf_matrix, tfidf_matrix)\n",
    "print(cosine_sim)"
   ]
  },
  {
   "cell_type": "markdown",
   "id": "baking-patrick",
   "metadata": {},
   "source": [
    "## Building a plot line based recommender"
   ]
  },
  {
   "cell_type": "code",
   "execution_count": 24,
   "id": "laden-island",
   "metadata": {
    "ExecuteTime": {
     "end_time": "2021-10-11T14:00:34.122391Z",
     "start_time": "2021-10-11T14:00:34.118406Z"
    }
   },
   "outputs": [],
   "source": [
    "#movies = pd.read_csv(\"movies_genres.csv.bz2\", delimiter='\\t')\n",
    "#movies_plot = movies['plot']\n",
    "#movies_plot.head()"
   ]
  },
  {
   "cell_type": "markdown",
   "id": "convinced-thanks",
   "metadata": {},
   "source": [
    "### Comparing linear_kernel and cosine_similarity"
   ]
  },
  {
   "cell_type": "code",
   "execution_count": 14,
   "id": "animal-neighbor",
   "metadata": {
    "ExecuteTime": {
     "end_time": "2021-10-11T13:40:16.116196Z",
     "start_time": "2021-10-11T13:40:16.109214Z"
    }
   },
   "outputs": [],
   "source": [
    "import time\n",
    "from sklearn.metrics.pairwise import linear_kernel"
   ]
  },
  {
   "cell_type": "code",
   "execution_count": 13,
   "id": "temporal-database",
   "metadata": {
    "ExecuteTime": {
     "end_time": "2021-10-11T13:39:07.836727Z",
     "start_time": "2021-10-11T13:39:07.727778Z"
    }
   },
   "outputs": [
    {
     "name": "stdout",
     "output_type": "stream",
     "text": [
      "[[1.         0.47014672 0.43111468 ... 0.46412547 0.45670633 0.49282253]\n",
      " [0.47014672 1.         0.44271363 ... 0.46985012 0.44711665 0.50449557]\n",
      " [0.43111468 0.44271363 1.         ... 0.46801727 0.39181858 0.46637994]\n",
      " ...\n",
      " [0.46412547 0.46985012 0.46801727 ... 1.         0.45097242 0.48634418]\n",
      " [0.45670633 0.44711665 0.39181858 ... 0.45097242 1.         0.49410619]\n",
      " [0.49282253 0.50449557 0.46637994 ... 0.48634418 0.49410619 1.        ]]\n",
      "Time taken: 0.09172368049621582 seconds\n"
     ]
    }
   ],
   "source": [
    "# Record start time\n",
    "start = time.time()\n",
    "\n",
    "# Compute cosine similarity matrix\n",
    "cosine_sim = cosine_similarity(tfidf_matrix, tfidf_matrix)\n",
    "\n",
    "# Print cosine similarity matrix\n",
    "print(cosine_sim)\n",
    "\n",
    "# Print time taken\n",
    "print(\"Time taken: %s seconds\" %(time.time() - start))"
   ]
  },
  {
   "cell_type": "code",
   "execution_count": 15,
   "id": "statistical-gauge",
   "metadata": {
    "ExecuteTime": {
     "end_time": "2021-10-11T13:40:19.334376Z",
     "start_time": "2021-10-11T13:40:19.235640Z"
    }
   },
   "outputs": [
    {
     "name": "stdout",
     "output_type": "stream",
     "text": [
      "[[1.         0.47014672 0.43111468 ... 0.46412547 0.45670633 0.49282253]\n",
      " [0.47014672 1.         0.44271363 ... 0.46985012 0.44711665 0.50449557]\n",
      " [0.43111468 0.44271363 1.         ... 0.46801727 0.39181858 0.46637994]\n",
      " ...\n",
      " [0.46412547 0.46985012 0.46801727 ... 1.         0.45097242 0.48634418]\n",
      " [0.45670633 0.44711665 0.39181858 ... 0.45097242 1.         0.49410619]\n",
      " [0.49282253 0.50449557 0.46637994 ... 0.48634418 0.49410619 1.        ]]\n",
      "Time taken: 0.0937492847442627 seconds\n"
     ]
    }
   ],
   "source": [
    "# Record start time\n",
    "start = time.time()\n",
    "\n",
    "# Compute cosine similarity matrix\n",
    "cosine_sim = linear_kernel(tfidf_matrix, tfidf_matrix)\n",
    "\n",
    "# Print cosine similarity matrix\n",
    "print(cosine_sim)\n",
    "\n",
    "# Print time taken\n",
    "print(\"Time taken: %s seconds\" %(time.time() - start))"
   ]
  },
  {
   "cell_type": "markdown",
   "id": "palestinian-elder",
   "metadata": {},
   "source": [
    "### The recommender function"
   ]
  },
  {
   "cell_type": "code",
   "execution_count": 43,
   "id": "excess-native",
   "metadata": {
    "ExecuteTime": {
     "end_time": "2021-10-11T14:09:38.952409Z",
     "start_time": "2021-10-11T14:09:38.882000Z"
    }
   },
   "outputs": [
    {
     "data": {
      "text/html": [
       "<div>\n",
       "<style scoped>\n",
       "    .dataframe tbody tr th:only-of-type {\n",
       "        vertical-align: middle;\n",
       "    }\n",
       "\n",
       "    .dataframe tbody tr th {\n",
       "        vertical-align: top;\n",
       "    }\n",
       "\n",
       "    .dataframe thead th {\n",
       "        text-align: right;\n",
       "    }\n",
       "</style>\n",
       "<table border=\"1\" class=\"dataframe\">\n",
       "  <thead>\n",
       "    <tr style=\"text-align: right;\">\n",
       "      <th></th>\n",
       "      <th>id</th>\n",
       "      <th>title</th>\n",
       "      <th>overview</th>\n",
       "      <th>tagline</th>\n",
       "    </tr>\n",
       "  </thead>\n",
       "  <tbody>\n",
       "    <tr>\n",
       "      <th>0</th>\n",
       "      <td>862</td>\n",
       "      <td>Toy Story</td>\n",
       "      <td>Led by Woody, Andy's toys live happily in his ...</td>\n",
       "      <td>NaN</td>\n",
       "    </tr>\n",
       "    <tr>\n",
       "      <th>1</th>\n",
       "      <td>8844</td>\n",
       "      <td>Jumanji</td>\n",
       "      <td>When siblings Judy and Peter discover an encha...</td>\n",
       "      <td>Roll the dice and unleash the excitement!</td>\n",
       "    </tr>\n",
       "    <tr>\n",
       "      <th>2</th>\n",
       "      <td>15602</td>\n",
       "      <td>Grumpier Old Men</td>\n",
       "      <td>A family wedding reignites the ancient feud be...</td>\n",
       "      <td>Still Yelling. Still Fighting. Still Ready for...</td>\n",
       "    </tr>\n",
       "    <tr>\n",
       "      <th>3</th>\n",
       "      <td>31357</td>\n",
       "      <td>Waiting to Exhale</td>\n",
       "      <td>Cheated on, mistreated and stepped on, the wom...</td>\n",
       "      <td>Friends are the people who let you be yourself...</td>\n",
       "    </tr>\n",
       "    <tr>\n",
       "      <th>4</th>\n",
       "      <td>11862</td>\n",
       "      <td>Father of the Bride Part II</td>\n",
       "      <td>Just when George Banks has recovered from his ...</td>\n",
       "      <td>Just When His World Is Back To Normal... He's ...</td>\n",
       "    </tr>\n",
       "    <tr>\n",
       "      <th>5</th>\n",
       "      <td>949</td>\n",
       "      <td>Heat</td>\n",
       "      <td>Obsessive master thief, Neil McCauley leads a ...</td>\n",
       "      <td>A Los Angeles Crime Saga</td>\n",
       "    </tr>\n",
       "    <tr>\n",
       "      <th>6</th>\n",
       "      <td>11860</td>\n",
       "      <td>Sabrina</td>\n",
       "      <td>An ugly duckling having undergone a remarkable...</td>\n",
       "      <td>You are cordially invited to the most surprisi...</td>\n",
       "    </tr>\n",
       "    <tr>\n",
       "      <th>7</th>\n",
       "      <td>45325</td>\n",
       "      <td>Tom and Huck</td>\n",
       "      <td>A mischievous young boy, Tom Sawyer, witnesses...</td>\n",
       "      <td>The Original Bad Boys.</td>\n",
       "    </tr>\n",
       "    <tr>\n",
       "      <th>8</th>\n",
       "      <td>9091</td>\n",
       "      <td>Sudden Death</td>\n",
       "      <td>International action superstar Jean Claude Van...</td>\n",
       "      <td>Terror goes into overtime.</td>\n",
       "    </tr>\n",
       "    <tr>\n",
       "      <th>9</th>\n",
       "      <td>710</td>\n",
       "      <td>GoldenEye</td>\n",
       "      <td>James Bond must unmask the mysterious head of ...</td>\n",
       "      <td>No limits. No fears. No substitutes.</td>\n",
       "    </tr>\n",
       "  </tbody>\n",
       "</table>\n",
       "</div>"
      ],
      "text/plain": [
       "      id                        title  \\\n",
       "0    862                    Toy Story   \n",
       "1   8844                      Jumanji   \n",
       "2  15602             Grumpier Old Men   \n",
       "3  31357            Waiting to Exhale   \n",
       "4  11862  Father of the Bride Part II   \n",
       "5    949                         Heat   \n",
       "6  11860                      Sabrina   \n",
       "7  45325                 Tom and Huck   \n",
       "8   9091                 Sudden Death   \n",
       "9    710                    GoldenEye   \n",
       "\n",
       "                                            overview  \\\n",
       "0  Led by Woody, Andy's toys live happily in his ...   \n",
       "1  When siblings Judy and Peter discover an encha...   \n",
       "2  A family wedding reignites the ancient feud be...   \n",
       "3  Cheated on, mistreated and stepped on, the wom...   \n",
       "4  Just when George Banks has recovered from his ...   \n",
       "5  Obsessive master thief, Neil McCauley leads a ...   \n",
       "6  An ugly duckling having undergone a remarkable...   \n",
       "7  A mischievous young boy, Tom Sawyer, witnesses...   \n",
       "8  International action superstar Jean Claude Van...   \n",
       "9  James Bond must unmask the mysterious head of ...   \n",
       "\n",
       "                                             tagline  \n",
       "0                                                NaN  \n",
       "1          Roll the dice and unleash the excitement!  \n",
       "2  Still Yelling. Still Fighting. Still Ready for...  \n",
       "3  Friends are the people who let you be yourself...  \n",
       "4  Just When His World Is Back To Normal... He's ...  \n",
       "5                           A Los Angeles Crime Saga  \n",
       "6  You are cordially invited to the most surprisi...  \n",
       "7                             The Original Bad Boys.  \n",
       "8                         Terror goes into overtime.  \n",
       "9               No limits. No fears. No substitutes.  "
      ]
     },
     "execution_count": 43,
     "metadata": {},
     "output_type": "execute_result"
    }
   ],
   "source": [
    "metadata = pd.read_csv(\"movie_overviews.csv\")\n",
    "metadata.head(10)"
   ]
  },
  {
   "cell_type": "code",
   "execution_count": 75,
   "id": "annual-orleans",
   "metadata": {
    "ExecuteTime": {
     "end_time": "2021-10-11T14:22:53.168490Z",
     "start_time": "2021-10-11T14:22:53.147546Z"
    }
   },
   "outputs": [],
   "source": [
    "def get_recommendations(title, cosine_sim, indices):\n",
    "    # Get index of movie that matches title\n",
    "    idx = indices[title]\n",
    "    \n",
    "    # Sort the movies based on the similarity scores\n",
    "    sim_scores = list(enumerate(cosine_sim[idx]))\n",
    "    sim_scores = sorted(sim_scores, key=lambda x: x[1], reverse=True)\n",
    "    \n",
    "    # Get the scores for 10 most similar movies\n",
    "    sim_scores = sim_scores[1:11]\n",
    "    \n",
    "    # Get the movie indices\n",
    "    movie_indices = [i[0] for i in sim_scores]\n",
    "    \n",
    "    # Return the top 10 most similar movies\n",
    "    return metadata['title'].iloc[movie_indices]"
   ]
  },
  {
   "cell_type": "code",
   "execution_count": 39,
   "id": "accompanied-classic",
   "metadata": {
    "ExecuteTime": {
     "end_time": "2021-10-11T14:09:05.476429Z",
     "start_time": "2021-10-11T14:09:05.459436Z"
    }
   },
   "outputs": [],
   "source": [
    "metadata = metadata.dropna()"
   ]
  },
  {
   "cell_type": "code",
   "execution_count": 40,
   "id": "looking-policy",
   "metadata": {
    "ExecuteTime": {
     "end_time": "2021-10-11T14:09:07.837542Z",
     "start_time": "2021-10-11T14:09:06.096995Z"
    }
   },
   "outputs": [],
   "source": [
    "indices = pd.Series(metadata.index, index=metadata['title']).drop_duplicates()\n",
    "\n",
    "tfidf_vectorizer = TfidfVectorizer()\n",
    "corpus = metadata['overview']\n",
    "tfidf_matrix = tfidf_vectorizer.fit_transform(corpus)\n",
    "cosine_sim = cosine_similarity(tfidf_matrix, tfidf_matrix)"
   ]
  },
  {
   "cell_type": "code",
   "execution_count": 44,
   "id": "subjective-michael",
   "metadata": {
    "ExecuteTime": {
     "end_time": "2021-10-11T14:09:53.495439Z",
     "start_time": "2021-10-11T14:09:53.478483Z"
    }
   },
   "outputs": [
    {
     "data": {
      "text/plain": [
       "4143                                 Men in Black II\n",
       "1992                             Simply Irresistible\n",
       "6713                                            Fido\n",
       "4147                               Road to Perdition\n",
       "1993                                        20 Dates\n",
       "3775                                        Cruising\n",
       "2867                               Battlefield Earth\n",
       "1968    Texas Chainsaw Massacre: The Next Generation\n",
       "1995                                   The Last Days\n",
       "4144                       The Powerpuff Girls Movie\n",
       "Name: title, dtype: object"
      ]
     },
     "execution_count": 44,
     "metadata": {},
     "output_type": "execute_result"
    }
   ],
   "source": [
    "get_recommendations('Sudden Death',cosine_sim,indices)"
   ]
  },
  {
   "cell_type": "markdown",
   "id": "legislative-cholesterol",
   "metadata": {},
   "source": [
    "### TED talk recommender"
   ]
  },
  {
   "cell_type": "code",
   "execution_count": 89,
   "id": "planned-durham",
   "metadata": {
    "ExecuteTime": {
     "end_time": "2021-10-11T14:25:35.400163Z",
     "start_time": "2021-10-11T14:25:35.380218Z"
    }
   },
   "outputs": [],
   "source": [
    "def get_ted_recommendations(title, cosine_sim, indices, df):\n",
    "    # Get index of movie that matches title\n",
    "    idx = indices[title]\n",
    "    \n",
    "    # Sort the movies based on the similarity scores\n",
    "    sim_scores = list(enumerate(cosine_sim[idx]))\n",
    "    sim_scores = sorted(sim_scores, key=lambda x: x[1], reverse=True)\n",
    "    \n",
    "    # Get the scores for 10 most similar movies\n",
    "    sim_scores = sim_scores[1:11]\n",
    "    \n",
    "    # Get the ted indices\n",
    "    ted_indices = [i[0] for i in sim_scores]\n",
    "    \n",
    "    # Return the top 10 most similar movies\n",
    "    return df['title'].iloc[ted_indices]"
   ]
  },
  {
   "cell_type": "code",
   "execution_count": 82,
   "id": "elementary-elimination",
   "metadata": {
    "ExecuteTime": {
     "end_time": "2021-10-11T14:24:22.704039Z",
     "start_time": "2021-10-11T14:24:22.379714Z"
    }
   },
   "outputs": [],
   "source": [
    "ted = pd.read_csv(\"dataset/ted_main.csv\")\n",
    "transcripts = pd.read_csv(\"dataset/transcripts.csv\")"
   ]
  },
  {
   "cell_type": "code",
   "execution_count": 83,
   "id": "better-connection",
   "metadata": {
    "ExecuteTime": {
     "end_time": "2021-10-11T14:24:22.922581Z",
     "start_time": "2021-10-11T14:24:22.906622Z"
    }
   },
   "outputs": [
    {
     "data": {
      "text/plain": [
       "0        Do schools kill creativity?\n",
       "1        Averting the climate crisis\n",
       "2                   Simplicity sells\n",
       "3                Greening the ghetto\n",
       "4    The best stats you've ever seen\n",
       "Name: title, dtype: object"
      ]
     },
     "execution_count": 83,
     "metadata": {},
     "output_type": "execute_result"
    }
   ],
   "source": [
    "ted['title'].head()"
   ]
  },
  {
   "cell_type": "code",
   "execution_count": 84,
   "id": "functional-despite",
   "metadata": {
    "ExecuteTime": {
     "end_time": "2021-10-11T14:24:23.360751Z",
     "start_time": "2021-10-11T14:24:23.354766Z"
    }
   },
   "outputs": [],
   "source": [
    "transcripts = transcripts['transcript']"
   ]
  },
  {
   "cell_type": "code",
   "execution_count": 85,
   "id": "provincial-gothic",
   "metadata": {
    "ExecuteTime": {
     "end_time": "2021-10-11T14:24:29.058078Z",
     "start_time": "2021-10-11T14:24:23.712952Z"
    }
   },
   "outputs": [],
   "source": [
    "tfidf = TfidfVectorizer()\n",
    "tfidf_matrix = tfidf.fit_transform(transcripts)\n",
    "cosine_sim = linear_kernel(tfidf_matrix, tfidf_matrix)"
   ]
  },
  {
   "cell_type": "code",
   "execution_count": 86,
   "id": "nearby-physiology",
   "metadata": {
    "ExecuteTime": {
     "end_time": "2021-10-11T14:24:29.074066Z",
     "start_time": "2021-10-11T14:24:29.060077Z"
    }
   },
   "outputs": [],
   "source": [
    "indices = pd.Series(ted.index, index=ted['title']).drop_duplicates()"
   ]
  },
  {
   "cell_type": "code",
   "execution_count": 90,
   "id": "generous-jonathan",
   "metadata": {
    "ExecuteTime": {
     "end_time": "2021-10-11T14:25:43.941479Z",
     "start_time": "2021-10-11T14:25:43.921501Z"
    }
   },
   "outputs": [
    {
     "name": "stdout",
     "output_type": "stream",
     "text": [
      "364                   Organic algorithms in architecture\n",
      "197                 A preview of the WorldWide Telescope\n",
      "40     My wish: Manufactured landscapes and green edu...\n",
      "219                          Where does creativity hide?\n",
      "354                            Why we make bad decisions\n",
      "210             The search for the true face of Leonardo\n",
      "102                                      \"Black Men Ski\"\n",
      "199              On the verge of creating synthetic life\n",
      "597                     10 young Indian artists to watch\n",
      "242                         Your genes are not your fate\n",
      "Name: title, dtype: object\n"
     ]
    }
   ],
   "source": [
    "print(get_ted_recommendations('Averting the climate crisis', cosine_sim, indices, ted))"
   ]
  },
  {
   "cell_type": "markdown",
   "id": "working-suspect",
   "metadata": {},
   "source": [
    "## Beyond n-grams: word embeddings"
   ]
  },
  {
   "cell_type": "code",
   "execution_count": 91,
   "id": "equal-pencil",
   "metadata": {
    "ExecuteTime": {
     "end_time": "2021-10-11T14:39:29.892899Z",
     "start_time": "2021-10-11T14:39:18.667243Z"
    }
   },
   "outputs": [],
   "source": [
    "import spacy"
   ]
  },
  {
   "cell_type": "code",
   "execution_count": 93,
   "id": "difficult-interim",
   "metadata": {
    "ExecuteTime": {
     "end_time": "2021-10-11T14:39:34.842310Z",
     "start_time": "2021-10-11T14:39:34.259561Z"
    }
   },
   "outputs": [],
   "source": [
    "sent = 'I like apples and oranges'\n",
    "nlp = spacy.load('en_core_web_sm')"
   ]
  },
  {
   "cell_type": "code",
   "execution_count": 95,
   "id": "coral-seventh",
   "metadata": {
    "ExecuteTime": {
     "end_time": "2021-10-11T14:39:41.877997Z",
     "start_time": "2021-10-11T14:39:41.858052Z"
    }
   },
   "outputs": [
    {
     "name": "stdout",
     "output_type": "stream",
     "text": [
      "I I 1.0\n",
      "I like 0.13463897\n",
      "I apples -0.0361336\n",
      "I and -0.08523058\n",
      "I oranges 0.03370864\n",
      "like I 0.13463897\n",
      "like like 1.0\n",
      "like apples 0.0007651841\n",
      "like and 0.10452179\n",
      "like oranges -0.045859132\n",
      "apples I -0.0361336\n",
      "apples like 0.0007651841\n",
      "apples apples 1.0\n",
      "apples and -0.051072996\n",
      "apples oranges 0.46452007\n",
      "and I -0.08523058\n",
      "and like 0.10452179\n",
      "and apples -0.051072996\n",
      "and and 1.0\n",
      "and oranges 0.038236685\n",
      "oranges I 0.03370864\n",
      "oranges like -0.045859132\n",
      "oranges apples 0.46452007\n",
      "oranges and 0.038236685\n",
      "oranges oranges 1.0\n"
     ]
    },
    {
     "name": "stderr",
     "output_type": "stream",
     "text": [
      "C:\\Anaconda3\\lib\\site-packages\\ipykernel_launcher.py:7: UserWarning: [W007] The model you're using has no word vectors loaded, so the result of the Token.similarity method will be based on the tagger, parser and NER, which may not give useful similarity judgements. This may happen if you're using one of the small models, e.g. `en_core_web_sm`, which don't ship with word vectors and only use context-sensitive tensors. You can always add your own word vectors, or use one of the larger models instead if available.\n",
      "  import sys\n"
     ]
    }
   ],
   "source": [
    "# Create the doc object\n",
    "doc = nlp(sent)\n",
    "\n",
    "# Compute pairwise similarity scores\n",
    "for token1 in doc:\n",
    "    for token2 in doc:\n",
    "        print(token1.text, token2.text, token1.similarity(token2))"
   ]
  },
  {
   "cell_type": "markdown",
   "id": "chronic-intro",
   "metadata": {},
   "source": [
    "### Computing similarity of Pink Floyd songs"
   ]
  },
  {
   "cell_type": "code",
   "execution_count": 97,
   "id": "statistical-exercise",
   "metadata": {
    "ExecuteTime": {
     "end_time": "2021-10-11T14:41:10.443257Z",
     "start_time": "2021-10-11T14:41:10.424309Z"
    }
   },
   "outputs": [],
   "source": [
    "mother = \"\\nMother do you think they'll drop the bomb?\\nMother do you think they'll like this song?\\nMother do you think they'll try to break my balls?\\nOoh, ah\\nMother should I build the wall?\\nMother should I run for President?\\nMother should I trust the government?\\nMother will they put me in the firing mine?\\nOoh ah,\\nIs it just a waste of time?\\nHush now baby, baby, don't you cry.\\nMama's gonna make all your nightmares come true.\\nMama's gonna put all her fears into you.\\nMama's gonna keep you right here under her wing.\\nShe won't let you fly, but she might let you sing.\\nMama's gonna keep baby cozy and warm.\\nOoh baby, ooh baby, ooh baby,\\nOf course mama's gonna help build the wall.\\nMother do you think she's good enough, for me?\\nMother do you think she's dangerous, to me?\\nMother will she tear your little boy apart?\\nOoh ah,\\nMother will she break my heart?\\nHush now baby, baby don't you cry.\\nMama's gonna check out all your girlfriends for you.\\nMama won't let anyone dirty get through.\\nMama's gonna wait up until you get in.\\nMama will always find out where you've been.\\nMama's gonna keep baby healthy and clean.\\nOoh baby, ooh baby, ooh baby,\\nYou'll always be baby to me.\\nMother, did it need to be so high?\\n\"\n",
    "hey = \"\\nHey you, out there in the cold\\nGetting lonely, getting old\\nCan you feel me?\\nHey you, standing in the aisles\\nWith itchy feet and fading smiles\\nCan you feel me?\\nHey you, don't help them to bury the light\\nDon't give in without a fight\\nHey you out there on your own\\nSitting naked by the phone\\nWould you touch me?\\nHey you with you ear against the wall\\nWaiting for someone to call out\\nWould you touch me?\\nHey you, would you help me to carry the stone?\\nOpen your heart, I'm coming home\\nBut it was only fantasy\\nThe wall was too high\\nAs you can see\\nNo matter how he tried\\nHe could not break free\\nAnd the worms ate into his brain\\nHey you, out there on the road\\nAlways doing what you're told\\nCan you help me?\\nHey you, out there beyond the wall\\nBreaking bottles in the hall\\nCan you help me?\\nHey you, don't tell me there's no hope at all\\nTogether we stand, divided we fall\\n\"\n",
    "hopes = \"\\nBeyond the horizon of the place we lived when we were young\\nIn a world of magnets and miracles\\nOur thoughts strayed constantly and without boundary\\nThe ringing of the division bell had begun\\nAlong the Long Road and on down the Causeway\\nDo they still meet there by the Cut\\nThere was a ragged band that followed in our footsteps\\nRunning before times took our dreams away\\nLeaving the myriad small creatures trying to tie us to the ground\\nTo a life consumed by slow decay\\nThe grass was greener\\nThe light was brighter\\nWhen friends surrounded\\nThe nights of wonder\\nLooking beyond the embers of bridges glowing behind us\\nTo a glimpse of how green it was on the other side\\nSteps taken forwards but sleepwalking back again\\nDragged by the force of some in a tide\\nAt a higher altitude with flag unfurled\\nWe reached the dizzy heights of that dreamed of world\\nEncumbered forever by desire and ambition\\nThere's a hunger still unsatisfied\\nOur weary eyes still stray to the horizon\\nThough down this road we've been so many times\\nThe grass was greener\\nThe light was brighter\\nThe taste was sweeter\\nThe nights of wonder\\nWith friends surrounded\\nThe dawn mist glowing\\nThe water flowing\\nThe endless river\\nForever and ever\\n\""
   ]
  },
  {
   "cell_type": "code",
   "execution_count": 101,
   "id": "ahead-helmet",
   "metadata": {
    "ExecuteTime": {
     "end_time": "2021-10-11T14:42:33.512109Z",
     "start_time": "2021-10-11T14:42:33.390695Z"
    }
   },
   "outputs": [],
   "source": [
    "mother_doc = nlp(mother)\n",
    "hopes_doc = nlp(hopes)\n",
    "hey_doc = nlp(hey)"
   ]
  },
  {
   "cell_type": "code",
   "execution_count": 102,
   "id": "czech-thesaurus",
   "metadata": {
    "ExecuteTime": {
     "end_time": "2021-10-11T14:42:33.947316Z",
     "start_time": "2021-10-11T14:42:33.940333Z"
    }
   },
   "outputs": [
    {
     "name": "stdout",
     "output_type": "stream",
     "text": [
      "0.3908603353929541\n"
     ]
    },
    {
     "name": "stderr",
     "output_type": "stream",
     "text": [
      "C:\\Anaconda3\\lib\\site-packages\\ipykernel_launcher.py:1: UserWarning: [W007] The model you're using has no word vectors loaded, so the result of the Doc.similarity method will be based on the tagger, parser and NER, which may not give useful similarity judgements. This may happen if you're using one of the small models, e.g. `en_core_web_sm`, which don't ship with word vectors and only use context-sensitive tensors. You can always add your own word vectors, or use one of the larger models instead if available.\n",
      "  \"\"\"Entry point for launching an IPython kernel.\n"
     ]
    }
   ],
   "source": [
    "print(mother_doc.similarity(hopes_doc))"
   ]
  },
  {
   "cell_type": "code",
   "execution_count": 103,
   "id": "reasonable-acrylic",
   "metadata": {
    "ExecuteTime": {
     "end_time": "2021-10-11T14:42:34.808043Z",
     "start_time": "2021-10-11T14:42:34.798070Z"
    }
   },
   "outputs": [
    {
     "name": "stdout",
     "output_type": "stream",
     "text": [
      "0.8043759491830315\n"
     ]
    },
    {
     "name": "stderr",
     "output_type": "stream",
     "text": [
      "C:\\Anaconda3\\lib\\site-packages\\ipykernel_launcher.py:1: UserWarning: [W007] The model you're using has no word vectors loaded, so the result of the Doc.similarity method will be based on the tagger, parser and NER, which may not give useful similarity judgements. This may happen if you're using one of the small models, e.g. `en_core_web_sm`, which don't ship with word vectors and only use context-sensitive tensors. You can always add your own word vectors, or use one of the larger models instead if available.\n",
      "  \"\"\"Entry point for launching an IPython kernel.\n"
     ]
    }
   ],
   "source": [
    "print(mother_doc.similarity(hey_doc))"
   ]
  },
  {
   "cell_type": "code",
   "execution_count": null,
   "id": "polar-binding",
   "metadata": {},
   "outputs": [],
   "source": []
  },
  {
   "cell_type": "code",
   "execution_count": null,
   "id": "abroad-macro",
   "metadata": {},
   "outputs": [],
   "source": []
  },
  {
   "cell_type": "code",
   "execution_count": null,
   "id": "orange-parks",
   "metadata": {},
   "outputs": [],
   "source": []
  },
  {
   "cell_type": "code",
   "execution_count": null,
   "id": "continent-portfolio",
   "metadata": {},
   "outputs": [],
   "source": []
  },
  {
   "cell_type": "code",
   "execution_count": null,
   "id": "german-content",
   "metadata": {},
   "outputs": [],
   "source": []
  },
  {
   "cell_type": "code",
   "execution_count": null,
   "id": "oriental-abuse",
   "metadata": {},
   "outputs": [],
   "source": []
  },
  {
   "cell_type": "code",
   "execution_count": null,
   "id": "institutional-performer",
   "metadata": {},
   "outputs": [],
   "source": []
  },
  {
   "cell_type": "code",
   "execution_count": null,
   "id": "august-parks",
   "metadata": {},
   "outputs": [],
   "source": []
  },
  {
   "cell_type": "code",
   "execution_count": null,
   "id": "ecological-technician",
   "metadata": {},
   "outputs": [],
   "source": []
  },
  {
   "cell_type": "code",
   "execution_count": null,
   "id": "directed-muslim",
   "metadata": {},
   "outputs": [],
   "source": []
  },
  {
   "cell_type": "code",
   "execution_count": null,
   "id": "medical-wallace",
   "metadata": {},
   "outputs": [],
   "source": []
  },
  {
   "cell_type": "code",
   "execution_count": null,
   "id": "ambient-resource",
   "metadata": {},
   "outputs": [],
   "source": []
  },
  {
   "cell_type": "code",
   "execution_count": 105,
   "id": "personal-player",
   "metadata": {
    "ExecuteTime": {
     "end_time": "2021-10-11T18:31:42.429887Z",
     "start_time": "2021-10-11T18:31:42.418880Z"
    }
   },
   "outputs": [
    {
     "data": {
      "text/plain": [
       "-1213"
      ]
     },
     "execution_count": 105,
     "metadata": {},
     "output_type": "execute_result"
    }
   ],
   "source": [
    "50737-51950"
   ]
  },
  {
   "cell_type": "code",
   "execution_count": null,
   "id": "coordinated-clinic",
   "metadata": {},
   "outputs": [],
   "source": []
  }
 ],
 "metadata": {
  "kernelspec": {
   "display_name": "Python 3",
   "language": "python",
   "name": "python3"
  },
  "language_info": {
   "codemirror_mode": {
    "name": "ipython",
    "version": 3
   },
   "file_extension": ".py",
   "mimetype": "text/x-python",
   "name": "python",
   "nbconvert_exporter": "python",
   "pygments_lexer": "ipython3",
   "version": "3.6.4"
  },
  "toc": {
   "base_numbering": 1,
   "nav_menu": {},
   "number_sections": true,
   "sideBar": true,
   "skip_h1_title": false,
   "title_cell": "Table of Contents",
   "title_sidebar": "Contents",
   "toc_cell": false,
   "toc_position": {},
   "toc_section_display": true,
   "toc_window_display": false
  }
 },
 "nbformat": 4,
 "nbformat_minor": 5
}
