{
 "cells": [
  {
   "cell_type": "markdown",
   "id": "alive-gasoline",
   "metadata": {},
   "source": [
    "# Chapter 4 - Training a neural network model"
   ]
  },
  {
   "cell_type": "markdown",
   "id": "intense-intro",
   "metadata": {},
   "source": [
    "## Training a neural network model"
   ]
  },
  {
   "cell_type": "code",
   "execution_count": 7,
   "id": "constant-anatomy",
   "metadata": {
    "ExecuteTime": {
     "end_time": "2021-10-09T01:09:13.202915Z",
     "start_time": "2021-10-09T01:09:13.184923Z"
    }
   },
   "outputs": [],
   "source": [
    "import spacy\n",
    "from spacy.lang.en import English\n",
    "from spacy.tokens import Token\n",
    "from spacy.tokens import Doc, Span\n",
    "from spacy.matcher import Matcher"
   ]
  },
  {
   "cell_type": "markdown",
   "id": "adjustable-piece",
   "metadata": {},
   "source": [
    "### Creating training data (1)\n"
   ]
  },
  {
   "cell_type": "code",
   "execution_count": null,
   "id": "actual-glance",
   "metadata": {},
   "outputs": [],
   "source": [
    "# Two tokens whose lowercase forms match 'iphone' and 'x'\n",
    "pattern1 = [{'LOWER': 'iphone'}, {'LOWER': 'x'}]\n",
    "\n",
    "# Token whose lowercase form matches 'iphone' and an optional digit\n",
    "pattern2 = [{'LOWER': 'iphone'}, {'IS_DIGIT': True, 'OP': '?'}]\n",
    "\n",
    "# Add patterns to the matcher\n",
    "matcher.add('GADGET', None, pattern1, pattern2)"
   ]
  },
  {
   "cell_type": "code",
   "execution_count": 3,
   "id": "returning-stable",
   "metadata": {
    "ExecuteTime": {
     "end_time": "2021-10-09T01:06:05.994607Z",
     "start_time": "2021-10-09T01:06:05.982606Z"
    }
   },
   "outputs": [],
   "source": [
    "TEXTS = ['McDonalds is my favorite restaurant.',\n",
    " 'Here I thought @McDonalds only had precooked burgers but it seems they only have not cooked ones?? I have no time to get sick..',\n",
    " 'People really still eat McDonalds :(',\n",
    " 'The McDonalds in Spain has chicken wings. My heart is so happy ',\n",
    " '@McDonalds Please bring back the most delicious fast food sandwich of all times!!....The Arch Deluxe :P',\n",
    " 'please hurry and open. I WANT A #McRib SANDWICH SO BAD! :D',\n",
    " 'This morning i made a terrible decision by gettin mcdonalds and now my stomach is payin for it']"
   ]
  },
  {
   "cell_type": "code",
   "execution_count": 5,
   "id": "theoretical-clerk",
   "metadata": {
    "ExecuteTime": {
     "end_time": "2021-10-09T01:08:37.490087Z",
     "start_time": "2021-10-09T01:08:36.338056Z"
    }
   },
   "outputs": [],
   "source": [
    "nlp = spacy.load(\"en_core_web_md\")"
   ]
  },
  {
   "cell_type": "code",
   "execution_count": 10,
   "id": "personalized-press",
   "metadata": {
    "ExecuteTime": {
     "end_time": "2021-10-09T01:10:11.403385Z",
     "start_time": "2021-10-09T01:10:11.372467Z"
    }
   },
   "outputs": [
    {
     "name": "stdout",
     "output_type": "stream",
     "text": [
      "McDonalds is my favorite restaurant. []\n",
      "Here I thought @McDonalds only had precooked burgers but it seems they only have not cooked ones?? I have no time to get sick.. []\n",
      "People really still eat McDonalds :( []\n",
      "The McDonalds in Spain has chicken wings. My heart is so happy  []\n",
      "@McDonalds Please bring back the most delicious fast food sandwich of all times!!....The Arch Deluxe :P []\n",
      "please hurry and open. I WANT A #McRib SANDWICH SO BAD! :D []\n",
      "This morning i made a terrible decision by gettin mcdonalds and now my stomach is payin for it []\n"
     ]
    },
    {
     "name": "stderr",
     "output_type": "stream",
     "text": [
      "C:\\Anaconda3\\lib\\site-packages\\ipykernel_launcher.py:6: UserWarning: [W036] The component 'matcher' does not have any patterns defined.\n",
      "  \n"
     ]
    }
   ],
   "source": [
    "matcher = Matcher(nlp.vocab)\n",
    "\n",
    "# Create a Doc object for each text in TEXTS\n",
    "for doc in nlp.pipe(TEXTS):\n",
    "    # Find the matches in the doc\n",
    "    matches = matcher(doc)\n",
    "    \n",
    "    # Get a list of (start, end, label) tuples of matches in the text\n",
    "    entities = [(start, end, 'GADGET') for match_id, start, end in matches]\n",
    "    print(doc.text, entities)   "
   ]
  },
  {
   "cell_type": "code",
   "execution_count": 11,
   "id": "another-instruction",
   "metadata": {
    "ExecuteTime": {
     "end_time": "2021-10-09T14:31:59.995180Z",
     "start_time": "2021-10-09T14:31:59.948307Z"
    }
   },
   "outputs": [
    {
     "name": "stdout",
     "output_type": "stream",
     "text": [
      "('McDonalds is my favorite restaurant.', {'entities': []})\n",
      "('Here I thought @McDonalds only had precooked burgers but it seems they only have not cooked ones?? I have no time to get sick..', {'entities': []})\n",
      "('People really still eat McDonalds :(', {'entities': []})\n",
      "('The McDonalds in Spain has chicken wings. My heart is so happy ', {'entities': []})\n",
      "('@McDonalds Please bring back the most delicious fast food sandwich of all times!!....The Arch Deluxe :P', {'entities': []})\n",
      "('please hurry and open. I WANT A #McRib SANDWICH SO BAD! :D', {'entities': []})\n",
      "('This morning i made a terrible decision by gettin mcdonalds and now my stomach is payin for it', {'entities': []})\n"
     ]
    },
    {
     "name": "stderr",
     "output_type": "stream",
     "text": [
      "C:\\Anaconda3\\lib\\site-packages\\ipykernel_launcher.py:6: UserWarning: [W036] The component 'matcher' does not have any patterns defined.\n",
      "  \n"
     ]
    }
   ],
   "source": [
    "TRAINING_DATA = []\n",
    "\n",
    "# Create a Doc object for each text in TEXTS\n",
    "for doc in nlp.pipe(TEXTS):\n",
    "    # Match on the doc and create a list of matched spans\n",
    "    spans = [doc[start:end] for match_id, start, end in matcher(doc)]\n",
    "    # Get (start character, end character, label) tuples of matches\n",
    "    entities = [(span.start_char, span.end_char, 'GADGET') for span in spans]\n",
    "    \n",
    "    # Format the matches as a (doc.text, entities) tuple\n",
    "    training_example = (doc.text, {'entities': entities})\n",
    "    # Append the example to the training data\n",
    "    TRAINING_DATA.append(training_example)\n",
    "    \n",
    "print(*TRAINING_DATA, sep='\\n')    "
   ]
  },
  {
   "cell_type": "markdown",
   "id": "historical-original",
   "metadata": {},
   "source": [
    "## The training loop"
   ]
  },
  {
   "cell_type": "markdown",
   "id": "measured-copying",
   "metadata": {},
   "source": [
    "### Setting up the pipeline"
   ]
  },
  {
   "cell_type": "code",
   "execution_count": 17,
   "id": "professional-climb",
   "metadata": {
    "ExecuteTime": {
     "end_time": "2021-10-09T14:43:47.022610Z",
     "start_time": "2021-10-09T14:43:46.671583Z"
    }
   },
   "outputs": [
    {
     "data": {
      "text/plain": [
       "<spacy.pipeline.ner.EntityRecognizer at 0x203be15dad8>"
      ]
     },
     "execution_count": 17,
     "metadata": {},
     "output_type": "execute_result"
    }
   ],
   "source": [
    "# Create a blank 'en' model\n",
    "nlp = spacy.blank('en')\n",
    "\n",
    "# Create a new entity recognizer and add it to the pipeline\n",
    "ner = nlp.create_pipe('ner')\n",
    "nlp.add_pipe(\"ner\",'GADGET')\n",
    "\n",
    "# Add the label 'GADGET' to the entity recognizer\n",
    "#nlp.add_label('GADGET')"
   ]
  },
  {
   "cell_type": "markdown",
   "id": "tested-nitrogen",
   "metadata": {},
   "source": [
    "### Building a training loop\n"
   ]
  },
  {
   "cell_type": "code",
   "execution_count": 27,
   "id": "original-resolution",
   "metadata": {
    "ExecuteTime": {
     "end_time": "2021-10-09T14:49:41.676307Z",
     "start_time": "2021-10-09T14:49:41.667040Z"
    }
   },
   "outputs": [],
   "source": [
    "import random\n",
    "from spacy.training.example import Example"
   ]
  },
  {
   "cell_type": "code",
   "execution_count": null,
   "id": "animated-matthew",
   "metadata": {
    "ExecuteTime": {
     "start_time": "2021-10-09T14:51:48.603Z"
    }
   },
   "outputs": [],
   "source": [
    "import random\n",
    "from spacy.training.example import Example\n",
    "\n",
    "for batch in spacy.util.minibatch(TRAINING_DATA, size=2):\n",
    "    for text, annotations in batch:\n",
    "        # create Example\n",
    "        doc = nlp.make_doc(text)\n",
    "        example = Example.from_dict(doc, annotations)\n",
    "        # Update the model\n",
    "        nlp.update([example], losses=losses, drop=0.3)"
   ]
  },
  {
   "cell_type": "code",
   "execution_count": null,
   "id": "earned-vertical",
   "metadata": {},
   "outputs": [],
   "source": [
    "# Process each text in TEST_DATA\n",
    "for doc in nlp.pipe(TEST_DATA):\n",
    "    # Print the document text and entitites\n",
    "    print(doc.text)\n",
    "    print(doc.ents, '\\n\\n')"
   ]
  },
  {
   "cell_type": "markdown",
   "id": "framed-teacher",
   "metadata": {},
   "source": [
    "## Training best practices"
   ]
  },
  {
   "cell_type": "code",
   "execution_count": null,
   "id": "juvenile-banks",
   "metadata": {},
   "outputs": [],
   "source": []
  },
  {
   "cell_type": "code",
   "execution_count": null,
   "id": "brief-beast",
   "metadata": {},
   "outputs": [],
   "source": []
  },
  {
   "cell_type": "code",
   "execution_count": null,
   "id": "integrated-requirement",
   "metadata": {},
   "outputs": [],
   "source": []
  },
  {
   "cell_type": "code",
   "execution_count": null,
   "id": "honest-bench",
   "metadata": {},
   "outputs": [],
   "source": []
  },
  {
   "cell_type": "code",
   "execution_count": null,
   "id": "decreased-consent",
   "metadata": {},
   "outputs": [],
   "source": []
  },
  {
   "cell_type": "code",
   "execution_count": null,
   "id": "consolidated-female",
   "metadata": {},
   "outputs": [],
   "source": []
  },
  {
   "cell_type": "code",
   "execution_count": null,
   "id": "sensitive-noise",
   "metadata": {},
   "outputs": [],
   "source": []
  },
  {
   "cell_type": "code",
   "execution_count": null,
   "id": "large-university",
   "metadata": {},
   "outputs": [],
   "source": []
  },
  {
   "cell_type": "code",
   "execution_count": null,
   "id": "attempted-morgan",
   "metadata": {},
   "outputs": [],
   "source": []
  },
  {
   "cell_type": "code",
   "execution_count": null,
   "id": "satisfactory-clark",
   "metadata": {},
   "outputs": [],
   "source": []
  },
  {
   "cell_type": "code",
   "execution_count": null,
   "id": "executive-winning",
   "metadata": {},
   "outputs": [],
   "source": []
  },
  {
   "cell_type": "code",
   "execution_count": null,
   "id": "imposed-toronto",
   "metadata": {},
   "outputs": [],
   "source": []
  },
  {
   "cell_type": "code",
   "execution_count": null,
   "id": "effective-sperm",
   "metadata": {},
   "outputs": [],
   "source": []
  },
  {
   "cell_type": "code",
   "execution_count": null,
   "id": "wrong-breakfast",
   "metadata": {},
   "outputs": [],
   "source": []
  },
  {
   "cell_type": "code",
   "execution_count": null,
   "id": "union-grant",
   "metadata": {},
   "outputs": [],
   "source": []
  },
  {
   "cell_type": "code",
   "execution_count": null,
   "id": "australian-cholesterol",
   "metadata": {},
   "outputs": [],
   "source": []
  },
  {
   "cell_type": "code",
   "execution_count": null,
   "id": "missing-secretary",
   "metadata": {},
   "outputs": [],
   "source": []
  },
  {
   "cell_type": "code",
   "execution_count": null,
   "id": "agreed-advancement",
   "metadata": {},
   "outputs": [],
   "source": []
  },
  {
   "cell_type": "code",
   "execution_count": null,
   "id": "micro-wallet",
   "metadata": {},
   "outputs": [],
   "source": []
  },
  {
   "cell_type": "code",
   "execution_count": null,
   "id": "stretch-bikini",
   "metadata": {},
   "outputs": [],
   "source": []
  },
  {
   "cell_type": "code",
   "execution_count": null,
   "id": "nearby-passion",
   "metadata": {},
   "outputs": [],
   "source": []
  },
  {
   "cell_type": "code",
   "execution_count": null,
   "id": "accessible-herald",
   "metadata": {},
   "outputs": [],
   "source": []
  },
  {
   "cell_type": "code",
   "execution_count": null,
   "id": "rational-crack",
   "metadata": {},
   "outputs": [],
   "source": []
  },
  {
   "cell_type": "code",
   "execution_count": null,
   "id": "understood-public",
   "metadata": {},
   "outputs": [],
   "source": []
  },
  {
   "cell_type": "code",
   "execution_count": null,
   "id": "convinced-julian",
   "metadata": {},
   "outputs": [],
   "source": []
  },
  {
   "cell_type": "code",
   "execution_count": null,
   "id": "eight-wilson",
   "metadata": {},
   "outputs": [],
   "source": []
  },
  {
   "cell_type": "code",
   "execution_count": null,
   "id": "choice-amsterdam",
   "metadata": {},
   "outputs": [],
   "source": []
  },
  {
   "cell_type": "code",
   "execution_count": null,
   "id": "dedicated-correction",
   "metadata": {},
   "outputs": [],
   "source": []
  },
  {
   "cell_type": "code",
   "execution_count": null,
   "id": "downtown-steps",
   "metadata": {},
   "outputs": [],
   "source": []
  },
  {
   "cell_type": "code",
   "execution_count": null,
   "id": "weird-thumb",
   "metadata": {},
   "outputs": [],
   "source": []
  },
  {
   "cell_type": "code",
   "execution_count": null,
   "id": "desperate-amendment",
   "metadata": {},
   "outputs": [],
   "source": []
  },
  {
   "cell_type": "code",
   "execution_count": null,
   "id": "christian-injury",
   "metadata": {},
   "outputs": [],
   "source": []
  }
 ],
 "metadata": {
  "kernelspec": {
   "display_name": "Python 3",
   "language": "python",
   "name": "python3"
  },
  "language_info": {
   "codemirror_mode": {
    "name": "ipython",
    "version": 3
   },
   "file_extension": ".py",
   "mimetype": "text/x-python",
   "name": "python",
   "nbconvert_exporter": "python",
   "pygments_lexer": "ipython3",
   "version": "3.6.4"
  },
  "toc": {
   "base_numbering": 1,
   "nav_menu": {},
   "number_sections": true,
   "sideBar": true,
   "skip_h1_title": false,
   "title_cell": "Table of Contents",
   "title_sidebar": "Contents",
   "toc_cell": false,
   "toc_position": {},
   "toc_section_display": true,
   "toc_window_display": false
  }
 },
 "nbformat": 4,
 "nbformat_minor": 5
}
