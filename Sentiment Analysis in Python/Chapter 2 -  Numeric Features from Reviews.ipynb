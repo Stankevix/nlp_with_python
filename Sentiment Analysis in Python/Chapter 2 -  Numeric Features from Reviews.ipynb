{
 "cells": [
  {
   "cell_type": "markdown",
   "id": "limited-following",
   "metadata": {},
   "source": [
    "# Chapter 2"
   ]
  },
  {
   "cell_type": "markdown",
   "id": "short-wrong",
   "metadata": {},
   "source": [
    "## Bag of Words"
   ]
  },
  {
   "cell_type": "markdown",
   "id": "adolescent-trance",
   "metadata": {},
   "source": [
    "**O que é um saco de palavras (BOW)?**\n",
    "\n",
    "Começamos com um método básico e bruto, mas geralmente bastante útil, chamado saco de palavras (BOW). Uma abordagem de saco de palavras descreve a ocorrência, ou frequência, de palavras em um documento ou em uma coleção de documentos (chamada corpus). Basicamente, trata-se de construir um vocabulário de todas as palavras que ocorrem no documento e manter o controle de suas frequências.\n",
    "\n",
    "\n",
    "Antes de continuarmos com a discussão sobre BOW, apresentaremos os dados que usaremos ao longo do capítulo, ou seja, análises de produtos da Amazon. \n",
    "\n",
    "O conjunto de dados consiste em duas colunas: \n",
    "\n",
    "* a primeira contém a pontuação, que é 1 se positiva e 0 se negativa\n",
    "* A segunda coluna contém a revisão real do produto.\n"
   ]
  },
  {
   "cell_type": "code",
   "execution_count": 1,
   "id": "forward-refund",
   "metadata": {
    "ExecuteTime": {
     "end_time": "2021-09-21T22:13:03.040367Z",
     "start_time": "2021-09-21T22:13:01.385723Z"
    }
   },
   "outputs": [],
   "source": [
    "import pandas as pd"
   ]
  },
  {
   "cell_type": "code",
   "execution_count": 10,
   "id": "intelligent-starter",
   "metadata": {
    "ExecuteTime": {
     "end_time": "2021-09-21T22:20:52.320478Z",
     "start_time": "2021-09-21T22:20:52.264417Z"
    }
   },
   "outputs": [],
   "source": [
    "df = pd.read_csv('dataset/amazon_reviews_sample.csv')"
   ]
  },
  {
   "cell_type": "code",
   "execution_count": 11,
   "id": "cardiovascular-question",
   "metadata": {
    "ExecuteTime": {
     "end_time": "2021-09-21T22:20:52.848047Z",
     "start_time": "2021-09-21T22:20:52.828100Z"
    }
   },
   "outputs": [
    {
     "data": {
      "text/html": [
       "<div>\n",
       "<style scoped>\n",
       "    .dataframe tbody tr th:only-of-type {\n",
       "        vertical-align: middle;\n",
       "    }\n",
       "\n",
       "    .dataframe tbody tr th {\n",
       "        vertical-align: top;\n",
       "    }\n",
       "\n",
       "    .dataframe thead th {\n",
       "        text-align: right;\n",
       "    }\n",
       "</style>\n",
       "<table border=\"1\" class=\"dataframe\">\n",
       "  <thead>\n",
       "    <tr style=\"text-align: right;\">\n",
       "      <th></th>\n",
       "      <th>Unnamed: 0</th>\n",
       "      <th>score</th>\n",
       "      <th>review</th>\n",
       "    </tr>\n",
       "  </thead>\n",
       "  <tbody>\n",
       "    <tr>\n",
       "      <th>0</th>\n",
       "      <td>0</td>\n",
       "      <td>1</td>\n",
       "      <td>Stuning even for the non-gamer: This sound tr...</td>\n",
       "    </tr>\n",
       "    <tr>\n",
       "      <th>1</th>\n",
       "      <td>1</td>\n",
       "      <td>1</td>\n",
       "      <td>The best soundtrack ever to anything.: I'm re...</td>\n",
       "    </tr>\n",
       "    <tr>\n",
       "      <th>2</th>\n",
       "      <td>2</td>\n",
       "      <td>1</td>\n",
       "      <td>Amazing!: This soundtrack is my favorite musi...</td>\n",
       "    </tr>\n",
       "    <tr>\n",
       "      <th>3</th>\n",
       "      <td>3</td>\n",
       "      <td>1</td>\n",
       "      <td>Excellent Soundtrack: I truly like this sound...</td>\n",
       "    </tr>\n",
       "    <tr>\n",
       "      <th>4</th>\n",
       "      <td>4</td>\n",
       "      <td>1</td>\n",
       "      <td>Remember, Pull Your Jaw Off The Floor After H...</td>\n",
       "    </tr>\n",
       "  </tbody>\n",
       "</table>\n",
       "</div>"
      ],
      "text/plain": [
       "   Unnamed: 0  score                                             review\n",
       "0           0      1   Stuning even for the non-gamer: This sound tr...\n",
       "1           1      1   The best soundtrack ever to anything.: I'm re...\n",
       "2           2      1   Amazing!: This soundtrack is my favorite musi...\n",
       "3           3      1   Excellent Soundtrack: I truly like this sound...\n",
       "4           4      1   Remember, Pull Your Jaw Off The Floor After H..."
      ]
     },
     "execution_count": 11,
     "metadata": {},
     "output_type": "execute_result"
    }
   ],
   "source": [
    "df.head()"
   ]
  },
  {
   "cell_type": "markdown",
   "id": "amber-excellence",
   "metadata": {},
   "source": [
    "**Análise de sentimento com BOW: Exemplo**\n",
    "\n",
    "\n",
    "Imagine que você tenha a seguinte string: \n",
    "\n",
    "\"This is the best book ever. I loved the book and highly recommend it!!!\"\n",
    "\n",
    "O objetivo de uma abordagem BOW seria construir a seguinte saída semelhante a um dicionário: \n",
    "\n",
    "* 'This', ocorre uma vez em nossa string, então tem uma contagem de 1, \n",
    "* 'is' ocorre uma vez, \n",
    "* 'the' ocorre duas vezes e assim por diante . \n",
    "\n",
    "Uma coisa a notar é que perdemos a ordem das palavras e as regras gramaticais, é por isso que esta abordagem é chamada de \"saco\" de palavras, semelhante a jogar um monte de itens em um saco e perder qualquer sentido de sua ordem. Isso parece simples, mas às vezes decidir como construir o vocabulário pode ser complexo. Discutimos algumas das compensações que precisamos considerar em capítulos posteriores."
   ]
  },
  {
   "attachments": {
    "image.png": {
     "image/png": "[encoded data removed]"
    }
   },
   "cell_type": "markdown",
   "id": "going-permit",
   "metadata": {},
   "source": [
    "**Resultado final da BOW**\n",
    "\n",
    "Quando transformamos a coluna de texto com um BOW, o resultado final se parece com a tabela que vemos: \n",
    "\n",
    "\n",
    "![image.png](attachment:image.png)\n",
    "\n",
    "onde a coluna é a palavra (também chamada de token), e a linha representa quantas vezes a encontramos na respectiva revisão.\n",
    "\n",
    "**Função CountVectorizer**\n",
    "\n",
    "Como executamos um processo BOW em Python? \n",
    "\n",
    "A maneira mais simples de fazer isso é usando o CountVectorizer da biblioteca de texto no submódulo sklearn.feature_extraction. \n",
    "\n",
    "* Em Python, importamos o `CountVectorizer ()` de `sklearn.feature_extraction.text`. \n",
    "* Na função CountVectorizer, por enquanto deixamos as opções funcionais padrão, exceto para o argumento max_features, que considera apenas os recursos com maior frequência de termo, ou seja, ele escolherá as 1000 palavras mais frequentes em todo o corpus de avaliações. \n",
    "    * Precisamos fazer isso às vezes por causa do consumo de memória. \n",
    "* Usamos o método `fit ()` do CountVectorizer, chamando `fit ()` em nossa coluna de texto. \n",
    "* Para criar uma representação BOW, chamamos o método `transform ()`, aplicado novamente à nossa coluna de texto."
   ]
  },
  {
   "cell_type": "code",
   "execution_count": 9,
   "id": "amended-raleigh",
   "metadata": {
    "ExecuteTime": {
     "end_time": "2021-09-21T22:20:03.088257Z",
     "start_time": "2021-09-21T22:20:03.078256Z"
    }
   },
   "outputs": [],
   "source": [
    "from sklearn.feature_extraction.text import CountVectorizer"
   ]
  },
  {
   "cell_type": "code",
   "execution_count": 12,
   "id": "extraordinary-white",
   "metadata": {
    "ExecuteTime": {
     "end_time": "2021-09-21T22:21:01.923796Z",
     "start_time": "2021-09-21T22:21:01.281380Z"
    }
   },
   "outputs": [
    {
     "data": {
      "text/plain": [
       "CountVectorizer(max_features=1000)"
      ]
     },
     "execution_count": 12,
     "metadata": {},
     "output_type": "execute_result"
    }
   ],
   "source": [
    "vect = CountVectorizer(max_features=1000)\n",
    "vect.fit(df['review'])"
   ]
  },
  {
   "cell_type": "code",
   "execution_count": 13,
   "id": "defensive-salvation",
   "metadata": {
    "ExecuteTime": {
     "end_time": "2021-09-21T22:21:19.649024Z",
     "start_time": "2021-09-21T22:21:19.040461Z"
    }
   },
   "outputs": [],
   "source": [
    "X = vect.transform(df['review'])"
   ]
  },
  {
   "cell_type": "code",
   "execution_count": 14,
   "id": "centered-asset",
   "metadata": {
    "ExecuteTime": {
     "end_time": "2021-09-21T22:23:36.982177Z",
     "start_time": "2021-09-21T22:23:36.963081Z"
    }
   },
   "outputs": [
    {
     "data": {
      "text/plain": [
       "<10000x1000 sparse matrix of type '<class 'numpy.int64'>'\n",
       "\twith 406668 stored elements in Compressed Sparse Row format>"
      ]
     },
     "execution_count": 14,
     "metadata": {},
     "output_type": "execute_result"
    }
   ],
   "source": [
    "X"
   ]
  },
  {
   "cell_type": "markdown",
   "id": "minus-nature",
   "metadata": {},
   "source": [
    "O resultado é uma matriz esparsa. \n",
    "Uma matriz esparsa armazena apenas entidades diferentes de zero, onde as linhas correspondem ao número de linhas no conjunto de dados e as colunas ao vocabulário BOW.\n",
    "\n",
    "**Transformando o vetorizador**\n",
    "\n",
    "Para examinar o conteúdo real de uma matriz esparsa, precisamos realizar uma etapa adicional para transformá-la de volta em uma matriz NumPy 'densa', usando o método `.toarray ()`. Podemos construir um DataFrame do pandas a partir do array, onde os nomes das colunas são obtidos do método `.get_feature_names ()` do vetorizador. Isso retorna uma lista onde cada entrada corresponde a um recurso."
   ]
  },
  {
   "cell_type": "code",
   "execution_count": 15,
   "id": "accomplished-telescope",
   "metadata": {
    "ExecuteTime": {
     "end_time": "2021-09-21T22:24:03.314243Z",
     "start_time": "2021-09-21T22:24:03.289278Z"
    }
   },
   "outputs": [],
   "source": [
    "my_array = X.toarray()"
   ]
  },
  {
   "cell_type": "code",
   "execution_count": 17,
   "id": "durable-broadcast",
   "metadata": {
    "ExecuteTime": {
     "end_time": "2021-09-21T22:24:35.412269Z",
     "start_time": "2021-09-21T22:24:35.395315Z"
    }
   },
   "outputs": [],
   "source": [
    "X_df = pd.DataFrame(my_array, columns= vect.get_feature_names())"
   ]
  },
  {
   "cell_type": "code",
   "execution_count": 18,
   "id": "induced-fourth",
   "metadata": {
    "ExecuteTime": {
     "end_time": "2021-09-21T22:24:38.867688Z",
     "start_time": "2021-09-21T22:24:38.844752Z"
    }
   },
   "outputs": [
    {
     "data": {
      "text/html": [
       "<div>\n",
       "<style scoped>\n",
       "    .dataframe tbody tr th:only-of-type {\n",
       "        vertical-align: middle;\n",
       "    }\n",
       "\n",
       "    .dataframe tbody tr th {\n",
       "        vertical-align: top;\n",
       "    }\n",
       "\n",
       "    .dataframe thead th {\n",
       "        text-align: right;\n",
       "    }\n",
       "</style>\n",
       "<table border=\"1\" class=\"dataframe\">\n",
       "  <thead>\n",
       "    <tr style=\"text-align: right;\">\n",
       "      <th></th>\n",
       "      <th>10</th>\n",
       "      <th>100</th>\n",
       "      <th>12</th>\n",
       "      <th>15</th>\n",
       "      <th>1984</th>\n",
       "      <th>20</th>\n",
       "      <th>30</th>\n",
       "      <th>40</th>\n",
       "      <th>451</th>\n",
       "      <th>50</th>\n",
       "      <th>...</th>\n",
       "      <th>wrong</th>\n",
       "      <th>wrote</th>\n",
       "      <th>year</th>\n",
       "      <th>years</th>\n",
       "      <th>yes</th>\n",
       "      <th>yet</th>\n",
       "      <th>you</th>\n",
       "      <th>young</th>\n",
       "      <th>your</th>\n",
       "      <th>yourself</th>\n",
       "    </tr>\n",
       "  </thead>\n",
       "  <tbody>\n",
       "    <tr>\n",
       "      <th>0</th>\n",
       "      <td>0</td>\n",
       "      <td>0</td>\n",
       "      <td>0</td>\n",
       "      <td>0</td>\n",
       "      <td>0</td>\n",
       "      <td>0</td>\n",
       "      <td>0</td>\n",
       "      <td>0</td>\n",
       "      <td>0</td>\n",
       "      <td>0</td>\n",
       "      <td>...</td>\n",
       "      <td>0</td>\n",
       "      <td>0</td>\n",
       "      <td>0</td>\n",
       "      <td>0</td>\n",
       "      <td>0</td>\n",
       "      <td>0</td>\n",
       "      <td>0</td>\n",
       "      <td>0</td>\n",
       "      <td>1</td>\n",
       "      <td>0</td>\n",
       "    </tr>\n",
       "    <tr>\n",
       "      <th>1</th>\n",
       "      <td>0</td>\n",
       "      <td>0</td>\n",
       "      <td>0</td>\n",
       "      <td>0</td>\n",
       "      <td>0</td>\n",
       "      <td>0</td>\n",
       "      <td>0</td>\n",
       "      <td>0</td>\n",
       "      <td>0</td>\n",
       "      <td>0</td>\n",
       "      <td>...</td>\n",
       "      <td>0</td>\n",
       "      <td>0</td>\n",
       "      <td>0</td>\n",
       "      <td>1</td>\n",
       "      <td>0</td>\n",
       "      <td>0</td>\n",
       "      <td>1</td>\n",
       "      <td>0</td>\n",
       "      <td>0</td>\n",
       "      <td>0</td>\n",
       "    </tr>\n",
       "    <tr>\n",
       "      <th>2</th>\n",
       "      <td>0</td>\n",
       "      <td>0</td>\n",
       "      <td>0</td>\n",
       "      <td>0</td>\n",
       "      <td>0</td>\n",
       "      <td>0</td>\n",
       "      <td>0</td>\n",
       "      <td>0</td>\n",
       "      <td>0</td>\n",
       "      <td>0</td>\n",
       "      <td>...</td>\n",
       "      <td>0</td>\n",
       "      <td>0</td>\n",
       "      <td>0</td>\n",
       "      <td>1</td>\n",
       "      <td>0</td>\n",
       "      <td>0</td>\n",
       "      <td>2</td>\n",
       "      <td>0</td>\n",
       "      <td>0</td>\n",
       "      <td>0</td>\n",
       "    </tr>\n",
       "    <tr>\n",
       "      <th>3</th>\n",
       "      <td>0</td>\n",
       "      <td>0</td>\n",
       "      <td>0</td>\n",
       "      <td>0</td>\n",
       "      <td>0</td>\n",
       "      <td>0</td>\n",
       "      <td>0</td>\n",
       "      <td>0</td>\n",
       "      <td>0</td>\n",
       "      <td>0</td>\n",
       "      <td>...</td>\n",
       "      <td>0</td>\n",
       "      <td>0</td>\n",
       "      <td>0</td>\n",
       "      <td>0</td>\n",
       "      <td>0</td>\n",
       "      <td>0</td>\n",
       "      <td>0</td>\n",
       "      <td>0</td>\n",
       "      <td>0</td>\n",
       "      <td>0</td>\n",
       "    </tr>\n",
       "    <tr>\n",
       "      <th>4</th>\n",
       "      <td>0</td>\n",
       "      <td>0</td>\n",
       "      <td>0</td>\n",
       "      <td>0</td>\n",
       "      <td>0</td>\n",
       "      <td>0</td>\n",
       "      <td>0</td>\n",
       "      <td>0</td>\n",
       "      <td>0</td>\n",
       "      <td>0</td>\n",
       "      <td>...</td>\n",
       "      <td>0</td>\n",
       "      <td>1</td>\n",
       "      <td>0</td>\n",
       "      <td>0</td>\n",
       "      <td>0</td>\n",
       "      <td>0</td>\n",
       "      <td>3</td>\n",
       "      <td>0</td>\n",
       "      <td>1</td>\n",
       "      <td>0</td>\n",
       "    </tr>\n",
       "    <tr>\n",
       "      <th>...</th>\n",
       "      <td>...</td>\n",
       "      <td>...</td>\n",
       "      <td>...</td>\n",
       "      <td>...</td>\n",
       "      <td>...</td>\n",
       "      <td>...</td>\n",
       "      <td>...</td>\n",
       "      <td>...</td>\n",
       "      <td>...</td>\n",
       "      <td>...</td>\n",
       "      <td>...</td>\n",
       "      <td>...</td>\n",
       "      <td>...</td>\n",
       "      <td>...</td>\n",
       "      <td>...</td>\n",
       "      <td>...</td>\n",
       "      <td>...</td>\n",
       "      <td>...</td>\n",
       "      <td>...</td>\n",
       "      <td>...</td>\n",
       "      <td>...</td>\n",
       "    </tr>\n",
       "    <tr>\n",
       "      <th>9995</th>\n",
       "      <td>0</td>\n",
       "      <td>0</td>\n",
       "      <td>0</td>\n",
       "      <td>0</td>\n",
       "      <td>0</td>\n",
       "      <td>0</td>\n",
       "      <td>0</td>\n",
       "      <td>0</td>\n",
       "      <td>0</td>\n",
       "      <td>0</td>\n",
       "      <td>...</td>\n",
       "      <td>0</td>\n",
       "      <td>0</td>\n",
       "      <td>0</td>\n",
       "      <td>0</td>\n",
       "      <td>0</td>\n",
       "      <td>0</td>\n",
       "      <td>0</td>\n",
       "      <td>0</td>\n",
       "      <td>0</td>\n",
       "      <td>0</td>\n",
       "    </tr>\n",
       "    <tr>\n",
       "      <th>9996</th>\n",
       "      <td>0</td>\n",
       "      <td>0</td>\n",
       "      <td>0</td>\n",
       "      <td>0</td>\n",
       "      <td>0</td>\n",
       "      <td>0</td>\n",
       "      <td>0</td>\n",
       "      <td>0</td>\n",
       "      <td>0</td>\n",
       "      <td>0</td>\n",
       "      <td>...</td>\n",
       "      <td>0</td>\n",
       "      <td>0</td>\n",
       "      <td>0</td>\n",
       "      <td>0</td>\n",
       "      <td>0</td>\n",
       "      <td>0</td>\n",
       "      <td>0</td>\n",
       "      <td>0</td>\n",
       "      <td>0</td>\n",
       "      <td>0</td>\n",
       "    </tr>\n",
       "    <tr>\n",
       "      <th>9997</th>\n",
       "      <td>0</td>\n",
       "      <td>0</td>\n",
       "      <td>0</td>\n",
       "      <td>0</td>\n",
       "      <td>0</td>\n",
       "      <td>0</td>\n",
       "      <td>0</td>\n",
       "      <td>0</td>\n",
       "      <td>0</td>\n",
       "      <td>0</td>\n",
       "      <td>...</td>\n",
       "      <td>0</td>\n",
       "      <td>0</td>\n",
       "      <td>0</td>\n",
       "      <td>0</td>\n",
       "      <td>0</td>\n",
       "      <td>0</td>\n",
       "      <td>1</td>\n",
       "      <td>0</td>\n",
       "      <td>0</td>\n",
       "      <td>0</td>\n",
       "    </tr>\n",
       "    <tr>\n",
       "      <th>9998</th>\n",
       "      <td>0</td>\n",
       "      <td>0</td>\n",
       "      <td>0</td>\n",
       "      <td>0</td>\n",
       "      <td>0</td>\n",
       "      <td>0</td>\n",
       "      <td>0</td>\n",
       "      <td>0</td>\n",
       "      <td>0</td>\n",
       "      <td>0</td>\n",
       "      <td>...</td>\n",
       "      <td>0</td>\n",
       "      <td>0</td>\n",
       "      <td>0</td>\n",
       "      <td>0</td>\n",
       "      <td>0</td>\n",
       "      <td>0</td>\n",
       "      <td>0</td>\n",
       "      <td>0</td>\n",
       "      <td>0</td>\n",
       "      <td>0</td>\n",
       "    </tr>\n",
       "    <tr>\n",
       "      <th>9999</th>\n",
       "      <td>0</td>\n",
       "      <td>0</td>\n",
       "      <td>0</td>\n",
       "      <td>0</td>\n",
       "      <td>0</td>\n",
       "      <td>0</td>\n",
       "      <td>0</td>\n",
       "      <td>0</td>\n",
       "      <td>0</td>\n",
       "      <td>0</td>\n",
       "      <td>...</td>\n",
       "      <td>0</td>\n",
       "      <td>0</td>\n",
       "      <td>0</td>\n",
       "      <td>0</td>\n",
       "      <td>0</td>\n",
       "      <td>0</td>\n",
       "      <td>0</td>\n",
       "      <td>0</td>\n",
       "      <td>0</td>\n",
       "      <td>0</td>\n",
       "    </tr>\n",
       "  </tbody>\n",
       "</table>\n",
       "<p>10000 rows × 1000 columns</p>\n",
       "</div>"
      ],
      "text/plain": [
       "      10  100  12  15  1984  20  30  40  451  50  ...  wrong  wrote  year  \\\n",
       "0      0    0   0   0     0   0   0   0    0   0  ...      0      0     0   \n",
       "1      0    0   0   0     0   0   0   0    0   0  ...      0      0     0   \n",
       "2      0    0   0   0     0   0   0   0    0   0  ...      0      0     0   \n",
       "3      0    0   0   0     0   0   0   0    0   0  ...      0      0     0   \n",
       "4      0    0   0   0     0   0   0   0    0   0  ...      0      1     0   \n",
       "...   ..  ...  ..  ..   ...  ..  ..  ..  ...  ..  ...    ...    ...   ...   \n",
       "9995   0    0   0   0     0   0   0   0    0   0  ...      0      0     0   \n",
       "9996   0    0   0   0     0   0   0   0    0   0  ...      0      0     0   \n",
       "9997   0    0   0   0     0   0   0   0    0   0  ...      0      0     0   \n",
       "9998   0    0   0   0     0   0   0   0    0   0  ...      0      0     0   \n",
       "9999   0    0   0   0     0   0   0   0    0   0  ...      0      0     0   \n",
       "\n",
       "      years  yes  yet  you  young  your  yourself  \n",
       "0         0    0    0    0      0     1         0  \n",
       "1         1    0    0    1      0     0         0  \n",
       "2         1    0    0    2      0     0         0  \n",
       "3         0    0    0    0      0     0         0  \n",
       "4         0    0    0    3      0     1         0  \n",
       "...     ...  ...  ...  ...    ...   ...       ...  \n",
       "9995      0    0    0    0      0     0         0  \n",
       "9996      0    0    0    0      0     0         0  \n",
       "9997      0    0    0    1      0     0         0  \n",
       "9998      0    0    0    0      0     0         0  \n",
       "9999      0    0    0    0      0     0         0  \n",
       "\n",
       "[10000 rows x 1000 columns]"
      ]
     },
     "execution_count": 18,
     "metadata": {},
     "output_type": "execute_result"
    }
   ],
   "source": [
    "X_df"
   ]
  },
  {
   "cell_type": "markdown",
   "id": "crude-structure",
   "metadata": {},
   "source": [
    "### Your first BOW"
   ]
  },
  {
   "cell_type": "code",
   "execution_count": 19,
   "id": "intense-vector",
   "metadata": {
    "ExecuteTime": {
     "end_time": "2021-09-21T22:26:43.070735Z",
     "start_time": "2021-09-21T22:26:43.056776Z"
    }
   },
   "outputs": [
    {
     "name": "stdout",
     "output_type": "stream",
     "text": [
      "[[1 1 1 0 1 0 1 0 0 0 0 0 0]\n",
      " [0 0 0 1 0 1 0 1 1 1 1 2 1]]\n"
     ]
    }
   ],
   "source": [
    "annak = ['Happy families are all alike;', 'every unhappy family is unhappy in its own way']\n",
    "\n",
    "# Build the vectorizer and fit it\n",
    "anna_vect =  CountVectorizer()\n",
    "anna_vect.fit(annak)\n",
    "\n",
    "# Create the bow representation\n",
    "anna_bow = anna_vect.transform(annak)\n",
    "\n",
    "# Print the bag-of-words result \n",
    "print(anna_bow.toarray())"
   ]
  },
  {
   "cell_type": "markdown",
   "id": "inclusive-scottish",
   "metadata": {},
   "source": [
    "### BOW using product reviews"
   ]
  },
  {
   "cell_type": "code",
   "execution_count": 20,
   "id": "simplified-compact",
   "metadata": {
    "ExecuteTime": {
     "end_time": "2021-09-21T22:32:30.578877Z",
     "start_time": "2021-09-21T22:32:30.563916Z"
    }
   },
   "outputs": [],
   "source": [
    "anna_array = anna_bow.toarray()"
   ]
  },
  {
   "cell_type": "code",
   "execution_count": 21,
   "id": "pressing-accountability",
   "metadata": {
    "ExecuteTime": {
     "end_time": "2021-09-21T22:33:07.190983Z",
     "start_time": "2021-09-21T22:33:07.174067Z"
    }
   },
   "outputs": [
    {
     "data": {
      "text/html": [
       "<div>\n",
       "<style scoped>\n",
       "    .dataframe tbody tr th:only-of-type {\n",
       "        vertical-align: middle;\n",
       "    }\n",
       "\n",
       "    .dataframe tbody tr th {\n",
       "        vertical-align: top;\n",
       "    }\n",
       "\n",
       "    .dataframe thead th {\n",
       "        text-align: right;\n",
       "    }\n",
       "</style>\n",
       "<table border=\"1\" class=\"dataframe\">\n",
       "  <thead>\n",
       "    <tr style=\"text-align: right;\">\n",
       "      <th></th>\n",
       "      <th>alike</th>\n",
       "      <th>all</th>\n",
       "      <th>are</th>\n",
       "      <th>every</th>\n",
       "      <th>families</th>\n",
       "      <th>family</th>\n",
       "      <th>happy</th>\n",
       "      <th>in</th>\n",
       "      <th>is</th>\n",
       "      <th>its</th>\n",
       "      <th>own</th>\n",
       "      <th>unhappy</th>\n",
       "      <th>way</th>\n",
       "    </tr>\n",
       "  </thead>\n",
       "  <tbody>\n",
       "    <tr>\n",
       "      <th>0</th>\n",
       "      <td>1</td>\n",
       "      <td>1</td>\n",
       "      <td>1</td>\n",
       "      <td>0</td>\n",
       "      <td>1</td>\n",
       "      <td>0</td>\n",
       "      <td>1</td>\n",
       "      <td>0</td>\n",
       "      <td>0</td>\n",
       "      <td>0</td>\n",
       "      <td>0</td>\n",
       "      <td>0</td>\n",
       "      <td>0</td>\n",
       "    </tr>\n",
       "    <tr>\n",
       "      <th>1</th>\n",
       "      <td>0</td>\n",
       "      <td>0</td>\n",
       "      <td>0</td>\n",
       "      <td>1</td>\n",
       "      <td>0</td>\n",
       "      <td>1</td>\n",
       "      <td>0</td>\n",
       "      <td>1</td>\n",
       "      <td>1</td>\n",
       "      <td>1</td>\n",
       "      <td>1</td>\n",
       "      <td>2</td>\n",
       "      <td>1</td>\n",
       "    </tr>\n",
       "  </tbody>\n",
       "</table>\n",
       "</div>"
      ],
      "text/plain": [
       "   alike  all  are  every  families  family  happy  in  is  its  own  unhappy  \\\n",
       "0      1    1    1      0         1       0      1   0   0    0    0        0   \n",
       "1      0    0    0      1         0       1      0   1   1    1    1        2   \n",
       "\n",
       "   way  \n",
       "0    0  \n",
       "1    1  "
      ]
     },
     "execution_count": 21,
     "metadata": {},
     "output_type": "execute_result"
    }
   ],
   "source": [
    "anna_df = pd.DataFrame(anna_array, columns= anna_vect.get_feature_names())\n",
    "anna_df"
   ]
  },
  {
   "cell_type": "markdown",
   "id": "sharp-afghanistan",
   "metadata": {},
   "source": [
    "### Getting granular with n-grams"
   ]
  },
  {
   "cell_type": "markdown",
   "id": "chief-judge",
   "metadata": {},
   "source": [
    "Imagine que você tem uma frase como 'I am happy, not sad' e outra 'I am sad, not happy'. Eles terão a mesma representação com uma BOW, embora os significados estejam invertidos. Nesse caso, colocar NOT antes da palavra (também chamado de negação) altera todo o significado e demonstra por que o contexto é importante.\n",
    "\n",
    "\n",
    "Existe uma maneira de capturar o contexto ao usar uma BOW, por exemplo, considerando pares ou triplos de tokens que aparecem um ao lado do outro. Vamos definir alguns termos. Tokens únicos são o que usamos até agora e também são chamados de 'unigramas'. Bigramas são pares de tokens, trigramas são triplos de tokens e uma sequência de n-tokens é chamada de 'n-gramas.'\n",
    "\n",
    "\n",
    "Vamos ilustrar isso com um exemplo.\n",
    "\n",
    "Pegue a frase 'The weather today is wonderful' e divida-a usando unigramas, bigramas e trigramas. Com os unigramas, temos tokens únicos, com bigramas, pares de tokens vizinhos, com trigramas: triplos de tokens vizinhos.\n",
    "\n",
    "**n-gramas com o CountVectorizer**\n",
    "\n",
    "É fácil implementar n-gramas com o método CountVectorizer. \n",
    "\n",
    "Para especificar os n-gramas, usamos o parâmetro ngram_range. \n",
    "O ngram_range é uma tupla em que o primeiro parâmetro é o comprimento mínimo e o segundo parâmetro é o comprimento máximo dos tokens. \n",
    "\n",
    "Por exemplo, ngram_range = (1, 1) significa que usaremos apenas unigramas, (1, 2) significa que usaremos unigramas e bigramas e assim por diante."
   ]
  },
  {
   "cell_type": "code",
   "execution_count": 22,
   "id": "white-dialogue",
   "metadata": {
    "ExecuteTime": {
     "end_time": "2021-09-21T22:35:44.126956Z",
     "start_time": "2021-09-21T22:35:44.117958Z"
    }
   },
   "outputs": [],
   "source": [
    "from sklearn.feature_extraction.text import CountVectorizer"
   ]
  },
  {
   "cell_type": "code",
   "execution_count": 23,
   "id": "unsigned-illustration",
   "metadata": {
    "ExecuteTime": {
     "end_time": "2021-09-21T22:36:29.411621Z",
     "start_time": "2021-09-21T22:36:29.406617Z"
    }
   },
   "outputs": [],
   "source": [
    "min_n = 1\n",
    "max_n = 3\n",
    "\n",
    "vect = CountVectorizer(ngram_range=(min_n,max_n))"
   ]
  },
  {
   "cell_type": "markdown",
   "id": "according-duncan",
   "metadata": {},
   "source": [
    "**Qual é o melhor n?**\n",
    "\n",
    "Não é fácil determinar qual é a sequência ideal que você deve usar para o seu problema. Se usarmos uma sequência de tokens mais longa, isso resultará em mais recursos. Em princípio, o número de bigramas poderia ser o número de unigramas ao quadrado; trigramas, o número de unigramas elevado à potência de 3 e assim por diante. Em geral, ter sequências mais longas resulta em modelos de aprendizado de máquina mais precisos, mas isso também aumenta o risco de overfitting. Uma abordagem para encontrar o comprimento de sequência ideal seria tentar diferentes comprimentos em algo como uma pesquisa de grade e ver quais resultados no melhor modelo.\n",
    "\n",
    "\n",
    "Determinar o comprimento da sequência de tokens não é a única maneira de determinar o tamanho do vocabulário. \n",
    "\n",
    "Existem alguns parâmetros no CountVectorizer que também podem fazer isso. Você deve se lembrar que definimos o parâmetro max_features. \n",
    "\n",
    "* `max_features`:  podem dizer ao CountVectorizer para pegar os tokens mais frequentes no corpus. Se for definido como None, todas as palavras do corpus serão incluídas. Portanto, este parâmetro pode remover palavras raras, o que dependendo do contexto pode ou não ser uma boa ideia. \n",
    "\n",
    "* `max_df`: Se fornecido, diz ao CountVectorizer para ignorar os termos com uma frequência maior do que a fornecida. Podemos especificá-lo como um inteiro - que será uma contagem absoluta, ou float - que será uma proporção. O valor padrão de max_df é 1.0, o que significa que ele não ignora nenhum termo. \n",
    "\n",
    "* `min_df` É usado para remover termos que aparecem com pouca frequência. Novamente, ele pode ser especificado como um inteiro, caso em que será uma contagem ou um número flutuante, caso em que será uma proporção. O valor padrão é 1, que significa \"ignore os termos que aparecem em menos de 1 documento\". Portanto, a configuração padrão não ignora nenhum termo."
   ]
  },
  {
   "cell_type": "code",
   "execution_count": 25,
   "id": "sapphire-mention",
   "metadata": {
    "ExecuteTime": {
     "end_time": "2021-09-22T13:36:27.864864Z",
     "start_time": "2021-09-22T13:36:22.914850Z"
    }
   },
   "outputs": [
    {
     "name": "stdout",
     "output_type": "stream",
     "text": [
      "   00  00 and  00 apiece  00 as  00 back  00 bad  00 bucks  00 cheaper  00 do  \\\n",
      "0   0       0          0      0        0       0         0           0      0   \n",
      "1   0       0          0      0        0       0         0           0      0   \n",
      "2   0       0          0      0        0       0         0           0      0   \n",
      "3   0       0          0      0        0       0         0           0      0   \n",
      "4   0       0          0      0        0       0         0           0      0   \n",
      "\n",
      "   00 does  ...  étai fidèle  était  était pas  étre  étre publié  éviter  \\\n",
      "0        0  ...            0      0          0     0            0       0   \n",
      "1        0  ...            0      0          0     0            0       0   \n",
      "2        0  ...            0      0          0     0            0       0   \n",
      "3        0  ...            0      0          0     0            0       0   \n",
      "4        0  ...            0      0          0     0            0       0   \n",
      "\n",
      "   última  última parte  única  única opción  \n",
      "0       0             0      0             0  \n",
      "1       0             0      0             0  \n",
      "2       0             0      0             0  \n",
      "3       0             0      0             0  \n",
      "4       0             0      0             0  \n",
      "\n",
      "[5 rows x 326726 columns]\n"
     ]
    }
   ],
   "source": [
    "# Build the vectorizer, specify token sequence and fit\n",
    "vect = CountVectorizer(ngram_range=(1,2))\n",
    "vect.fit(df['review'])\n",
    "\n",
    "# Transform the review column\n",
    "X_review = vect.transform(df['review'])\n",
    "\n",
    "# Create the bow representation\n",
    "X_df = pd.DataFrame(X_review.toarray(), columns=vect.get_feature_names())\n",
    "print(X_df.head())"
   ]
  },
  {
   "cell_type": "markdown",
   "id": "confident-poland",
   "metadata": {},
   "source": [
    "### Size of vocabulary of movies reviews"
   ]
  },
  {
   "cell_type": "code",
   "execution_count": 26,
   "id": "typical-victorian",
   "metadata": {
    "ExecuteTime": {
     "end_time": "2021-09-22T13:40:14.684578Z",
     "start_time": "2021-09-22T13:40:14.667621Z"
    }
   },
   "outputs": [],
   "source": [
    "from sklearn.feature_extraction.text import CountVectorizer "
   ]
  },
  {
   "cell_type": "code",
   "execution_count": 27,
   "id": "logical-pricing",
   "metadata": {
    "ExecuteTime": {
     "end_time": "2021-09-22T13:40:44.047024Z",
     "start_time": "2021-09-22T13:40:42.570968Z"
    }
   },
   "outputs": [
    {
     "name": "stdout",
     "output_type": "stream",
     "text": [
      "   about  after  all  also  am  an  and  any  are  as  ...  what  when  which  \\\n",
      "0      0      0    1     0   0   0    2    0    0   0  ...     0     0      0   \n",
      "1      0      0    0     0   0   0    3    1    1   0  ...     0     0      0   \n",
      "2      0      0    3     0   0   1    4    0    1   1  ...     0     0      1   \n",
      "3      0      0    0     0   0   0    9    0    1   0  ...     0     0      0   \n",
      "4      0      1    0     0   0   0    3    0    1   0  ...     0     0      0   \n",
      "\n",
      "   who  will  with  work  would  you  your  \n",
      "0    2     0     1     0      2    0     1  \n",
      "1    0     0     0     0      1    1     0  \n",
      "2    1     0     0     1      1    2     0  \n",
      "3    0     0     0     0      0    0     0  \n",
      "4    0     0     0     0      0    3     1  \n",
      "\n",
      "[5 rows x 100 columns]\n"
     ]
    }
   ],
   "source": [
    "#Using the movies dataset, limit the size of the vocabulary to 100\n",
    "\n",
    "vect = CountVectorizer(max_features=100)\n",
    "vect.fit(df['review'])\n",
    "\n",
    "X_review = vect.transform(df['review'])\n",
    "X_df = pd.DataFrame(X_review.toarray(), columns=vect.get_feature_names())\n",
    "\n",
    "print(X_df.head())"
   ]
  },
  {
   "cell_type": "code",
   "execution_count": 29,
   "id": "therapeutic-print",
   "metadata": {
    "ExecuteTime": {
     "end_time": "2021-09-22T13:42:23.903873Z",
     "start_time": "2021-09-22T13:42:22.630711Z"
    }
   },
   "outputs": [
    {
     "name": "stdout",
     "output_type": "stream",
     "text": [
      "   00  000  001  002  00290  007  0070412901  0072316373  008  00now  ...  \\\n",
      "0   0    0    0    0      0    0           0           0    0      0  ...   \n",
      "1   0    0    0    0      0    0           0           0    0      0  ...   \n",
      "2   0    0    0    0      0    0           0           0    0      0  ...   \n",
      "3   0    0    0    0      0    0           0           0    0      0  ...   \n",
      "4   0    0    0    0      0    0           0           0    0      0  ...   \n",
      "\n",
      "   zzzzzzzzzzzzzzzzzzzzz  \\\n",
      "0                      0   \n",
      "1                      0   \n",
      "2                      0   \n",
      "3                      0   \n",
      "4                      0   \n",
      "\n",
      "   zzzzzzzzzzzzzzzzzzzzzzzzzzzzzzzzzzzzzzzzzzzzzzzzzzzzzzzzzzzzzzzzzzzzzzzzzzzz  \\\n",
      "0                                                  0                              \n",
      "1                                                  0                              \n",
      "2                                                  0                              \n",
      "3                                                  0                              \n",
      "4                                                  0                              \n",
      "\n",
      "   ángel  émouvantes  étai  était  étre  éviter  última  única  \n",
      "0      0           0     0      0     0       0       0      0  \n",
      "1      0           0     0      0     0       0       0      0  \n",
      "2      0           0     0      0     0       0       0      0  \n",
      "3      0           0     0      0     0       0       0      0  \n",
      "4      0           0     0      0     0       0       0      0  \n",
      "\n",
      "[5 rows x 31221 columns]\n"
     ]
    }
   ],
   "source": [
    "# Using the movies dataset, limit the size of the vocabulary to include terms which occur in no more than 200 documents.\n",
    "\n",
    "vect = CountVectorizer(max_df=200)\n",
    "vect.fit(df['review'])\n",
    "\n",
    "X_review = vect.transform(df['review'])\n",
    "X_df = pd.DataFrame(X_review.toarray(), columns=vect.get_feature_names())\n",
    "\n",
    "print(X_df.head())"
   ]
  },
  {
   "cell_type": "code",
   "execution_count": 30,
   "id": "affecting-sample",
   "metadata": {
    "ExecuteTime": {
     "end_time": "2021-09-22T13:43:32.675655Z",
     "start_time": "2021-09-22T13:43:31.478854Z"
    }
   },
   "outputs": [
    {
     "name": "stdout",
     "output_type": "stream",
     "text": [
      "   10  100  12  15  1984  20  2nd  30  40  451  ...  year  years  yes  yet  \\\n",
      "0   0    0   0   0     0   0    0   0   0    0  ...     0      0    0    0   \n",
      "1   0    0   0   0     0   0    0   0   0    0  ...     0      1    0    0   \n",
      "2   0    0   0   0     0   0    0   0   0    0  ...     0      1    0    0   \n",
      "3   0    0   0   0     0   0    0   0   0    0  ...     0      0    0    0   \n",
      "4   0    0   0   0     0   0    0   0   0    0  ...     0      0    0    0   \n",
      "\n",
      "   you  young  younger  your  yourself  zero  \n",
      "0    0      0        0     1         0     0  \n",
      "1    1      0        0     0         0     0  \n",
      "2    2      0        0     0         0     0  \n",
      "3    0      0        0     0         0     0  \n",
      "4    3      0        0     1         0     0  \n",
      "\n",
      "[5 rows x 1326 columns]\n"
     ]
    }
   ],
   "source": [
    "# Using the movies dataset, limit the size of the vocabulary to ignore terms which occur in less than 50 documents.\n",
    "\n",
    "vect = CountVectorizer(min_df=50)\n",
    "vect.fit(df['review'])\n",
    "\n",
    "X_review = vect.transform(df['review'])\n",
    "X_df = pd.DataFrame(X_review.toarray(), columns=vect.get_feature_names())\n",
    "\n",
    "print(X_df.head())"
   ]
  },
  {
   "cell_type": "markdown",
   "id": "atomic-flush",
   "metadata": {},
   "source": [
    "### BOW with n-grams and vocabulary size"
   ]
  },
  {
   "cell_type": "code",
   "execution_count": 31,
   "id": "noble-electron",
   "metadata": {
    "ExecuteTime": {
     "end_time": "2021-09-22T13:46:33.905997Z",
     "start_time": "2021-09-22T13:46:31.362285Z"
    }
   },
   "outputs": [
    {
     "name": "stdout",
     "output_type": "stream",
     "text": [
      "   able to  about how  about it  about the  about this  after reading  \\\n",
      "0        0          0         0          0           0              0   \n",
      "1        0          0         0          0           0              0   \n",
      "2        0          0         0          0           0              0   \n",
      "3        0          0         0          0           0              0   \n",
      "4        0          0         0          0           0              0   \n",
      "\n",
      "   after the  again and  ago and  agree with  ...  you think  you to  you ve  \\\n",
      "0          0          0        0           0  ...          0       0       0   \n",
      "1          0          0        0           0  ...          0       0       0   \n",
      "2          0          0        0           0  ...          0       0       2   \n",
      "3          0          0        0           0  ...          0       0       0   \n",
      "4          0          0        0           0  ...          0       0       1   \n",
      "\n",
      "   you want  you will  you won  you would  your money  your own  your time  \n",
      "0         0         0        0          0           0         0          0  \n",
      "1         0         0        0          0           0         0          0  \n",
      "2         0         0        0          0           0         0          0  \n",
      "3         0         0        0          0           0         0          0  \n",
      "4         0         0        0          0           0         0          0  \n",
      "\n",
      "[5 rows x 1000 columns]\n"
     ]
    }
   ],
   "source": [
    "vect = CountVectorizer(max_features=1000, ngram_range=(2, 2), max_df=500)\n",
    "vect.fit(df['review'])\n",
    "\n",
    "X_review = vect.transform(df['review'])\n",
    "\n",
    "X_df = pd.DataFrame(X_review.toarray(), columns=vect.get_feature_names())\n",
    "print(X_df.head())"
   ]
  },
  {
   "cell_type": "markdown",
   "id": "noted-easter",
   "metadata": {},
   "source": [
    "## Build new features from text"
   ]
  },
  {
   "cell_type": "markdown",
   "id": "regulated-stage",
   "metadata": {},
   "source": [
    "**Tokenização de uma string**\n",
    "\n",
    "Lembre-se de que empregamos uma abordagem BOW para transformar cada revisão em características numéricas, contando quantas vezes uma palavra ocorreu na respectiva revisão. Aqui, paramos uma etapa antes e apenas dividimos as revisões em palavras individuais (geralmente chamadas de tokens, embora um token também possa ser uma frase inteira). Trabalharemos com o pacote nltk e, concretamente, com a função word_tokenize. \n",
    "\n",
    "Vamos aplicar a função word_tokenize à nossa string anna_k familiar. O resultado retornado é uma lista, onde cada item é um token da string. Observe que não apenas as palavras, mas também os sinais de pontuação são originalmente atribuídos como tokens. O mesmo teria acontecido com os dígitos, se tivéssemos algum em nossa string."
   ]
  },
  {
   "cell_type": "code",
   "execution_count": 33,
   "id": "together-bridge",
   "metadata": {
    "ExecuteTime": {
     "end_time": "2021-09-22T13:58:21.368556Z",
     "start_time": "2021-09-22T13:58:21.364592Z"
    }
   },
   "outputs": [],
   "source": [
    "from nltk import word_tokenize"
   ]
  },
  {
   "cell_type": "code",
   "execution_count": 34,
   "id": "shared-stopping",
   "metadata": {
    "ExecuteTime": {
     "end_time": "2021-09-22T13:58:54.681225Z",
     "start_time": "2021-09-22T13:58:54.670221Z"
    }
   },
   "outputs": [],
   "source": [
    "anna_k = \"Happy families are all alike, every hunhappy family is unhappy in its own way.\""
   ]
  },
  {
   "cell_type": "code",
   "execution_count": 35,
   "id": "analyzed-attribute",
   "metadata": {
    "ExecuteTime": {
     "end_time": "2021-09-22T13:59:11.774611Z",
     "start_time": "2021-09-22T13:59:11.748683Z"
    }
   },
   "outputs": [
    {
     "data": {
      "text/plain": [
       "['Happy',\n",
       " 'families',\n",
       " 'are',\n",
       " 'all',\n",
       " 'alike',\n",
       " ',',\n",
       " 'every',\n",
       " 'hunhappy',\n",
       " 'family',\n",
       " 'is',\n",
       " 'unhappy',\n",
       " 'in',\n",
       " 'its',\n",
       " 'own',\n",
       " 'way',\n",
       " '.']"
      ]
     },
     "execution_count": 35,
     "metadata": {},
     "output_type": "execute_result"
    }
   ],
   "source": [
    "word_tokenize(anna_k)"
   ]
  },
  {
   "cell_type": "markdown",
   "id": "median-tanzania",
   "metadata": {},
   "source": [
    "Agora queremos aplicar a mesma lógica, mas para nossa coluna de comentários. Uma maneira rápida de iterar em strings é usando a lista de compreensão. Um rápido lembrete sobre as listas de compreensões. Eles são como loops for achatados. A sintaxe é uma operação que executamos em cada item de um objeto iterável (como uma lista). \n",
    "\n",
    "Em nosso caso, uma lista de compreensão nos permitirá iterar sobre a coluna de revisão, tokenizando cada revisão. O resultado será uma lista; se explorarmos o tipo do primeiro item, por exemplo, veremos que também é da lista de tipos. Isso significa que nosso word_tokens é uma lista de listas. Cada item armazena os tokens de uma única revisão."
   ]
  },
  {
   "cell_type": "code",
   "execution_count": 36,
   "id": "exclusive-elements",
   "metadata": {
    "ExecuteTime": {
     "end_time": "2021-09-22T14:02:50.212136Z",
     "start_time": "2021-09-22T14:02:43.633627Z"
    }
   },
   "outputs": [
    {
     "data": {
      "text/plain": [
       "list"
      ]
     },
     "execution_count": 36,
     "metadata": {},
     "output_type": "execute_result"
    }
   ],
   "source": [
    "# general form of list comprehension\n",
    "# [expression for item in iterable]\n",
    "\n",
    "word_tokens = [word_tokenize(review) for review in df['review']]\n",
    "type(word_tokens)"
   ]
  },
  {
   "cell_type": "code",
   "execution_count": 37,
   "id": "imported-bhutan",
   "metadata": {
    "ExecuteTime": {
     "end_time": "2021-09-22T14:03:25.706519Z",
     "start_time": "2021-09-22T14:03:25.699539Z"
    }
   },
   "outputs": [
    {
     "data": {
      "text/plain": [
       "list"
      ]
     },
     "execution_count": 37,
     "metadata": {},
     "output_type": "execute_result"
    }
   ],
   "source": [
    "type(word_tokens[0])"
   ]
  },
  {
   "cell_type": "markdown",
   "id": "ideal-scenario",
   "metadata": {},
   "source": [
    "### Tokenize a string from GoT"
   ]
  },
  {
   "cell_type": "code",
   "execution_count": 39,
   "id": "executive-straight",
   "metadata": {
    "ExecuteTime": {
     "end_time": "2021-09-22T16:12:31.348182Z",
     "start_time": "2021-09-22T16:12:31.335187Z"
    }
   },
   "outputs": [],
   "source": [
    "from nltk import word_tokenize"
   ]
  },
  {
   "cell_type": "code",
   "execution_count": 40,
   "id": "aggregate-provision",
   "metadata": {
    "ExecuteTime": {
     "end_time": "2021-09-22T16:12:31.832583Z",
     "start_time": "2021-09-22T16:12:31.825602Z"
    }
   },
   "outputs": [],
   "source": [
    "GoT = \"Never forget what you are, for surely the world will not. Make it your strength. Then it can never be your weakness. Armour yourself in it, and it will never be used to hurt you.\""
   ]
  },
  {
   "cell_type": "code",
   "execution_count": 41,
   "id": "unique-cisco",
   "metadata": {
    "ExecuteTime": {
     "end_time": "2021-09-22T16:12:46.527869Z",
     "start_time": "2021-09-22T16:12:46.518892Z"
    }
   },
   "outputs": [
    {
     "name": "stdout",
     "output_type": "stream",
     "text": [
      "['Never', 'forget', 'what', 'you', 'are', ',', 'for', 'surely', 'the', 'world', 'will', 'not', '.', 'Make', 'it', 'your', 'strength', '.', 'Then', 'it', 'can', 'never', 'be', 'your', 'weakness', '.', 'Armour', 'yourself', 'in', 'it', ',', 'and', 'it', 'will', 'never', 'be', 'used', 'to', 'hurt', 'you', '.']\n"
     ]
    }
   ],
   "source": [
    "print(word_tokenize(GoT))"
   ]
  },
  {
   "cell_type": "markdown",
   "id": "complicated-scottish",
   "metadata": {},
   "source": [
    "### Word tokens from the Avengers"
   ]
  },
  {
   "cell_type": "code",
   "execution_count": 44,
   "id": "divided-leather",
   "metadata": {
    "ExecuteTime": {
     "end_time": "2021-09-22T16:16:10.442529Z",
     "start_time": "2021-09-22T16:16:10.434551Z"
    }
   },
   "outputs": [],
   "source": [
    "from nltk import word_tokenize"
   ]
  },
  {
   "cell_type": "code",
   "execution_count": 42,
   "id": "direct-relevance",
   "metadata": {
    "ExecuteTime": {
     "end_time": "2021-09-22T16:14:57.543296Z",
     "start_time": "2021-09-22T16:14:57.536315Z"
    }
   },
   "outputs": [],
   "source": [
    "avengers = [\"Cause if we can't protect the Earth, you can be d*** sure we'll avenge it\",\n",
    " 'There was an idea to bring together a group of remarkable people, to see if we could become something more',\n",
    " \"These guys come from legend, Captain. They're basically Gods.\"]"
   ]
  },
  {
   "cell_type": "code",
   "execution_count": 43,
   "id": "assisted-earthquake",
   "metadata": {
    "ExecuteTime": {
     "end_time": "2021-09-22T16:15:29.368028Z",
     "start_time": "2021-09-22T16:15:29.360052Z"
    }
   },
   "outputs": [
    {
     "name": "stdout",
     "output_type": "stream",
     "text": [
      "[['Cause', 'if', 'we', 'ca', \"n't\", 'protect', 'the', 'Earth', ',', 'you', 'can', 'be', 'd***', 'sure', 'we', \"'ll\", 'avenge', 'it'], ['There', 'was', 'an', 'idea', 'to', 'bring', 'together', 'a', 'group', 'of', 'remarkable', 'people', ',', 'to', 'see', 'if', 'we', 'could', 'become', 'something', 'more'], ['These', 'guys', 'come', 'from', 'legend', ',', 'Captain', '.', 'They', \"'re\", 'basically', 'Gods', '.']]\n"
     ]
    }
   ],
   "source": [
    "tokens_avengers = [word_tokenize(item) for item in avengers]\n",
    "\n",
    "print(tokens_avengers)"
   ]
  },
  {
   "cell_type": "markdown",
   "id": "unnecessary-hepatitis",
   "metadata": {},
   "source": [
    "### A feature for the length of a review"
   ]
  },
  {
   "cell_type": "code",
   "execution_count": 45,
   "id": "liked-growing",
   "metadata": {
    "ExecuteTime": {
     "end_time": "2021-09-22T16:16:12.803125Z",
     "start_time": "2021-09-22T16:16:12.794125Z"
    }
   },
   "outputs": [],
   "source": [
    "from nltk import word_tokenize"
   ]
  },
  {
   "cell_type": "code",
   "execution_count": 46,
   "id": "grave-federation",
   "metadata": {
    "ExecuteTime": {
     "end_time": "2021-09-22T16:17:09.644748Z",
     "start_time": "2021-09-22T16:17:03.261854Z"
    }
   },
   "outputs": [
    {
     "name": "stdout",
     "output_type": "stream",
     "text": [
      "['Stuning', 'even', 'for', 'the', 'non-gamer', ':', 'This', 'sound', 'track', 'was', 'beautiful', '!', 'It', 'paints', 'the', 'senery', 'in', 'your', 'mind', 'so', 'well', 'I', 'would', 'recomend', 'it', 'even', 'to', 'people', 'who', 'hate', 'vid', '.', 'game', 'music', '!', 'I', 'have', 'played', 'the', 'game', 'Chrono', 'Cross', 'but', 'out', 'of', 'all', 'of', 'the', 'games', 'I', 'have', 'ever', 'played', 'it', 'has', 'the', 'best', 'music', '!', 'It', 'backs', 'away', 'from', 'crude', 'keyboarding', 'and', 'takes', 'a', 'fresher', 'step', 'with', 'grate', 'guitars', 'and', 'soulful', 'orchestras', '.', 'It', 'would', 'impress', 'anyone', 'who', 'cares', 'to', 'listen', '!', '^_^']\n"
     ]
    }
   ],
   "source": [
    "word_tokens = [word_tokenize(review) for review in df['review']]\n",
    "\n",
    "print(word_tokens[0])"
   ]
  },
  {
   "cell_type": "code",
   "execution_count": 47,
   "id": "hungry-bridal",
   "metadata": {
    "ExecuteTime": {
     "end_time": "2021-09-22T16:18:45.684149Z",
     "start_time": "2021-09-22T16:18:45.668193Z"
    }
   },
   "outputs": [],
   "source": [
    "len_tokens = []\n",
    "\n",
    "for i in range(len(word_tokens)):\n",
    "     len_tokens.append(len(word_tokens[i]))"
   ]
  },
  {
   "cell_type": "code",
   "execution_count": 48,
   "id": "hybrid-boring",
   "metadata": {
    "ExecuteTime": {
     "end_time": "2021-09-22T16:18:48.765809Z",
     "start_time": "2021-09-22T16:18:48.747858Z"
    }
   },
   "outputs": [],
   "source": [
    "reviews['n_words'] = len_tokens "
   ]
  },
  {
   "cell_type": "code",
   "execution_count": 49,
   "id": "reflected-foster",
   "metadata": {
    "ExecuteTime": {
     "end_time": "2021-09-22T16:18:54.056933Z",
     "start_time": "2021-09-22T16:18:54.025020Z"
    }
   },
   "outputs": [
    {
     "data": {
      "text/html": [
       "<div>\n",
       "<style scoped>\n",
       "    .dataframe tbody tr th:only-of-type {\n",
       "        vertical-align: middle;\n",
       "    }\n",
       "\n",
       "    .dataframe tbody tr th {\n",
       "        vertical-align: top;\n",
       "    }\n",
       "\n",
       "    .dataframe thead th {\n",
       "        text-align: right;\n",
       "    }\n",
       "</style>\n",
       "<table border=\"1\" class=\"dataframe\">\n",
       "  <thead>\n",
       "    <tr style=\"text-align: right;\">\n",
       "      <th></th>\n",
       "      <th>Unnamed: 0</th>\n",
       "      <th>score</th>\n",
       "      <th>review</th>\n",
       "      <th>n_words</th>\n",
       "    </tr>\n",
       "  </thead>\n",
       "  <tbody>\n",
       "    <tr>\n",
       "      <th>0</th>\n",
       "      <td>0</td>\n",
       "      <td>1</td>\n",
       "      <td>Stuning even for the non-gamer: This sound tr...</td>\n",
       "      <td>87</td>\n",
       "    </tr>\n",
       "    <tr>\n",
       "      <th>1</th>\n",
       "      <td>1</td>\n",
       "      <td>1</td>\n",
       "      <td>The best soundtrack ever to anything.: I'm re...</td>\n",
       "      <td>109</td>\n",
       "    </tr>\n",
       "    <tr>\n",
       "      <th>2</th>\n",
       "      <td>2</td>\n",
       "      <td>1</td>\n",
       "      <td>Amazing!: This soundtrack is my favorite musi...</td>\n",
       "      <td>165</td>\n",
       "    </tr>\n",
       "    <tr>\n",
       "      <th>3</th>\n",
       "      <td>3</td>\n",
       "      <td>1</td>\n",
       "      <td>Excellent Soundtrack: I truly like this sound...</td>\n",
       "      <td>145</td>\n",
       "    </tr>\n",
       "    <tr>\n",
       "      <th>4</th>\n",
       "      <td>4</td>\n",
       "      <td>1</td>\n",
       "      <td>Remember, Pull Your Jaw Off The Floor After H...</td>\n",
       "      <td>109</td>\n",
       "    </tr>\n",
       "    <tr>\n",
       "      <th>...</th>\n",
       "      <td>...</td>\n",
       "      <td>...</td>\n",
       "      <td>...</td>\n",
       "      <td>...</td>\n",
       "    </tr>\n",
       "    <tr>\n",
       "      <th>9995</th>\n",
       "      <td>9995</td>\n",
       "      <td>1</td>\n",
       "      <td>A revelation of life in small town America in...</td>\n",
       "      <td>175</td>\n",
       "    </tr>\n",
       "    <tr>\n",
       "      <th>9996</th>\n",
       "      <td>9996</td>\n",
       "      <td>1</td>\n",
       "      <td>Great biography of a very interesting journal...</td>\n",
       "      <td>153</td>\n",
       "    </tr>\n",
       "    <tr>\n",
       "      <th>9997</th>\n",
       "      <td>9997</td>\n",
       "      <td>0</td>\n",
       "      <td>Interesting Subject; Poor Presentation: You'd...</td>\n",
       "      <td>122</td>\n",
       "    </tr>\n",
       "    <tr>\n",
       "      <th>9998</th>\n",
       "      <td>9998</td>\n",
       "      <td>0</td>\n",
       "      <td>Don't buy: The box looked used and it is obvi...</td>\n",
       "      <td>33</td>\n",
       "    </tr>\n",
       "    <tr>\n",
       "      <th>9999</th>\n",
       "      <td>9999</td>\n",
       "      <td>1</td>\n",
       "      <td>Beautiful Pen and Fast Delivery.: The pen was...</td>\n",
       "      <td>115</td>\n",
       "    </tr>\n",
       "  </tbody>\n",
       "</table>\n",
       "<p>10000 rows × 4 columns</p>\n",
       "</div>"
      ],
      "text/plain": [
       "      Unnamed: 0  score                                             review  \\\n",
       "0              0      1   Stuning even for the non-gamer: This sound tr...   \n",
       "1              1      1   The best soundtrack ever to anything.: I'm re...   \n",
       "2              2      1   Amazing!: This soundtrack is my favorite musi...   \n",
       "3              3      1   Excellent Soundtrack: I truly like this sound...   \n",
       "4              4      1   Remember, Pull Your Jaw Off The Floor After H...   \n",
       "...          ...    ...                                                ...   \n",
       "9995        9995      1   A revelation of life in small town America in...   \n",
       "9996        9996      1   Great biography of a very interesting journal...   \n",
       "9997        9997      0   Interesting Subject; Poor Presentation: You'd...   \n",
       "9998        9998      0   Don't buy: The box looked used and it is obvi...   \n",
       "9999        9999      1   Beautiful Pen and Fast Delivery.: The pen was...   \n",
       "\n",
       "      n_words  \n",
       "0          87  \n",
       "1         109  \n",
       "2         165  \n",
       "3         145  \n",
       "4         109  \n",
       "...       ...  \n",
       "9995      175  \n",
       "9996      153  \n",
       "9997      122  \n",
       "9998       33  \n",
       "9999      115  \n",
       "\n",
       "[10000 rows x 4 columns]"
      ]
     },
     "execution_count": 49,
     "metadata": {},
     "output_type": "execute_result"
    }
   ],
   "source": [
    "reviews"
   ]
  },
  {
   "cell_type": "markdown",
   "id": "expressed-switzerland",
   "metadata": {},
   "source": [
    "## Guess the Language"
   ]
  },
  {
   "cell_type": "markdown",
   "id": "linear-station",
   "metadata": {},
   "source": [
    "**Linguagem de uma string em Python**\n",
    "\n",
    "Em Python, existem algumas bibliotecas que podem detectar a linguagem de uma string. Neste curso, usaremos langdetect porque é um dos pacotes de melhor desempenho. Mas você pode seguir a mesma estrutura usando outro pacote. \n",
    "\n",
    "Primeiro importamos a função detect_langs do pacote langdetect. Agora imagine que temos uma string de linguagem estrangeira, que é uma frase em outro idioma. Nosso objetivo é identificar seu idioma. \n",
    "\n",
    "Aplicamos a função detect_langs à nossa string. Esta função retornará uma lista. Cada item da lista contém um par de um idioma e um número que indica a probabilidade de a string estar neste idioma específico. Neste caso, observamos apenas 1 item da lista, nomeadamente o espanhol. Isso ocorre porque a função é quase certa de que o idioma é espanhol. Em outros casos, podemos obter listas mais longas, onde as línguas candidatas mais prováveis aparecerão em primeiro, seguidas das menos prováveis.\n",
    "\n",
    "**Idioma de uma coluna**\n",
    "\n",
    "Em aplicações reais, geralmente não trabalhamos com uma única string, mas com muitas strings, geralmente contidas em uma coluna de um conjunto de dados. Um problema comum é detectar o idioma de cada uma das strings e capturar o idioma mais provável em uma nova coluna. Como fazer isso? Novamente começamos importando a função detect_langs do pacote langdetect. Importamos nosso conjunto de dados familiar com análises de produtos."
   ]
  },
  {
   "cell_type": "code",
   "execution_count": 50,
   "id": "alternate-jungle",
   "metadata": {
    "ExecuteTime": {
     "end_time": "2021-09-22T16:21:21.383823Z",
     "start_time": "2021-09-22T16:21:21.379798Z"
    }
   },
   "outputs": [],
   "source": [
    "from langdetect import detect_langs"
   ]
  },
  {
   "cell_type": "code",
   "execution_count": 51,
   "id": "charming-understanding",
   "metadata": {
    "ExecuteTime": {
     "end_time": "2021-09-22T16:21:58.305942Z",
     "start_time": "2021-09-22T16:21:58.302950Z"
    }
   },
   "outputs": [],
   "source": [
    "foreign = 'Este libro ha sido uno de los mejores libros que he leido.'"
   ]
  },
  {
   "cell_type": "code",
   "execution_count": 52,
   "id": "graphic-breakdown",
   "metadata": {
    "ExecuteTime": {
     "end_time": "2021-09-22T16:22:22.292597Z",
     "start_time": "2021-09-22T16:22:21.686444Z"
    }
   },
   "outputs": [
    {
     "data": {
      "text/plain": [
       "[es:0.9999962295379923]"
      ]
     },
     "execution_count": 52,
     "metadata": {},
     "output_type": "execute_result"
    }
   ],
   "source": [
    "detect_langs(foreign)"
   ]
  },
  {
   "cell_type": "markdown",
   "id": "trained-victorian",
   "metadata": {},
   "source": [
    "**Construindo um recurso para a linguagem**\n",
    "\n",
    "Primeiro, criamos uma lista vazia, chamada de languages. \n",
    "\n",
    "Queremos iterar sobre as linhas de nosso conjunto de dados usando uma lista de compreensão. \n",
    "\n",
    "Quando imprimimos linguagens, vemos que é uma lista de listas, onde cada elemento contém o idioma detectado da respectiva linha e a probabilidade desse idioma. Em alguns casos, as listas individuais contêm mais de um item."
   ]
  },
  {
   "cell_type": "code",
   "execution_count": 64,
   "id": "imperial-saying",
   "metadata": {
    "ExecuteTime": {
     "end_time": "2021-09-22T16:30:19.149282Z",
     "start_time": "2021-09-22T16:30:19.087748Z"
    }
   },
   "outputs": [],
   "source": [
    "reviews = pd.read_csv(\"dataset/amazon_reviews_sample.csv\")\n",
    "reviews = reviews[['score','review']]"
   ]
  },
  {
   "cell_type": "code",
   "execution_count": 65,
   "id": "regular-stable",
   "metadata": {
    "ExecuteTime": {
     "end_time": "2021-09-22T16:30:19.775834Z",
     "start_time": "2021-09-22T16:30:19.762869Z"
    }
   },
   "outputs": [
    {
     "data": {
      "text/html": [
       "<div>\n",
       "<style scoped>\n",
       "    .dataframe tbody tr th:only-of-type {\n",
       "        vertical-align: middle;\n",
       "    }\n",
       "\n",
       "    .dataframe tbody tr th {\n",
       "        vertical-align: top;\n",
       "    }\n",
       "\n",
       "    .dataframe thead th {\n",
       "        text-align: right;\n",
       "    }\n",
       "</style>\n",
       "<table border=\"1\" class=\"dataframe\">\n",
       "  <thead>\n",
       "    <tr style=\"text-align: right;\">\n",
       "      <th></th>\n",
       "      <th>score</th>\n",
       "      <th>review</th>\n",
       "    </tr>\n",
       "  </thead>\n",
       "  <tbody>\n",
       "    <tr>\n",
       "      <th>0</th>\n",
       "      <td>1</td>\n",
       "      <td>Stuning even for the non-gamer: This sound tr...</td>\n",
       "    </tr>\n",
       "    <tr>\n",
       "      <th>1</th>\n",
       "      <td>1</td>\n",
       "      <td>The best soundtrack ever to anything.: I'm re...</td>\n",
       "    </tr>\n",
       "    <tr>\n",
       "      <th>2</th>\n",
       "      <td>1</td>\n",
       "      <td>Amazing!: This soundtrack is my favorite musi...</td>\n",
       "    </tr>\n",
       "    <tr>\n",
       "      <th>3</th>\n",
       "      <td>1</td>\n",
       "      <td>Excellent Soundtrack: I truly like this sound...</td>\n",
       "    </tr>\n",
       "    <tr>\n",
       "      <th>4</th>\n",
       "      <td>1</td>\n",
       "      <td>Remember, Pull Your Jaw Off The Floor After H...</td>\n",
       "    </tr>\n",
       "  </tbody>\n",
       "</table>\n",
       "</div>"
      ],
      "text/plain": [
       "   score                                             review\n",
       "0      1   Stuning even for the non-gamer: This sound tr...\n",
       "1      1   The best soundtrack ever to anything.: I'm re...\n",
       "2      1   Amazing!: This soundtrack is my favorite musi...\n",
       "3      1   Excellent Soundtrack: I truly like this sound...\n",
       "4      1   Remember, Pull Your Jaw Off The Floor After H..."
      ]
     },
     "execution_count": 65,
     "metadata": {},
     "output_type": "execute_result"
    }
   ],
   "source": [
    "reviews.head()"
   ]
  },
  {
   "cell_type": "code",
   "execution_count": 66,
   "id": "electronic-training",
   "metadata": {
    "ExecuteTime": {
     "end_time": "2021-09-22T16:30:22.981414Z",
     "start_time": "2021-09-22T16:30:22.973440Z"
    }
   },
   "outputs": [],
   "source": [
    "languages = []"
   ]
  },
  {
   "cell_type": "code",
   "execution_count": 67,
   "id": "wooden-visitor",
   "metadata": {
    "ExecuteTime": {
     "end_time": "2021-09-22T16:31:01.802745Z",
     "start_time": "2021-09-22T16:30:23.393849Z"
    }
   },
   "outputs": [],
   "source": [
    "languages = [detect_langs(review) for review in df['review']]"
   ]
  },
  {
   "cell_type": "code",
   "execution_count": 68,
   "id": "stuffed-praise",
   "metadata": {
    "ExecuteTime": {
     "end_time": "2021-09-22T16:31:01.834662Z",
     "start_time": "2021-09-22T16:31:01.804743Z"
    }
   },
   "outputs": [
    {
     "data": {
      "text/plain": [
       "[[en:0.9999962349314374],\n",
       " [en:0.9999965627769819],\n",
       " [en:0.9999968564009172],\n",
       " [en:0.9999954615430402],\n",
       " [en:0.9999988585165063],\n",
       " [en:0.9999946294985873],\n",
       " [en:0.9999956108336965],\n",
       " [en:0.9999985461012993],\n",
       " [en:0.9999978427777361],\n",
       " [en:0.9999972428785334],\n",
       " [en:0.9999960798268909],\n",
       " [en:0.9999973370230163],\n",
       " [en:0.999996405361951],\n",
       " [en:0.9999974778989245],\n",
       " [en:0.9999966136133168],\n",
       " [en:0.999996349555879],\n",
       " [en:0.9999964787001108],\n",
       " [en:0.999997506182619],\n",
       " [en:0.9999956424832805],\n",
       " [en:0.9999982245865419],\n",
       " [en:0.9999985810746774],\n",
       " [en:0.9999971003774761],\n",
       " [en:0.999996167110679],\n",
       " [en:0.9999985236310444],\n",
       " [en:0.9999967230608048],\n",
       " [en:0.9999970999045539],\n",
       " [en:0.9999967805424137],\n",
       " [en:0.9999980652168503],\n",
       " [en:0.9999982501574972],\n",
       " [en:0.9999962930185313],\n",
       " [en:0.999996946276902],\n",
       " [en:0.9999963867923016],\n",
       " [en:0.9999980680113628],\n",
       " [en:0.9999967545402935],\n",
       " [en:0.9999976514212104],\n",
       " [en:0.9999979138628557],\n",
       " [en:0.9999963615441556],\n",
       " [en:0.9999974859548567],\n",
       " [en:0.9999982862565295],\n",
       " [en:0.999996381798626],\n",
       " [en:0.9999976816160612],\n",
       " [en:0.9999954396260293],\n",
       " [en:0.9999981379422609],\n",
       " [en:0.999994614571535],\n",
       " [en:0.9999971952818535],\n",
       " [en:0.9999960968573032],\n",
       " [en:0.9999973344770706],\n",
       " [en:0.999996650336152],\n",
       " [en:0.9999978637651449],\n",
       " [en:0.9999961867853968],\n",
       " [en:0.9999961048857149],\n",
       " [en:0.999996154113022],\n",
       " [en:0.9999968919982802],\n",
       " [en:0.9999984433553964],\n",
       " [en:0.9999969762372373],\n",
       " [en:0.9999963176243334],\n",
       " [en:0.9999968841711347],\n",
       " [en:0.9999959689741593],\n",
       " [en:0.9999962295074238],\n",
       " [en:0.999997037873813],\n",
       " [en:0.9999968677268158],\n",
       " [en:0.9999966159110741],\n",
       " [en:0.9999980905601519],\n",
       " [en:0.9999966408842442],\n",
       " [en:0.9999970642313255],\n",
       " [en:0.9999964077417687],\n",
       " [en:0.9999962250201245],\n",
       " [en:0.9999968947349643],\n",
       " [en:0.9999974157868076],\n",
       " [en:0.9999979873932491],\n",
       " [en:0.9999978475031861],\n",
       " [en:0.9999974627545216],\n",
       " [en:0.9999964082151869],\n",
       " [en:0.9999960674161164],\n",
       " [en:0.9999956041717731],\n",
       " [en:0.9999978868266072],\n",
       " [en:0.9999951698151448],\n",
       " [en:0.999994100470309],\n",
       " [en:0.9999979463728217],\n",
       " [en:0.9999974210352691],\n",
       " [en:0.9999965906266761],\n",
       " [en:0.9999973455704221],\n",
       " [en:0.999996361443137],\n",
       " [en:0.9999959966323206],\n",
       " [en:0.9999976812545284],\n",
       " [en:0.9999964492925485],\n",
       " [en:0.9999978015043476],\n",
       " [en:0.9999986766168254],\n",
       " [en:0.9999975544516947],\n",
       " [en:0.9999963372051248],\n",
       " [en:0.999996577543901],\n",
       " [en:0.9999980701767183],\n",
       " [en:0.9999972161053179],\n",
       " [en:0.9999972395307161],\n",
       " [en:0.9999976362761358],\n",
       " [en:0.9999967024354846],\n",
       " [en:0.9999984837416422],\n",
       " [en:0.9999974761593879],\n",
       " [en:0.9999966098461388],\n",
       " [en:0.9999960581234544],\n",
       " [en:0.9999978772115874],\n",
       " [en:0.9999973061983307],\n",
       " [en:0.9999960172489745],\n",
       " [en:0.9999957948262427],\n",
       " [en:0.9999977110798636],\n",
       " [en:0.9999975737402892],\n",
       " [en:0.9999966614324913],\n",
       " [en:0.9999960783785963],\n",
       " [en:0.999998000858191],\n",
       " [en:0.9999958831383521],\n",
       " [en:0.9999975340646983],\n",
       " [en:0.9999969365559145],\n",
       " [en:0.9999983402175118],\n",
       " [en:0.9999963601021604],\n",
       " [en:0.9999972517691034],\n",
       " [en:0.9999969967178354],\n",
       " [en:0.9999960295239302],\n",
       " [en:0.9999979201720332],\n",
       " [en:0.9999981376698126],\n",
       " [en:0.9999967910434133],\n",
       " [en:0.9999966729218065],\n",
       " [en:0.9999973030860266],\n",
       " [en:0.9999975025116477],\n",
       " [en:0.9999935664602653],\n",
       " [en:0.9999970135713676],\n",
       " [en:0.9999953895382688],\n",
       " [en:0.999997114242826],\n",
       " [en:0.9999978698982656],\n",
       " [en:0.9999969136345643],\n",
       " [en:0.9999956822139754],\n",
       " [en:0.9999952461803374],\n",
       " [en:0.9999984592105309],\n",
       " [en:0.9999981347434481],\n",
       " [en:0.9999978760803512],\n",
       " [en:0.9999970072161657],\n",
       " [en:0.9999961798871364],\n",
       " [en:0.9999991547061504],\n",
       " [en:0.9999946687820603],\n",
       " [en:0.9999974173865369],\n",
       " [en:0.9999970415977383],\n",
       " [en:0.9999983880448929],\n",
       " [en:0.999996924630737],\n",
       " [en:0.999998354569247],\n",
       " [en:0.9999970879839255],\n",
       " [en:0.999997755328472],\n",
       " [en:0.9999966723663714],\n",
       " [en:0.9999966677664585],\n",
       " [en:0.9999964381714171],\n",
       " [en:0.9999966097057666],\n",
       " [en:0.9999964601682186],\n",
       " [en:0.999997371812125],\n",
       " [en:0.9999968821655885],\n",
       " [en:0.9999971629820208],\n",
       " [en:0.9999951728281933],\n",
       " [en:0.9999972498815498],\n",
       " [en:0.9999972897336047],\n",
       " [en:0.9999956156304685],\n",
       " [en:0.9999978892633853],\n",
       " [en:0.9999970785924508],\n",
       " [en:0.9999961897699705],\n",
       " [en:0.9999958883098101],\n",
       " [en:0.9999975407760592],\n",
       " [en:0.9999984479688424],\n",
       " [en:0.9999961058083439],\n",
       " [en:0.9999977360252688],\n",
       " [en:0.9999972173885354],\n",
       " [en:0.9999963147050444],\n",
       " [en:0.9999968312122969],\n",
       " [en:0.9999954847742554],\n",
       " [en:0.5267118384819561, de:0.47328816151804376],\n",
       " [en:0.9999978024396047],\n",
       " [en:0.9999965854203191],\n",
       " [en:0.9999967619401293],\n",
       " [en:0.9999953559049798],\n",
       " [en:0.9999962473148556],\n",
       " [en:0.9999976175736278],\n",
       " [en:0.9999960929075966],\n",
       " [en:0.9999962749857348],\n",
       " [en:0.9999982801290066],\n",
       " [en:0.9999971346914044],\n",
       " [en:0.9999961253378551],\n",
       " [en:0.9999976247303357],\n",
       " [en:0.99999516742112],\n",
       " [en:0.9999968531377204],\n",
       " [en:0.9999977650861506],\n",
       " [en:0.9999966099554862],\n",
       " [en:0.999996140739289],\n",
       " [en:0.9999971155384274],\n",
       " [en:0.9999956189162906],\n",
       " [en:0.999996461809049],\n",
       " [en:0.9999976550838747],\n",
       " [en:0.9999962391710174],\n",
       " [en:0.999994787188023],\n",
       " [en:0.9999987341906441],\n",
       " [en:0.9999979623510058],\n",
       " [en:0.9999959210616414],\n",
       " [en:0.9999979221538663],\n",
       " [en:0.9999969844780546],\n",
       " [en:0.9999949369720869],\n",
       " [en:0.9999965736317535],\n",
       " [en:0.9999976703180242],\n",
       " [en:0.9999974668247011],\n",
       " [en:0.9999980237877638],\n",
       " [en:0.9999962942496088],\n",
       " [en:0.9999941367564699],\n",
       " [en:0.9999976818542491],\n",
       " [en:0.9999941755491957],\n",
       " [en:0.999999243946606],\n",
       " [en:0.9999984352830866],\n",
       " [en:0.9999978170969787],\n",
       " [en:0.9999963725513314],\n",
       " [en:0.9999968360385684],\n",
       " [en:0.9999972571382469],\n",
       " [en:0.9999976023822045],\n",
       " [en:0.9999962755194252],\n",
       " [en:0.9999967586779893],\n",
       " [en:0.9999961115059146],\n",
       " [en:0.9999969851330831],\n",
       " [en:0.9999962299959887],\n",
       " [en:0.9999972979894723],\n",
       " [en:0.9999954560309425],\n",
       " [en:0.9999960098594423],\n",
       " [en:0.9999966296580846],\n",
       " [en:0.999994547340035],\n",
       " [en:0.9999957807797641],\n",
       " [en:0.9999980214137746],\n",
       " [en:0.9999959197703423],\n",
       " [en:0.9999970132136976],\n",
       " [en:0.9999981603948407],\n",
       " [en:0.9999951869641708],\n",
       " [en:0.9999984656139882],\n",
       " [en:0.9999968393193759],\n",
       " [en:0.9999975309150517],\n",
       " [en:0.9999960334579513],\n",
       " [en:0.9999983791744915],\n",
       " [en:0.99999558033817],\n",
       " [en:0.9999984388946063],\n",
       " [en:0.9999972093888738],\n",
       " [en:0.9999967702659852],\n",
       " [en:0.9999977910116736],\n",
       " [en:0.9999971589003096],\n",
       " [en:0.9999963420994731],\n",
       " [en:0.9999958830216493],\n",
       " [en:0.9999958263162856],\n",
       " [en:0.9999963604083006],\n",
       " [en:0.9999960716853994],\n",
       " [en:0.9999953933017275],\n",
       " [en:0.9999976698995738],\n",
       " [en:0.999995869486245],\n",
       " [en:0.9999949896007061],\n",
       " [en:0.9999970073953955],\n",
       " [en:0.9999968686638316],\n",
       " [en:0.999997517972145],\n",
       " [en:0.9999965892620242],\n",
       " [en:0.9999976931456698],\n",
       " [en:0.999997633203965],\n",
       " [en:0.9999973359344421],\n",
       " [en:0.9999972353843947],\n",
       " [en:0.9999976980308178],\n",
       " [en:0.9999968450253676],\n",
       " [en:0.9999970427021236],\n",
       " [en:0.9999970528624534],\n",
       " [en:0.9999963067529078],\n",
       " [en:0.9999973391016735],\n",
       " [en:0.999996531051651],\n",
       " [en:0.9999945803529622],\n",
       " [en:0.9999960616396126],\n",
       " [en:0.9999974096962911],\n",
       " [en:0.9999969621316656],\n",
       " [en:0.9999979174897129],\n",
       " [en:0.9999965971227969],\n",
       " [en:0.9999974653507742],\n",
       " [en:0.9999968112312263],\n",
       " [en:0.9999977689413584],\n",
       " [en:0.9999982767446991],\n",
       " [en:0.999996936943742],\n",
       " [en:0.9999941737475897],\n",
       " [en:0.9999983724334828],\n",
       " [en:0.9999958980769442],\n",
       " [en:0.9999980966176527],\n",
       " [en:0.9999964005954606],\n",
       " [en:0.9999984418404673],\n",
       " [en:0.9999954108516806],\n",
       " [en:0.9999975486901873],\n",
       " [en:0.9999978752560228],\n",
       " [en:0.9999974732313228],\n",
       " [en:0.9999967271524823],\n",
       " [en:0.9999957324590629],\n",
       " [en:0.999995201827155],\n",
       " [en:0.9999962127377784],\n",
       " [en:0.9999973103351885],\n",
       " [en:0.9999975076402755],\n",
       " [en:0.9999978824650835],\n",
       " [en:0.9999966705486933],\n",
       " [en:0.9999959675787262],\n",
       " [en:0.999997930455059],\n",
       " [en:0.999995086118055],\n",
       " [en:0.9999960783578573],\n",
       " [en:0.9999962798310875],\n",
       " [en:0.9999981312395583],\n",
       " [en:0.999992659499461],\n",
       " [en:0.9999973375709799],\n",
       " [en:0.9999963779563055],\n",
       " [en:0.9999981263233897],\n",
       " [en:0.9999960392947869],\n",
       " [en:0.9999944890341773],\n",
       " [en:0.9999960010685548],\n",
       " [en:0.9999969071501265],\n",
       " [en:0.9999983467696087],\n",
       " [en:0.9999980083505585],\n",
       " [en:0.9999978157425624],\n",
       " [en:0.9999964151522898],\n",
       " [en:0.9999958267376328],\n",
       " [en:0.9999980012005062],\n",
       " [en:0.9999959651355663],\n",
       " [en:0.9999981059748332],\n",
       " [en:0.9999970244047933],\n",
       " [en:0.9999966103587259],\n",
       " [en:0.9999964536117956],\n",
       " [en:0.9999970372394109],\n",
       " [en:0.9999971737832279],\n",
       " [en:0.9999949535294087],\n",
       " [en:0.9999953367400665],\n",
       " [en:0.9999967863671473],\n",
       " [en:0.9999990356654564],\n",
       " [en:0.9999970224745681],\n",
       " [en:0.9999981343089251],\n",
       " [en:0.9999972701321311],\n",
       " [en:0.9999970743614245],\n",
       " [en:0.999997871288537],\n",
       " [en:0.9999970791239193],\n",
       " [en:0.9999967684505285],\n",
       " [en:0.9999972754392493],\n",
       " [en:0.9999953828266587],\n",
       " [en:0.9999943125687709],\n",
       " [en:0.9999995326066702],\n",
       " [en:0.9999969843172323],\n",
       " [en:0.9999967748569201],\n",
       " [en:0.9999983869160673],\n",
       " [en:0.9999966296429355],\n",
       " [en:0.9999971802696983],\n",
       " [en:0.9999946042993897],\n",
       " [en:0.9999957742178653],\n",
       " [en:0.9999971862520581],\n",
       " [en:0.999994703451689],\n",
       " [en:0.9999948264434377],\n",
       " [en:0.9999977544868542],\n",
       " [en:0.9999964268105643],\n",
       " [en:0.9999974134028274],\n",
       " [en:0.9999969773475419],\n",
       " [en:0.999995688049572],\n",
       " [en:0.9999961631330002],\n",
       " [en:0.9999959138352384],\n",
       " [en:0.9999967705564322],\n",
       " [en:0.9999974321523262],\n",
       " [en:0.9999992184672202],\n",
       " [en:0.9999960606570465],\n",
       " [en:0.9999959257986257],\n",
       " [en:0.9999961134805632],\n",
       " [en:0.9999977420563141],\n",
       " [en:0.9999978832456319],\n",
       " [en:0.9999973245738805],\n",
       " [en:0.9999969868596996],\n",
       " [en:0.999997939013188],\n",
       " [en:0.9999951905441264],\n",
       " [en:0.9999971991732204],\n",
       " [en:0.9999982215039308],\n",
       " [en:0.9999972730353112],\n",
       " [en:0.999997505955565],\n",
       " [en:0.9999970868407553],\n",
       " [en:0.999995199938425],\n",
       " [en:0.999997210304139],\n",
       " [en:0.9999976521871573],\n",
       " [en:0.9999962064335224],\n",
       " [en:0.9999982082311755],\n",
       " [en:0.9999967136138638],\n",
       " [en:0.9999984379253023],\n",
       " [en:0.9999957606789353],\n",
       " [en:0.9999960391535079],\n",
       " [en:0.9999959990133602],\n",
       " [en:0.9999975106249532],\n",
       " [en:0.9999981276142573],\n",
       " [en:0.9999975144460566],\n",
       " [en:0.9999968990097534],\n",
       " [en:0.999997443521293],\n",
       " [en:0.9999978292255621],\n",
       " [en:0.9999982318890834],\n",
       " [en:0.9999959127204916],\n",
       " [en:0.9999963469019395],\n",
       " [en:0.999997098323484],\n",
       " [en:0.999996359547996],\n",
       " [en:0.9999959880541308],\n",
       " [en:0.9999962420316406],\n",
       " [en:0.9999967854608218],\n",
       " [en:0.9999965730570788],\n",
       " [en:0.9999968192254443],\n",
       " [en:0.9999963884510332],\n",
       " [en:0.9999980851745562],\n",
       " [en:0.9999981714694302],\n",
       " [en:0.9999978085186709],\n",
       " [en:0.9999969167247815],\n",
       " [en:0.9999966151912194],\n",
       " [en:0.999997788855868],\n",
       " [en:0.999996740093456],\n",
       " [en:0.9999976597693291],\n",
       " [en:0.9999968234940025],\n",
       " [en:0.9999949649224027],\n",
       " [en:0.9999968182590863],\n",
       " [en:0.9999988659862793],\n",
       " [en:0.9999977414239999],\n",
       " [en:0.9999977344197889],\n",
       " [en:0.9999965906586585],\n",
       " [en:0.9999976262547857],\n",
       " [en:0.9999957639940125],\n",
       " [en:0.9999968318269732],\n",
       " [en:0.9999985168104881],\n",
       " [en:0.9999969343596641],\n",
       " [en:0.9999975981768616],\n",
       " [en:0.9999947714175534],\n",
       " [en:0.999996100904878],\n",
       " [en:0.9999979336991643],\n",
       " [en:0.9999970422874954],\n",
       " [en:0.9999969964073832],\n",
       " [en:0.9999979283466087],\n",
       " [en:0.9999967559349894],\n",
       " [en:0.9999975442622927],\n",
       " [en:0.9999958956976294],\n",
       " [en:0.9999950977964707],\n",
       " [en:0.9999979626638373],\n",
       " [en:0.9999970834400188],\n",
       " [en:0.9999969019675977],\n",
       " [en:0.9999962830408438],\n",
       " [en:0.9999973157462463],\n",
       " [en:0.999994979131304],\n",
       " [en:0.999998395595352],\n",
       " [en:0.9999972135810847],\n",
       " [en:0.9999967334572025],\n",
       " [en:0.9999967319235141],\n",
       " [en:0.9999958935196794],\n",
       " [en:0.9999977357659193],\n",
       " [en:0.9999958330987767],\n",
       " [en:0.9999970929036122],\n",
       " [en:0.9999975833357788],\n",
       " [en:0.9999958940065719],\n",
       " [en:0.9999960067112507],\n",
       " [en:0.9999982501412082],\n",
       " [en:0.999996915750707],\n",
       " [en:0.9999979616038418],\n",
       " [en:0.9999988038551015],\n",
       " [en:0.9999982878713802],\n",
       " [en:0.999995822228223],\n",
       " [en:0.999999000134714],\n",
       " [en:0.9999962888454864],\n",
       " [en:0.9999969131337396],\n",
       " [en:0.9999984719591499],\n",
       " [en:0.9999961265220427],\n",
       " [en:0.9999973368021478],\n",
       " [en:0.9999986364947648],\n",
       " [en:0.9999959777955154],\n",
       " [en:0.9999983489373641],\n",
       " [en:0.9999989448238757],\n",
       " [en:0.9999954700201773],\n",
       " [en:0.9999970704676981],\n",
       " [en:0.9999986080180403],\n",
       " [en:0.9999970345586204],\n",
       " [en:0.9999962030522687],\n",
       " [en:0.9999965165493004],\n",
       " [en:0.999997706192833],\n",
       " [en:0.9999965258746523],\n",
       " [en:0.9999969960504419],\n",
       " [en:0.999997594148871],\n",
       " [en:0.9999976474642218],\n",
       " [en:0.999997373846027],\n",
       " [en:0.9999979914394346],\n",
       " [en:0.999996733347033],\n",
       " [en:0.9999973609200112],\n",
       " [en:0.9999976877936131],\n",
       " [en:0.9999955892838606],\n",
       " [en:0.9999976356496938],\n",
       " [en:0.9999954272054158],\n",
       " [en:0.9999979978200451],\n",
       " [en:0.9999962432594164],\n",
       " [en:0.9999967700968858],\n",
       " [en:0.9999974412610144],\n",
       " [en:0.9999979946744584],\n",
       " [en:0.9999973948967288],\n",
       " [en:0.9999979894590713],\n",
       " [en:0.9999973757214279],\n",
       " [en:0.9999980923639427],\n",
       " [en:0.9999965168844465],\n",
       " [en:0.9999986877635214],\n",
       " [en:0.9999981365418565],\n",
       " [en:0.9999967722316143],\n",
       " [en:0.9999979298361477],\n",
       " [en:0.999997689717345],\n",
       " [en:0.9999975514433816],\n",
       " [en:0.9999966263117357],\n",
       " [en:0.9999960814705351],\n",
       " [en:0.9999972474223654],\n",
       " [en:0.9999968340836385],\n",
       " [en:0.9999957470542904],\n",
       " [en:0.9999972355155706],\n",
       " [en:0.9999972551630769],\n",
       " [en:0.9999951304942842],\n",
       " [en:0.9999964410979242],\n",
       " [en:0.9999951845550478],\n",
       " [en:0.999996880097334],\n",
       " [en:0.9999968059647648],\n",
       " [en:0.999997861345118],\n",
       " [en:0.9999980740229654],\n",
       " [en:0.9999975103651318],\n",
       " [en:0.9999970478019276],\n",
       " [en:0.9999980262284534],\n",
       " [en:0.999996270781734],\n",
       " [en:0.9999968377193116],\n",
       " [en:0.9999961099379076],\n",
       " [en:0.9999956261345231],\n",
       " [en:0.9999973056237993],\n",
       " [en:0.9999981446360804],\n",
       " [en:0.9999964504437129],\n",
       " [en:0.9999980356116103],\n",
       " [en:0.9999969938110653],\n",
       " [en:0.9999971364062762],\n",
       " [en:0.9999977440720917],\n",
       " [en:0.999994404843608],\n",
       " [en:0.9999950945846445],\n",
       " [en:0.9999959866294761],\n",
       " [en:0.9999963670493415],\n",
       " [en:0.9999952537038574],\n",
       " [en:0.9999955915850418],\n",
       " [en:0.9999971464469806],\n",
       " [en:0.9999947070047683],\n",
       " [en:0.9999964070223956],\n",
       " [en:0.9999961971131525],\n",
       " [en:0.999995896138621],\n",
       " [en:0.9999983390557257],\n",
       " [en:0.9999960762243555],\n",
       " [en:0.9999982971892296],\n",
       " [en:0.9999950717121653],\n",
       " [en:0.9999975802476712],\n",
       " [en:0.9999942970268396],\n",
       " [en:0.9999979890587989],\n",
       " [en:0.9999962712743358],\n",
       " [en:0.9999973248314658],\n",
       " [en:0.9999978968691638],\n",
       " [en:0.9999974420455311],\n",
       " [en:0.9999985131773184],\n",
       " [en:0.9999953010508461],\n",
       " [en:0.9999967562038288],\n",
       " [en:0.9999980355670081],\n",
       " [en:0.999996158738963],\n",
       " [en:0.9999980213301518],\n",
       " [en:0.999995309744518],\n",
       " [en:0.9999954850634484],\n",
       " [en:0.9999976831301923],\n",
       " [en:0.99999729784802],\n",
       " [en:0.9999970352165648],\n",
       " [en:0.9999975103293716],\n",
       " [en:0.9999956953772542],\n",
       " [en:0.9999974043583252],\n",
       " [en:0.9999963267788599],\n",
       " [en:0.9999966813488728],\n",
       " [en:0.9999962275070408],\n",
       " [en:0.9999972763485399],\n",
       " [en:0.9999965785399076],\n",
       " [en:0.9999972915347741],\n",
       " [en:0.9999987656917503],\n",
       " [en:0.9999980802175121],\n",
       " [en:0.9999969424728733],\n",
       " [en:0.9999971478354374],\n",
       " [en:0.9999968535089966],\n",
       " [en:0.9999959024622892],\n",
       " [en:0.9999959433078784],\n",
       " [en:0.9999957278994973],\n",
       " [en:0.9999968414648499],\n",
       " [en:0.9999975707664227],\n",
       " [en:0.999996516126075],\n",
       " [en:0.9999973778604316],\n",
       " [en:0.9999970027912038],\n",
       " [en:0.9999967701650807],\n",
       " [en:0.9999972237484198],\n",
       " [en:0.9999970662043353],\n",
       " [en:0.9999993878231435],\n",
       " [en:0.9999986806708722],\n",
       " [en:0.9999962141108427],\n",
       " [en:0.9999971704629846],\n",
       " [en:0.9999965795395279],\n",
       " [en:0.99999470532874],\n",
       " [en:0.9999968166515669],\n",
       " [en:0.9999975480508146],\n",
       " [en:0.9999977961580035],\n",
       " [en:0.9999944823394822],\n",
       " [en:0.9999947189894962],\n",
       " [en:0.9999988175184863],\n",
       " [en:0.9999990617111552],\n",
       " [en:0.9999965597701084],\n",
       " [en:0.9999969105713726],\n",
       " [en:0.9999972182995406],\n",
       " [en:0.9999968544471222],\n",
       " [en:0.9999964940568759],\n",
       " [en:0.999997183431264],\n",
       " [en:0.9999983711154706],\n",
       " [en:0.9999978285412856],\n",
       " [en:0.999996866712778],\n",
       " [en:0.9999964529481695],\n",
       " [en:0.9999961910277069],\n",
       " [en:0.9999971821207685],\n",
       " [en:0.9999969447953384],\n",
       " [en:0.9999984501741771],\n",
       " [en:0.999996513061469],\n",
       " [en:0.999997602027529],\n",
       " [en:0.9999975388508118],\n",
       " [en:0.9999972733858907],\n",
       " [en:0.9999971393684124],\n",
       " [en:0.9999982963060668],\n",
       " [en:0.9999965371822916],\n",
       " [en:0.9999976960079193],\n",
       " [en:0.9999964334046707],\n",
       " [en:0.9999980758487724],\n",
       " [en:0.9999986455378175],\n",
       " [en:0.9999947342099887],\n",
       " [en:0.9999966472087507],\n",
       " [en:0.9999979845631091],\n",
       " [en:0.999998544580255],\n",
       " [en:0.9999948129143458],\n",
       " [en:0.9999967210895779],\n",
       " [en:0.9999983270235856],\n",
       " [en:0.9999971422117507],\n",
       " [en:0.9999981925335799],\n",
       " [en:0.9999984740021433],\n",
       " [en:0.9999961571502151],\n",
       " [en:0.9999965696135568],\n",
       " [en:0.9999984692654443],\n",
       " [en:0.9999994566279983],\n",
       " [en:0.9999959449712641],\n",
       " [en:0.9999977224427453],\n",
       " [en:0.9999968363975689],\n",
       " [en:0.9999960659909519],\n",
       " [en:0.9999950902123268],\n",
       " [en:0.9999968968109376],\n",
       " [en:0.9999956582371736],\n",
       " [en:0.9999973487011551],\n",
       " [en:0.9999973973584413],\n",
       " [en:0.9999956339048688],\n",
       " [en:0.9999975960095546],\n",
       " [en:0.9999967070603847],\n",
       " [en:0.9999962831809943],\n",
       " [en:0.9999981468574095],\n",
       " [en:0.9999972387981058],\n",
       " [en:0.9999961228362411],\n",
       " [en:0.9999977624728567],\n",
       " [en:0.9999973648627479],\n",
       " [en:0.9999988657006725],\n",
       " [en:0.9999960146761193],\n",
       " [en:0.9999985567300324],\n",
       " [en:0.9999966177426174],\n",
       " [en:0.9999960991301631],\n",
       " [en:0.9999976618728322],\n",
       " [en:0.9999979588787373],\n",
       " [en:0.9999969948434636],\n",
       " [en:0.9999979730241835],\n",
       " [en:0.9999973557979771],\n",
       " [en:0.9999966362324226],\n",
       " [en:0.9999957387957609],\n",
       " [en:0.999996650268383],\n",
       " [en:0.9999965766777068],\n",
       " [en:0.9999977334185176],\n",
       " [en:0.9999948697830864],\n",
       " [en:0.999996512376776],\n",
       " [en:0.9999968073219387],\n",
       " [en:0.9999972169936546],\n",
       " [en:0.999997284135041],\n",
       " [en:0.9999963352314937],\n",
       " [en:0.9999976072994019],\n",
       " [en:0.9999974337814215],\n",
       " [en:0.9999981642935393],\n",
       " [en:0.9999973579881021],\n",
       " [en:0.9999967231235914],\n",
       " [en:0.9999955602024597],\n",
       " [en:0.9999969978674104],\n",
       " [en:0.9999946029541891],\n",
       " [en:0.9999971207509931],\n",
       " [en:0.9999971614821156],\n",
       " [en:0.9999968162770022],\n",
       " [en:0.9999947740261101],\n",
       " [en:0.9999942025713823],\n",
       " [en:0.9999981110971],\n",
       " [en:0.9999980982927527],\n",
       " [en:0.9999953242140436],\n",
       " [en:0.9999953864245623],\n",
       " [en:0.9999974749509263],\n",
       " [en:0.9999973391504118],\n",
       " [en:0.9999957910540119],\n",
       " [en:0.9999978251915437],\n",
       " [en:0.9999965823805327],\n",
       " [en:0.9999962429507159],\n",
       " [en:0.9999987036814251],\n",
       " [en:0.9999976910235442],\n",
       " [en:0.999996333545897],\n",
       " [en:0.9999971385290417],\n",
       " [en:0.9999958517342628],\n",
       " [en:0.9999969716354628],\n",
       " [en:0.9999980012193408],\n",
       " [en:0.9999987815613807],\n",
       " [en:0.9999985690632908],\n",
       " [en:0.9999975501922664],\n",
       " [en:0.9999950805870244],\n",
       " [en:0.9999950208933789],\n",
       " [en:0.9999970132603716],\n",
       " [en:0.9999957455325599],\n",
       " [en:0.9999952230983014],\n",
       " [en:0.9999972010222649],\n",
       " [en:0.9999976619776734],\n",
       " [en:0.9999971910337342],\n",
       " [en:0.9999979116882438],\n",
       " [en:0.9999952512498281],\n",
       " [en:0.9999974619714089],\n",
       " [en:0.9999974836857992],\n",
       " [en:0.9999969925820421],\n",
       " [en:0.9999969864749201],\n",
       " [en:0.9999976476508016],\n",
       " [en:0.9999976668872006],\n",
       " [en:0.9999976640929749],\n",
       " [en:0.9999988207760282],\n",
       " [en:0.9999976540106358],\n",
       " [en:0.9999961665108577],\n",
       " [en:0.9999968639056602],\n",
       " [en:0.9999965834277021],\n",
       " [en:0.9999961895103089],\n",
       " [en:0.9999965115192825],\n",
       " [en:0.99999702254849],\n",
       " [en:0.9999957614977438],\n",
       " [en:0.9999968471367188],\n",
       " [en:0.9999969908921087],\n",
       " [en:0.9999987813318589],\n",
       " [en:0.9999978618624799],\n",
       " [en:0.9999984122038197],\n",
       " [en:0.9999962522560348],\n",
       " [en:0.9999954891613493],\n",
       " [en:0.9999961099465784],\n",
       " [en:0.9999974055444758],\n",
       " [en:0.9999944032248288],\n",
       " [en:0.9999955930192899],\n",
       " [en:0.9999969188688385],\n",
       " [en:0.999998366919091],\n",
       " [en:0.9999973171487911],\n",
       " [en:0.999997004991017],\n",
       " [en:0.9999987025767731],\n",
       " [en:0.9999954600985996],\n",
       " [en:0.9999954754546889],\n",
       " [en:0.9999975325881242],\n",
       " [en:0.9999983269145247],\n",
       " [en:0.9999963442002378],\n",
       " [en:0.9999969945970653],\n",
       " [en:0.9999967011330374],\n",
       " [en:0.9999974145546083],\n",
       " [en:0.9999962147716391],\n",
       " [en:0.9999960386248551],\n",
       " [en:0.9999981235541258],\n",
       " [en:0.9999971474357543],\n",
       " [en:0.9999977675530896],\n",
       " [en:0.9999996091709489],\n",
       " [en:0.9999984490901161],\n",
       " [en:0.9999967241603585],\n",
       " [en:0.9999964219444354],\n",
       " [en:0.9999960514514296],\n",
       " [en:0.9999961039323967],\n",
       " [en:0.9999978292840326],\n",
       " [en:0.9999961046224657],\n",
       " [en:0.99999550013856],\n",
       " [en:0.999997954705104],\n",
       " [en:0.999996709968834],\n",
       " [en:0.9999962219834928],\n",
       " [en:0.9999972191189747],\n",
       " [en:0.9999980315335513],\n",
       " [en:0.9999978231107238],\n",
       " [en:0.9999971872137566],\n",
       " [en:0.9999970952845022],\n",
       " [en:0.9999976963130199],\n",
       " [en:0.9999979003463676],\n",
       " [en:0.9999969027304245],\n",
       " [en:0.9999972822223695],\n",
       " [en:0.9999963962547244],\n",
       " [en:0.9999980106777455],\n",
       " [en:0.9999977625039826],\n",
       " [en:0.9999975216610183],\n",
       " [en:0.9999953081810301],\n",
       " [en:0.9999963597942971],\n",
       " [en:0.9999967409561272],\n",
       " [en:0.9999974290678053],\n",
       " [en:0.9999978221504727],\n",
       " [en:0.9999966871695104],\n",
       " [en:0.9999982524551644],\n",
       " [en:0.9999963413281561],\n",
       " [en:0.999995473411093],\n",
       " [en:0.9999961473091314],\n",
       " [en:0.9999966472858965],\n",
       " [en:0.9999976223287133],\n",
       " [en:0.9999966691347336],\n",
       " [en:0.9999980981918262],\n",
       " [en:0.9999955941521582],\n",
       " [en:0.999998693537593],\n",
       " [en:0.9999987581020644],\n",
       " [en:0.9999982443194593],\n",
       " [en:0.9999972948474732],\n",
       " [en:0.9999980019674464],\n",
       " [en:0.9999960990709741],\n",
       " [en:0.9999938629002381],\n",
       " [en:0.9999966701545041],\n",
       " [en:0.9999954717928502],\n",
       " [en:0.9999958650552061],\n",
       " [en:0.9999966090933537],\n",
       " [en:0.9999958838605089],\n",
       " [en:0.9999981085389891],\n",
       " [en:0.9999981165646403],\n",
       " [en:0.9999961828492432],\n",
       " [en:0.9999955057692973],\n",
       " [en:0.9999980936466124],\n",
       " [en:0.9999978132014866],\n",
       " [en:0.9999981397282193],\n",
       " [en:0.9999961763048574],\n",
       " [en:0.99999642997789],\n",
       " [en:0.9999975959934456],\n",
       " [en:0.999994654376194],\n",
       " [en:0.9999982556554008],\n",
       " [en:0.9999963071289377],\n",
       " [en:0.999996903657995],\n",
       " [en:0.9999963870087313],\n",
       " [en:0.9999942646879281],\n",
       " [en:0.9999970648261303],\n",
       " [en:0.9999983449282002],\n",
       " [en:0.9999959261159382],\n",
       " [en:0.9999967212632408],\n",
       " [en:0.9999972886002361],\n",
       " [en:0.999995724138972],\n",
       " [en:0.9999967581938912],\n",
       " [en:0.9999968831407776],\n",
       " [en:0.9999967065432183],\n",
       " [en:0.9999957834797097],\n",
       " [en:0.9999969030535361],\n",
       " [en:0.9999986039567521],\n",
       " [en:0.9999970364938454],\n",
       " [en:0.9999989134507843],\n",
       " [en:0.9999972738336295],\n",
       " [en:0.9999971889940182],\n",
       " [en:0.9999970523958837],\n",
       " [en:0.9999983379300255],\n",
       " [en:0.9999987284466321],\n",
       " [en:0.9999990238124855],\n",
       " [en:0.9999968281214758],\n",
       " [en:0.9999972663406999],\n",
       " [en:0.9999963588064844],\n",
       " [en:0.9999964949850721],\n",
       " [en:0.9999977100034684],\n",
       " [en:0.999996295932388],\n",
       " [en:0.9999959328967882],\n",
       " [en:0.9999971938769735],\n",
       " [en:0.9999975524869332],\n",
       " [en:0.9999974493060926],\n",
       " [en:0.9999964983410377],\n",
       " [en:0.9999973627589485],\n",
       " [en:0.9999973637061182],\n",
       " [en:0.9999970412938399],\n",
       " [en:0.9999945525211378],\n",
       " [en:0.9999964008679774],\n",
       " [en:0.9999972579170536],\n",
       " [en:0.9999944971881426],\n",
       " [en:0.9999985116739861],\n",
       " [en:0.9999983182600156],\n",
       " [en:0.9999979091338074],\n",
       " [en:0.9999965172443017],\n",
       " [en:0.9999979672911399],\n",
       " [en:0.9999973526338348],\n",
       " [en:0.9999966983990137],\n",
       " [en:0.9999944342895895],\n",
       " [en:0.9999963924249476],\n",
       " [en:0.9999962055115003],\n",
       " [en:0.9999969551521581],\n",
       " [en:0.9999978013675852],\n",
       " [en:0.9999990274829258],\n",
       " [en:0.9999971035179215],\n",
       " [en:0.7142818099267991, cy:0.28571622357262816],\n",
       " [en:0.9999955340532257],\n",
       " [en:0.999997825045955],\n",
       " [en:0.9999971909120458],\n",
       " [en:0.9999971872279539],\n",
       " [en:0.9999978895196902],\n",
       " [en:0.9999961684422028],\n",
       " [en:0.9999951507708258],\n",
       " [en:0.9999988940571911],\n",
       " [en:0.9999943353578739],\n",
       " [en:0.9999965086544561],\n",
       " [en:0.9999955513625269],\n",
       " [en:0.9999959062051326],\n",
       " [en:0.9999967314970163],\n",
       " [en:0.9999966395026889],\n",
       " [en:0.9999988127734162],\n",
       " [en:0.9999968316541608],\n",
       " [en:0.999996593302115],\n",
       " [en:0.9999981434023589],\n",
       " [en:0.9999976370346075],\n",
       " [en:0.9999978144490322],\n",
       " [en:0.9999968689831851],\n",
       " [en:0.9999969813852496],\n",
       " [en:0.9999964035867338],\n",
       " [en:0.9999979117552893],\n",
       " [en:0.9999958499734992],\n",
       " [en:0.9999979675147476],\n",
       " [en:0.9999969694890478],\n",
       " [en:0.9999958128162002],\n",
       " [en:0.9999966655929757],\n",
       " [en:0.9999976062603089],\n",
       " [en:0.999997067909348],\n",
       " [en:0.9999963590802077],\n",
       " [en:0.9999977580567555],\n",
       " [en:0.9999962778216136],\n",
       " [en:0.9999971335801942],\n",
       " [en:0.9999980113904778],\n",
       " [en:0.9999965838090733],\n",
       " [en:0.9999968755165463],\n",
       " [en:0.9999983918921709],\n",
       " [en:0.9999975006307469],\n",
       " [en:0.999995721630997],\n",
       " [en:0.9999973775669353],\n",
       " [en:0.9999931997259321],\n",
       " [en:0.9999961698839666],\n",
       " [en:0.9999969275737285],\n",
       " [en:0.9999962942135084],\n",
       " [en:0.9999969282476203],\n",
       " [en:0.9999955702402799],\n",
       " [en:0.9999952245262147],\n",
       " [en:0.9999956853160198],\n",
       " [en:0.9999965188759785],\n",
       " [en:0.9999979875591676],\n",
       " [en:0.999997401176722],\n",
       " [en:0.9999952958613897],\n",
       " [en:0.9999966031677292],\n",
       " [en:0.9999985149368251],\n",
       " [en:0.9999963977235408],\n",
       " [en:0.9999953514008164],\n",
       " [en:0.9999962089191505],\n",
       " [en:0.9999950052292828],\n",
       " [en:0.9999957136209237],\n",
       " [en:0.9999986908332283],\n",
       " [en:0.999997008132157],\n",
       " [en:0.9999954116508222],\n",
       " [en:0.9999976087576944],\n",
       " [en:0.99999747888159],\n",
       " [en:0.9999962679073809],\n",
       " [en:0.9999948657416148],\n",
       " [en:0.9999946422802413],\n",
       " [en:0.9999960811939875],\n",
       " [en:0.9999955806624162],\n",
       " [en:0.9999977174199751],\n",
       " [en:0.9999947283661337],\n",
       " [en:0.999997551800729],\n",
       " [en:0.9999969865554006],\n",
       " [en:0.9999969674429092],\n",
       " [en:0.9999969207576249],\n",
       " [en:0.9999968027596383],\n",
       " [en:0.9999979079187518],\n",
       " [en:0.9999941520580786],\n",
       " [en:0.9999958211273086],\n",
       " [en:0.9999960076216148],\n",
       " [en:0.9999969395298625],\n",
       " [en:0.9999969174937386],\n",
       " [en:0.9999974777716842],\n",
       " [en:0.999997171119959],\n",
       " [en:0.9999973413568326],\n",
       " [en:0.9999957830245816],\n",
       " [en:0.9999974074210206],\n",
       " [en:0.9999979155844836],\n",
       " [en:0.9999991896352561],\n",
       " [en:0.99999792685056],\n",
       " [en:0.9999975222629303],\n",
       " [en:0.9999977518088289],\n",
       " [en:0.9999971900231241],\n",
       " [en:0.9999975747118528],\n",
       " [en:0.999995748333006],\n",
       " [en:0.9999961586465097],\n",
       " [en:0.9999987182091933],\n",
       " [en:0.9999944433734147],\n",
       " [en:0.9999958823169557],\n",
       " [en:0.9999966909011366],\n",
       " [en:0.9999967221963418],\n",
       " [en:0.999996418749321],\n",
       " [en:0.9999967483765793],\n",
       " [en:0.9999945791110496],\n",
       " [en:0.9999958402171245],\n",
       " [en:0.9999965272480366],\n",
       " [en:0.9999950431522404],\n",
       " [en:0.999997002254512],\n",
       " [en:0.9999968963386874],\n",
       " [en:0.9999976185343908],\n",
       " [en:0.9999969186620875],\n",
       " [en:0.9999965717786512],\n",
       " [en:0.9999977951730827],\n",
       " [en:0.9999962350004443],\n",
       " [en:0.9999974955692791],\n",
       " [en:0.9999940057750687],\n",
       " ...]"
      ]
     },
     "execution_count": 68,
     "metadata": {},
     "output_type": "execute_result"
    }
   ],
   "source": [
    "languages"
   ]
  },
  {
   "cell_type": "markdown",
   "id": "unusual-jacket",
   "metadata": {},
   "source": [
    "**Construindo um recurso para o idioma** \n",
    "\n",
    "Temos mais uma etapa antes de criar nosso recurso de linguagem. Vimos que idiomas é uma lista de listas. Queremos extrair o primeiro elemento de cada lista dentro dos idiomas, pois o primeiro item é sempre o idioma mais provável. \n",
    "\n",
    "Uma maneira rápida de fazer isso é pela compreensão de listas. Vamos dividir o comando em etapas. Por exemplo, vamos pegar o primeiro elemento dos idiomas e dividi-lo em um sinal de dois pontos. Depois disso, extraímos o primeiro elemento da divisão resultante, retornando \"[es\"\n",
    "\n",
    "Por fim, como há um colchete esquerdo antes do idioma, selecionamos tudo a partir do segundo elemento, resultando em 'es' para o espanhol."
   ]
  },
  {
   "cell_type": "code",
   "execution_count": 70,
   "id": "adult-condition",
   "metadata": {
    "ExecuteTime": {
     "end_time": "2021-09-22T16:31:41.789322Z",
     "start_time": "2021-09-22T16:31:41.776326Z"
    }
   },
   "outputs": [
    {
     "data": {
      "text/plain": [
       "['[en', '0.9999962349314374]']"
      ]
     },
     "execution_count": 70,
     "metadata": {},
     "output_type": "execute_result"
    }
   ],
   "source": [
    "# transform the first list to a string and aplit on a colon\n",
    "\n",
    "str(languages[0]).split(':')"
   ]
  },
  {
   "cell_type": "code",
   "execution_count": 71,
   "id": "patent-nowhere",
   "metadata": {
    "ExecuteTime": {
     "end_time": "2021-09-22T16:31:53.059448Z",
     "start_time": "2021-09-22T16:31:53.040499Z"
    }
   },
   "outputs": [
    {
     "data": {
      "text/plain": [
       "'[en'"
      ]
     },
     "execution_count": 71,
     "metadata": {},
     "output_type": "execute_result"
    }
   ],
   "source": [
    "str(languages[0]).split(':')[0]"
   ]
  },
  {
   "cell_type": "code",
   "execution_count": 74,
   "id": "collected-electricity",
   "metadata": {
    "ExecuteTime": {
     "end_time": "2021-09-22T16:32:41.080109Z",
     "start_time": "2021-09-22T16:32:41.067124Z"
    }
   },
   "outputs": [
    {
     "data": {
      "text/plain": [
       "'en'"
      ]
     },
     "execution_count": 74,
     "metadata": {},
     "output_type": "execute_result"
    }
   ],
   "source": [
    "str(languages[0]).split(':')[0][1:]"
   ]
  },
  {
   "cell_type": "markdown",
   "id": "golden-sunglasses",
   "metadata": {},
   "source": [
    "Para escrever a compreensão da lista, reunimos essas etapas iterando cada item em nossa lista de listas. Por último, atribuímos a lista limpa a uma nova coluna, chamada language."
   ]
  },
  {
   "cell_type": "code",
   "execution_count": 75,
   "id": "committed-arizona",
   "metadata": {
    "ExecuteTime": {
     "end_time": "2021-09-22T16:33:51.403792Z",
     "start_time": "2021-09-22T16:33:51.367859Z"
    }
   },
   "outputs": [],
   "source": [
    "languages = [str(lang).split(':')[0][1:] for lang in languages]\n",
    "reviews['language'] = languages"
   ]
  },
  {
   "cell_type": "code",
   "execution_count": 76,
   "id": "subjective-branch",
   "metadata": {
    "ExecuteTime": {
     "end_time": "2021-09-22T16:33:58.059920Z",
     "start_time": "2021-09-22T16:33:58.040939Z"
    }
   },
   "outputs": [
    {
     "data": {
      "text/html": [
       "<div>\n",
       "<style scoped>\n",
       "    .dataframe tbody tr th:only-of-type {\n",
       "        vertical-align: middle;\n",
       "    }\n",
       "\n",
       "    .dataframe tbody tr th {\n",
       "        vertical-align: top;\n",
       "    }\n",
       "\n",
       "    .dataframe thead th {\n",
       "        text-align: right;\n",
       "    }\n",
       "</style>\n",
       "<table border=\"1\" class=\"dataframe\">\n",
       "  <thead>\n",
       "    <tr style=\"text-align: right;\">\n",
       "      <th></th>\n",
       "      <th>score</th>\n",
       "      <th>review</th>\n",
       "      <th>language</th>\n",
       "    </tr>\n",
       "  </thead>\n",
       "  <tbody>\n",
       "    <tr>\n",
       "      <th>0</th>\n",
       "      <td>1</td>\n",
       "      <td>Stuning even for the non-gamer: This sound tr...</td>\n",
       "      <td>en</td>\n",
       "    </tr>\n",
       "    <tr>\n",
       "      <th>1</th>\n",
       "      <td>1</td>\n",
       "      <td>The best soundtrack ever to anything.: I'm re...</td>\n",
       "      <td>en</td>\n",
       "    </tr>\n",
       "    <tr>\n",
       "      <th>2</th>\n",
       "      <td>1</td>\n",
       "      <td>Amazing!: This soundtrack is my favorite musi...</td>\n",
       "      <td>en</td>\n",
       "    </tr>\n",
       "    <tr>\n",
       "      <th>3</th>\n",
       "      <td>1</td>\n",
       "      <td>Excellent Soundtrack: I truly like this sound...</td>\n",
       "      <td>en</td>\n",
       "    </tr>\n",
       "    <tr>\n",
       "      <th>4</th>\n",
       "      <td>1</td>\n",
       "      <td>Remember, Pull Your Jaw Off The Floor After H...</td>\n",
       "      <td>en</td>\n",
       "    </tr>\n",
       "  </tbody>\n",
       "</table>\n",
       "</div>"
      ],
      "text/plain": [
       "   score                                             review language\n",
       "0      1   Stuning even for the non-gamer: This sound tr...       en\n",
       "1      1   The best soundtrack ever to anything.: I'm re...       en\n",
       "2      1   Amazing!: This soundtrack is my favorite musi...       en\n",
       "3      1   Excellent Soundtrack: I truly like this sound...       en\n",
       "4      1   Remember, Pull Your Jaw Off The Floor After H...       en"
      ]
     },
     "execution_count": 76,
     "metadata": {},
     "output_type": "execute_result"
    }
   ],
   "source": [
    "reviews.head()"
   ]
  }
 ],
 "metadata": {
  "kernelspec": {
   "display_name": "Python 3",
   "language": "python",
   "name": "python3"
  },
  "language_info": {
   "codemirror_mode": {
    "name": "ipython",
    "version": 3
   },
   "file_extension": ".py",
   "mimetype": "text/x-python",
   "name": "python",
   "nbconvert_exporter": "python",
   "pygments_lexer": "ipython3",
   "version": "3.6.4"
  },
  "toc": {
   "base_numbering": 1,
   "nav_menu": {},
   "number_sections": true,
   "sideBar": true,
   "skip_h1_title": false,
   "title_cell": "Table of Contents",
   "title_sidebar": "Contents",
   "toc_cell": false,
   "toc_position": {},
   "toc_section_display": true,
   "toc_window_display": true
  }
 },
 "nbformat": 4,
 "nbformat_minor": 5
}
