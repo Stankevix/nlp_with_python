{
 "cells": [
  {
   "cell_type": "markdown",
   "id": "contemporary-reconstruction",
   "metadata": {},
   "source": [
    "# Chapter 4 - Predict the Sentiment"
   ]
  },
  {
   "attachments": {
    "image.png": {
     "image/png": "[encoded data removed]"
    }
   },
   "cell_type": "markdown",
   "id": "stainless-amateur",
   "metadata": {},
   "source": [
    "Neste capítulo final, usaremos um modelo de aprendizado supervisionado para prever o sentimento.\n",
    "\n",
    "**Problemas de classificação**\n",
    "\n",
    "Imagine que estamos trabalhando com as análises do produto. Uma tarefa de aprendizagem supervisionada tentará classificar qualquer nova avaliação como positiva ou negativa com base nas avaliações já rotuladas. Isso é o que chamamos de problema de classificação. No caso das resenhas de produtos e filmes, temos duas classes - positivas e negativas. Este é um problema de classificação binária. Os dados do Twitter sobre o sentimento das companhias aéreas têm três categorias de sentimento: positivo, neutro e negativo. Este é um problema de classificação multiclasse.\n",
    "\n",
    "**Regressões lineares e logísticas**\n",
    "\n",
    "Um algoritmo comumente aplicado em tarefas de classificação é uma regressão logística. Você pode estar familiarizado com uma regressão linear, onde ajustamos uma linha reta para aproximar um relacionamento, mostrado no gráfico à esquerda. Com uma regressão logística, em vez de ajustar uma linha, estamos ajustando uma curva em forma de S, chamada de função sigmóide. Uma propriedade dessa função é que para qualquer valor de x, y estará entre 0 e 1.\n",
    "\n",
    "![image.png](attachment:image.png)"
   ]
  },
  {
   "cell_type": "markdown",
   "id": "swiss-shadow",
   "metadata": {},
   "source": [
    "**Função logística**\n",
    "\n",
    "Ao realizar a regressão linear, estamos prevendo um resultado numérico (digamos, o preço de venda de uma casa). Com a regressão logística, estimamos a probabilidade de que o resultado (sentimento) pertença a uma categoria específica (positiva ou negativa) dada a revisão. Como estamos estimando uma probabilidade e queremos uma saída entre 0 e 1, modelamos os valores de X usando a função sigmóide / logística, conforme mostrado no gráfico. \n",
    "\n",
    "`Probability(sentiment = positive|review)`"
   ]
  },
  {
   "cell_type": "markdown",
   "id": "acoustic-knock",
   "metadata": {},
   "source": [
    "No Python, importamos `LogisticRegression` da biblioteca `sklearn.linear_model`. \n",
    "\n",
    "Lembre-se de que a API sklearn funciona apenas com variáveis contínuas. Ele também requer um DataFrame ou uma matriz como argumentos e não pode lidar com dados ausentes. Portanto, todas as transformações dos dados precisam ser concluídas de antemão. Chamamos a função de regressão logística e criamos um objeto classificador de logística. Nós o ajustamos especificando a matriz X, que é uma matriz numpy de nossos recursos ou um DataFrame pandas, e o vetor de alvos y."
   ]
  },
  {
   "cell_type": "markdown",
   "id": "impossible-kazakhstan",
   "metadata": {
    "ExecuteTime": {
     "end_time": "2021-09-24T20:01:21.603338Z",
     "start_time": "2021-09-24T20:01:21.588377Z"
    }
   },
   "source": [
    "`from sklearn.linear_model import LogisticRegression`\n",
    "\n",
    "`from sklearn.metrics import accuracy_score`"
   ]
  },
  {
   "cell_type": "markdown",
   "id": "living-footage",
   "metadata": {},
   "source": [
    "`log_reg = LogisticRegression().fit(X,y)`\n",
    "\n",
    "`score = log_reg.score(X,y)`\n",
    "\n",
    "\n",
    "`y_predicted = log_reg.predict(X)`\n",
    "\n",
    "\n",
    "`accuracy = accuracy_score(y,y_predicted)`\n"
   ]
  },
  {
   "cell_type": "markdown",
   "id": "patent-procurement",
   "metadata": {},
   "source": [
    "**Medir o desempenho do modelo**\n",
    "\n",
    "Como sabemos se o modelo é bom? Observamos a discrepância entre o rótulo previsto e o que era o rótulo real para cada instância (observação) em nosso conjunto de dados. Uma métrica comum a ser usada é a pontuação de precisão. Embora não seja apropriado em todos os contextos, ainda é útil. A precisão nos dá a fração das previsões que nosso modelo acertou. Quanto mais alto e mais próximo de 1, melhor. Uma maneira de calcular a pontuação de precisão de um modelo de regressão logística é chamar o método de pontuação no objeto de regressão logística. Tem como argumentos a matriz X e o vetor y.\n",
    "\n",
    "**Usando pontuação de precisão**\n",
    "\n",
    "Alternativamente, podemos usar a função precision_score de sklearn.metrics. Existe uma função precision_score além da função score porque diferentes modelos têm diferentes métricas de pontuação padrão. Assim, a função precision_score sempre retorna a precisão, mas a função score pode retornar outras métricas se a usarmos para avaliar outros modelos. Aqui, precisamos calcular explicitamente as previsões do modelo, chamando a previsão na matriz de recursos. A pontuação de precisão toma como argumentos o vetor de rótulos verdadeiros e os rótulos previstos. Vemos, no caso da regressão logística, o valor de retorno do escore e do escore de precisão de 0,9009."
   ]
  },
  {
   "cell_type": "markdown",
   "id": "leading-austria",
   "metadata": {},
   "source": [
    "## Logistic regression using Twitter data"
   ]
  },
  {
   "cell_type": "code",
   "execution_count": 30,
   "id": "computational-bidding",
   "metadata": {
    "ExecuteTime": {
     "end_time": "2021-09-24T20:45:09.263793Z",
     "start_time": "2021-09-24T20:45:09.244897Z"
    }
   },
   "outputs": [],
   "source": [
    "from sklearn.linear_model import LogisticRegression\n",
    "from sklearn.metrics import accuracy_score, confusion_matrix\n",
    "import pandas as pd\n",
    "import numpy as np"
   ]
  },
  {
   "cell_type": "code",
   "execution_count": 20,
   "id": "hourly-police",
   "metadata": {
    "ExecuteTime": {
     "end_time": "2021-09-24T20:40:56.210176Z",
     "start_time": "2021-09-24T20:40:56.140298Z"
    }
   },
   "outputs": [],
   "source": [
    "tweets = pd.read_csv(\"dataset/Tweets.csv\")\n",
    "#movies = movies[['score','review']]"
   ]
  },
  {
   "cell_type": "code",
   "execution_count": 21,
   "id": "sitting-transportation",
   "metadata": {
    "ExecuteTime": {
     "end_time": "2021-09-24T20:40:57.176282Z",
     "start_time": "2021-09-24T20:40:57.144368Z"
    }
   },
   "outputs": [
    {
     "name": "stdout",
     "output_type": "stream",
     "text": [
      "<class 'pandas.core.frame.DataFrame'>\n",
      "RangeIndex: 14640 entries, 0 to 14639\n",
      "Data columns (total 15 columns):\n",
      " #   Column                        Non-Null Count  Dtype  \n",
      "---  ------                        --------------  -----  \n",
      " 0   tweet_id                      14640 non-null  int64  \n",
      " 1   airline_sentiment             14640 non-null  object \n",
      " 2   airline_sentiment_confidence  14640 non-null  float64\n",
      " 3   negativereason                9178 non-null   object \n",
      " 4   negativereason_confidence     10522 non-null  float64\n",
      " 5   airline                       14640 non-null  object \n",
      " 6   airline_sentiment_gold        40 non-null     object \n",
      " 7   name                          14640 non-null  object \n",
      " 8   negativereason_gold           32 non-null     object \n",
      " 9   retweet_count                 14640 non-null  int64  \n",
      " 10  text                          14640 non-null  object \n",
      " 11  tweet_coord                   1019 non-null   object \n",
      " 12  tweet_created                 14640 non-null  object \n",
      " 13  tweet_location                9907 non-null   object \n",
      " 14  user_timezone                 9820 non-null   object \n",
      "dtypes: float64(2), int64(2), object(11)\n",
      "memory usage: 1.7+ MB\n"
     ]
    }
   ],
   "source": [
    "tweets.info()"
   ]
  },
  {
   "cell_type": "code",
   "execution_count": 50,
   "id": "unnecessary-protection",
   "metadata": {
    "ExecuteTime": {
     "end_time": "2021-09-24T21:03:31.462088Z",
     "start_time": "2021-09-24T21:03:31.444105Z"
    }
   },
   "outputs": [],
   "source": [
    "y = tweets.airline_sentiment #target\n",
    "X = tweets[['airline_sentiment_confidence','negativereason_confidence','retweet_count']]"
   ]
  },
  {
   "cell_type": "code",
   "execution_count": 51,
   "id": "soviet-berkeley",
   "metadata": {
    "ExecuteTime": {
     "end_time": "2021-09-24T21:03:38.147548Z",
     "start_time": "2021-09-24T21:03:38.141577Z"
    }
   },
   "outputs": [],
   "source": [
    "#X = pd.get_dummies(X)\n",
    "X = X.replace(np.nan, 0)"
   ]
  },
  {
   "cell_type": "code",
   "execution_count": 52,
   "id": "posted-creativity",
   "metadata": {
    "ExecuteTime": {
     "end_time": "2021-09-24T21:03:40.371940Z",
     "start_time": "2021-09-24T21:03:40.175350Z"
    }
   },
   "outputs": [
    {
     "name": "stdout",
     "output_type": "stream",
     "text": [
      "Accuracy of logistic regression:  0.8386612021857923\n"
     ]
    }
   ],
   "source": [
    "log_reg = LogisticRegression().fit(X,y)\n",
    "print('Accuracy of logistic regression: ', log_reg.score(X,y))"
   ]
  },
  {
   "cell_type": "code",
   "execution_count": 53,
   "id": "isolated-financing",
   "metadata": {
    "ExecuteTime": {
     "end_time": "2021-09-24T21:03:43.273019Z",
     "start_time": "2021-09-24T21:03:43.249085Z"
    }
   },
   "outputs": [
    {
     "name": "stdout",
     "output_type": "stream",
     "text": [
      "Accuracy of logistic regression:  0.8386612021857923\n"
     ]
    }
   ],
   "source": [
    "y_predict = log_reg.predict(X)\n",
    "\n",
    "# Print the accuracy using accuracy score\n",
    "print('Accuracy of logistic regression: ', accuracy_score(y,y_predict))"
   ]
  },
  {
   "cell_type": "markdown",
   "id": "surrounded-strike",
   "metadata": {},
   "source": [
    "## Predict Sentiment well"
   ]
  },
  {
   "cell_type": "markdown",
   "id": "fallen-employer",
   "metadata": {},
   "source": [
    "### Build and assess a model: movies reviews"
   ]
  },
  {
   "cell_type": "code",
   "execution_count": null,
   "id": "permanent-insight",
   "metadata": {},
   "outputs": [],
   "source": [
    "# Import the required packages\n",
    "from sklearn.linear_model import LogisticRegression\n",
    "from sklearn.model_selection import train_test_split\n",
    "\n",
    "# Define the vector of labels and matrix of features\n",
    "y = movies.label\n",
    "X = movies.drop('label', axis=1)\n",
    "\n",
    "# Perform the train-test split\n",
    "X_train, X_test, y_train, y_test = train_test_split(X, y, test_size=0.2, random_state=42)\n",
    "\n",
    "# Build a logistic regression model and print out the accuracy\n",
    "log_reg = LogisticRegression().fit(X_train, y_train)\n",
    "print('Accuracy on train set: ', log_reg.score(X_train, y_train))\n",
    "print('Accuracy on test set: ', log_reg.score(X_test, y_test))"
   ]
  },
  {
   "cell_type": "markdown",
   "id": "temporal-jonathan",
   "metadata": {},
   "source": [
    "### Performance metrics of Twitter data"
   ]
  },
  {
   "cell_type": "code",
   "execution_count": 37,
   "id": "humanitarian-demonstration",
   "metadata": {
    "ExecuteTime": {
     "end_time": "2021-09-24T20:59:11.477727Z",
     "start_time": "2021-09-24T20:59:11.464736Z"
    }
   },
   "outputs": [],
   "source": [
    "# Import the required packages\n",
    "from sklearn.linear_model import LogisticRegression\n",
    "from sklearn.metrics import accuracy_score, confusion_matrix\n",
    "from sklearn.model_selection import train_test_split"
   ]
  },
  {
   "cell_type": "code",
   "execution_count": 54,
   "id": "indoor-craps",
   "metadata": {
    "ExecuteTime": {
     "end_time": "2021-09-24T21:04:02.109651Z",
     "start_time": "2021-09-24T21:04:02.049609Z"
    }
   },
   "outputs": [],
   "source": [
    "tweets = pd.read_csv(\"dataset/Tweets.csv\")\n",
    "\n",
    "\n",
    "y = tweets.airline_sentiment #target\n",
    "X = tweets[['airline_sentiment_confidence','negativereason_confidence','retweet_count']]\n",
    "X = X.replace(np.nan, 0)"
   ]
  },
  {
   "cell_type": "code",
   "execution_count": 55,
   "id": "floating-grade",
   "metadata": {
    "ExecuteTime": {
     "end_time": "2021-09-24T21:04:04.151723Z",
     "start_time": "2021-09-24T21:04:04.125793Z"
    }
   },
   "outputs": [],
   "source": [
    "X_train, X_test, y_train, y_test = train_test_split(X, y, test_size=0.3, random_state=123, stratify=y)"
   ]
  },
  {
   "cell_type": "code",
   "execution_count": 56,
   "id": "molecular-profile",
   "metadata": {
    "ExecuteTime": {
     "end_time": "2021-09-24T21:04:05.089295Z",
     "start_time": "2021-09-24T21:04:04.948672Z"
    }
   },
   "outputs": [],
   "source": [
    "# Train a logistic regression\n",
    "log_reg = LogisticRegression().fit(X_train, y_train)\n",
    "\n",
    "# Make predictions on the test set\n",
    "y_predicted = log_reg.predict(X_test)"
   ]
  },
  {
   "cell_type": "code",
   "execution_count": 57,
   "id": "otherwise-strain",
   "metadata": {
    "ExecuteTime": {
     "end_time": "2021-09-24T21:04:07.076454Z",
     "start_time": "2021-09-24T21:04:07.045631Z"
    }
   },
   "outputs": [
    {
     "name": "stdout",
     "output_type": "stream",
     "text": [
      "Accuracy score test set:  0.8385701275045537\n",
      "Confusion matrix test set: \n",
      " [[0.62682149 0.         0.        ]\n",
      " [0.         0.21174863 0.        ]\n",
      " [0.         0.16142987 0.        ]]\n"
     ]
    }
   ],
   "source": [
    "# Print the performance metrics\n",
    "print('Accuracy score test set: ', accuracy_score(y_test, y_predicted))\n",
    "print('Confusion matrix test set: \\n', confusion_matrix(y_test, y_predicted)/len(y_test))"
   ]
  },
  {
   "cell_type": "markdown",
   "id": "entertaining-faculty",
   "metadata": {},
   "source": [
    "## Logistic regression: revisted"
   ]
  },
  {
   "cell_type": "markdown",
   "id": "improving-spanking",
   "metadata": {},
   "source": [
    "** Modelos complexos e regularização **\n",
    "\n",
    "Um modelo complexo pode ocorrer em alguns cenários. \n",
    "\n",
    "Se usarmos uma função muito complicada para explicar a relação de interesse, inevitavelmente ajustaremos o ruído nos dados. \n",
    "\n",
    "Esse modelo não terá um bom desempenho quando usado para pontuar dados não vistos. Isso também é chamado de overfitting. Um modelo complexo pode resultar da inclusão de muitos recursos e parâmetros desnecessários; especialmente com dados de texto transformados, onde podemos criar milhares de colunas numéricas extras. Essas duas fontes de complexidade geralmente andam de mãos dadas. Uma maneira de desencorajar artificialmente modelos complexos é pelo uso de regularização. Ao usar a regularização, estamos penalizando ou restringindo a função do modelo."
   ]
  },
  {
   "cell_type": "code",
   "execution_count": 58,
   "id": "agricultural-baker",
   "metadata": {
    "ExecuteTime": {
     "end_time": "2021-09-24T21:09:55.908051Z",
     "start_time": "2021-09-24T21:09:55.904062Z"
    }
   },
   "outputs": [],
   "source": [
    "from sklearn.linear_model import LogisticRegression"
   ]
  },
  {
   "cell_type": "code",
   "execution_count": 59,
   "id": "valued-float",
   "metadata": {
    "ExecuteTime": {
     "end_time": "2021-09-24T21:10:13.590331Z",
     "start_time": "2021-09-24T21:10:13.566365Z"
    }
   },
   "outputs": [
    {
     "data": {
      "text/plain": [
       "LogisticRegression()"
      ]
     },
     "execution_count": 59,
     "metadata": {},
     "output_type": "execute_result"
    }
   ],
   "source": [
    "LogisticRegression(penalty='l2',C=1.0)"
   ]
  },
  {
   "cell_type": "markdown",
   "id": "danish-latter",
   "metadata": {},
   "source": [
    "A regularização é aplicada por padrão na função de regressão logística do sklearn. \n",
    "\n",
    "Ele usa a chamada penalidade L2, intuitivamente é bom saber que a penalidade L2 reduz todos os coeficientes para zero, reduzindo efetivamente o impacto de cada feature. \n",
    "\n",
    "O parâmetro que determina a força de regularização é dado por C, que assume o valor padrão 1. Valores maiores de C correspondem a menos regularização, ou seja, o modelo tentará ajustar os dados da melhor forma possível. Valores pequenos de C correspondem a alta penalização (ou regularização), significando que os coeficientes da regressão logística ficarão mais próximos de zero. O modelo será menos flexível porque não se ajustará tão bem aos dados de treinamento. \n",
    "\n",
    "Como encontrar o valor mais adequado de C? \n",
    "\n",
    "Normalmente, precisamos testar valores diferentes e ver qual deles nos dá o melhor desempenho nos dados de teste."
   ]
  },
  {
   "cell_type": "markdown",
   "id": "cloudy-tribune",
   "metadata": {},
   "source": [
    "**Previsão de probabilidade vs. previsão de classe**\n",
    "\n",
    "Você deve se lembrar que, quando treinamos um modelo de regressão logística, aplicamos a função de previsão ao conjunto de testes para prever os rótulos. A função de previsão prevê uma classe: 0 ou 1 se estivermos trabalhando com um classificador binário. No entanto, em vez de uma classe, podemos prever uma probabilidade usando a função predict_proba. Mais uma vez, passamos como argumento o conjunto de dados de teste.\n",
    "\n",
    "**Previsão de probabilidade vs. previsão de classe**\n",
    "\n",
    "Isso retorna uma matriz de probabilidades, ordenada pelo rótulo das classes - primeiro a classe 0 e depois a classe 1. As probabilidades de cada observação são exibidas em uma linha separada. O primeiro valor é a probabilidade de que a instância seja da classe 0, e o segundo de uma classe 1. Portanto, é comum ao prever as probabilidades especificar já que queremos extrair as probabilidades da classe 1.\n",
    "\n",
    "**Modelar métricas com probabilidades previstas** \n",
    "\n",
    "Uma coisa importante a saber é que não podemos aplicar diretamente a pontuação de precisão ou a matriz de confusão às probabilidades previstas. Se você fizer isso no sklearn, receberá um ValueError. A razão é que a precisão e a matriz de confusão funcionam diretamente com as classes. Se tivermos probabilidades previstas, precisamos codificá-las como classes. O padrão é que qualquer probabilidade maior ou igual a 0,5 é traduzida para a classe 1, caso contrário, para a classe 0. No entanto, você pode alterar esse limite dependendo do seu problema. Imagine que apenas 1% das avaliações são positivas e você construiu um modelo para prever se uma nova avaliação é positiva ou negativa. Nesse contexto, você não deseja converter nenhuma probabilidade prevista maior do que 0,5 para a classe 1, esse limite deve ser muito menor."
   ]
  },
  {
   "cell_type": "markdown",
   "id": "great-salvation",
   "metadata": {},
   "source": [
    "### Predict probabilities of movie reviews"
   ]
  },
  {
   "cell_type": "code",
   "execution_count": null,
   "id": "crucial-speed",
   "metadata": {},
   "outputs": [],
   "source": [
    "# Split into training and testing\n",
    "X_train, X_test, y_train, y_test = train_test_split(X, y, test_size=0.2, random_state=321)\n",
    "\n",
    "# Train a logistic regression\n",
    "log_reg = LogisticRegression().fit(X_train, y_train)\n",
    "\n",
    "# Predict the probability of the 0 class\n",
    "prob_0 = log_reg.predict_proba(X_test)[:, 0]\n",
    "# Predict the probability of the 1 class\n",
    "prob_1 = log_reg.predict_proba(X_test)[:, 1]\n",
    "\n",
    "print(\"First 10 predicted probabilities of class 0: \", prob_0[:10])\n",
    "print(\"First 10 predicted probabilities of class 1: \", prob_1[:10])"
   ]
  },
  {
   "cell_type": "markdown",
   "id": "patient-mixture",
   "metadata": {},
   "source": [
    "### Product reviews with regularization"
   ]
  },
  {
   "cell_type": "code",
   "execution_count": null,
   "id": "industrial-information",
   "metadata": {},
   "outputs": [],
   "source": [
    "# Split data into training and testing\n",
    "X_train, X_test, y_train, y_test = train_test_split(X, y,test_size=0.2, random_state=123)\n",
    "\n",
    "# Train a logistic regression with regularization of 1000\n",
    "log_reg1 = LogisticRegression(C=1000).fit(X_train, y_train)\n",
    "# Train a logistic regression with regularization of 0.001\n",
    "log_reg2 = LogisticRegression(C=0.001).fit(X_train, y_train)\n",
    "\n",
    "# Print the accuracies\n",
    "print('Accuracy of model 1: ', log_reg1.score(X_test, y_test))\n",
    "print('Accuracy of model 2: ', log_reg2.score(X_test, y_test))"
   ]
  },
  {
   "cell_type": "markdown",
   "id": "orange-paper",
   "metadata": {},
   "source": [
    "### Regularizing models with Twitter data"
   ]
  },
  {
   "cell_type": "code",
   "execution_count": 71,
   "id": "controlled-compromise",
   "metadata": {
    "ExecuteTime": {
     "end_time": "2021-09-24T21:35:01.039709Z",
     "start_time": "2021-09-24T21:35:00.966153Z"
    }
   },
   "outputs": [],
   "source": [
    "tweets = pd.read_csv(\"dataset/Tweets.csv\")\n",
    "y = tweets.airline_sentiment #target\n",
    "X = tweets[['airline_sentiment_confidence','negativereason_confidence','retweet_count']]\n",
    "X = X.replace(np.nan, 0)"
   ]
  },
  {
   "cell_type": "code",
   "execution_count": 72,
   "id": "multiple-christian",
   "metadata": {
    "ExecuteTime": {
     "end_time": "2021-09-24T21:35:01.510409Z",
     "start_time": "2021-09-24T21:35:01.503428Z"
    }
   },
   "outputs": [],
   "source": [
    "X_train, X_test, y_train, y_test = train_test_split(X, y, test_size=0.3, random_state=123)"
   ]
  },
  {
   "cell_type": "code",
   "execution_count": 73,
   "id": "enhanced-grade",
   "metadata": {
    "ExecuteTime": {
     "end_time": "2021-09-24T21:35:02.280589Z",
     "start_time": "2021-09-24T21:35:01.990397Z"
    }
   },
   "outputs": [],
   "source": [
    "log_reg1 = LogisticRegression(C=100).fit(X_train, y_train)\n",
    "log_reg2 = LogisticRegression(C=0.1).fit(X_train, y_train)"
   ]
  },
  {
   "cell_type": "code",
   "execution_count": 74,
   "id": "offshore-malaysia",
   "metadata": {
    "ExecuteTime": {
     "end_time": "2021-09-24T21:35:02.502976Z",
     "start_time": "2021-09-24T21:35:02.493004Z"
    }
   },
   "outputs": [],
   "source": [
    "y_predict1 = log_reg1.predict(X_test)\n",
    "y_predict2 = log_reg2.predict(X_test)"
   ]
  },
  {
   "cell_type": "code",
   "execution_count": 75,
   "id": "developed-recipe",
   "metadata": {
    "ExecuteTime": {
     "end_time": "2021-09-24T21:35:03.149782Z",
     "start_time": "2021-09-24T21:35:03.123854Z"
    }
   },
   "outputs": [
    {
     "name": "stdout",
     "output_type": "stream",
     "text": [
      "Accuracy of model 1:  0.8451730418943534\n",
      "Accuracy of model 2:  0.8451730418943534\n"
     ]
    }
   ],
   "source": [
    "# Print performance metrics for each model\n",
    "print('Accuracy of model 1: ', log_reg1.score(X_test, y_test))\n",
    "print('Accuracy of model 2: ', log_reg2.score(X_test, y_test))"
   ]
  },
  {
   "cell_type": "code",
   "execution_count": 76,
   "id": "southwest-carbon",
   "metadata": {
    "ExecuteTime": {
     "end_time": "2021-09-24T21:35:04.857584Z",
     "start_time": "2021-09-24T21:35:04.828662Z"
    }
   },
   "outputs": [
    {
     "name": "stdout",
     "output_type": "stream",
     "text": [
      "Confusion matrix of model 1: \n",
      " [[0.6318306  0.         0.        ]\n",
      " [0.         0.21220401 0.00182149]\n",
      " [0.         0.15300546 0.00113843]]\n",
      "Confusion matrix of model 2: \n",
      " [[0.6318306  0.         0.        ]\n",
      " [0.         0.21220401 0.00182149]\n",
      " [0.         0.15300546 0.00113843]]\n"
     ]
    }
   ],
   "source": [
    "print('Confusion matrix of model 1: \\n' , confusion_matrix(y_test, y_predict1)/len(y_test))\n",
    "print('Confusion matrix of model 2: \\n', confusion_matrix(y_test, y_predict2)/len(y_test))"
   ]
  },
  {
   "cell_type": "markdown",
   "id": "humanitarian-hospital",
   "metadata": {},
   "source": [
    "## Bringing it all together"
   ]
  },
  {
   "cell_type": "markdown",
   "id": "technological-calibration",
   "metadata": {},
   "source": [
    "### Step 1: Word cloud and feature creation"
   ]
  },
  {
   "cell_type": "code",
   "execution_count": 111,
   "id": "occupational-timber",
   "metadata": {
    "ExecuteTime": {
     "end_time": "2021-09-24T21:57:04.733314Z",
     "start_time": "2021-09-24T21:57:04.722356Z"
    }
   },
   "outputs": [],
   "source": [
    "from sklearn.feature_extraction.text import TfidfVectorizer, CountVectorizer, ENGLISH_STOP_WORDS\n",
    "\n",
    "from wordcloud import WordCloud, STOPWORDS\n",
    "from nltk import word_tokenize\n",
    "from nltk.stem import PorterStemmer\n",
    "from nltk.stem.snowball import SnowballStemmer\n",
    "\n",
    "from sklearn.model_selection import train_test_split\n",
    "from sklearn.metrics import accuracy_score, confusion_matrix\n",
    "from sklearn.linear_model import LogisticRegression\n",
    "\n",
    "import matplotlib.pyplot as plt\n",
    "import pandas as pd"
   ]
  },
  {
   "cell_type": "code",
   "execution_count": 79,
   "id": "known-offense",
   "metadata": {
    "ExecuteTime": {
     "end_time": "2021-09-24T21:37:16.832164Z",
     "start_time": "2021-09-24T21:37:16.774280Z"
    }
   },
   "outputs": [],
   "source": [
    "review = pd.read_csv('dataset/amazon_reviews_sample.csv')\n",
    "review = review[['score','review']]"
   ]
  },
  {
   "cell_type": "code",
   "execution_count": 80,
   "id": "institutional-philip",
   "metadata": {
    "ExecuteTime": {
     "end_time": "2021-09-24T21:37:17.410786Z",
     "start_time": "2021-09-24T21:37:17.400833Z"
    }
   },
   "outputs": [
    {
     "data": {
      "text/html": [
       "<div>\n",
       "<style scoped>\n",
       "    .dataframe tbody tr th:only-of-type {\n",
       "        vertical-align: middle;\n",
       "    }\n",
       "\n",
       "    .dataframe tbody tr th {\n",
       "        vertical-align: top;\n",
       "    }\n",
       "\n",
       "    .dataframe thead th {\n",
       "        text-align: right;\n",
       "    }\n",
       "</style>\n",
       "<table border=\"1\" class=\"dataframe\">\n",
       "  <thead>\n",
       "    <tr style=\"text-align: right;\">\n",
       "      <th></th>\n",
       "      <th>score</th>\n",
       "      <th>review</th>\n",
       "    </tr>\n",
       "  </thead>\n",
       "  <tbody>\n",
       "    <tr>\n",
       "      <th>0</th>\n",
       "      <td>1</td>\n",
       "      <td>Stuning even for the non-gamer: This sound tr...</td>\n",
       "    </tr>\n",
       "    <tr>\n",
       "      <th>1</th>\n",
       "      <td>1</td>\n",
       "      <td>The best soundtrack ever to anything.: I'm re...</td>\n",
       "    </tr>\n",
       "    <tr>\n",
       "      <th>2</th>\n",
       "      <td>1</td>\n",
       "      <td>Amazing!: This soundtrack is my favorite musi...</td>\n",
       "    </tr>\n",
       "    <tr>\n",
       "      <th>3</th>\n",
       "      <td>1</td>\n",
       "      <td>Excellent Soundtrack: I truly like this sound...</td>\n",
       "    </tr>\n",
       "    <tr>\n",
       "      <th>4</th>\n",
       "      <td>1</td>\n",
       "      <td>Remember, Pull Your Jaw Off The Floor After H...</td>\n",
       "    </tr>\n",
       "  </tbody>\n",
       "</table>\n",
       "</div>"
      ],
      "text/plain": [
       "   score                                             review\n",
       "0      1   Stuning even for the non-gamer: This sound tr...\n",
       "1      1   The best soundtrack ever to anything.: I'm re...\n",
       "2      1   Amazing!: This soundtrack is my favorite musi...\n",
       "3      1   Excellent Soundtrack: I truly like this sound...\n",
       "4      1   Remember, Pull Your Jaw Off The Floor After H..."
      ]
     },
     "execution_count": 80,
     "metadata": {},
     "output_type": "execute_result"
    }
   ],
   "source": [
    "review.head()"
   ]
  },
  {
   "cell_type": "code",
   "execution_count": 95,
   "id": "literary-authority",
   "metadata": {
    "ExecuteTime": {
     "end_time": "2021-09-24T21:43:35.140261Z",
     "start_time": "2021-09-24T21:43:35.117348Z"
    }
   },
   "outputs": [],
   "source": [
    "positive_reviews = review[review['score']==1]\n",
    "positive_reviews_values = ' '.join(map(str, positive_reviews.review))\n",
    "\n",
    "negative_reviews = review[review['score']==0]\n",
    "pnegative_reviews_values = ' '.join(map(str, negative_reviews.review))"
   ]
  },
  {
   "cell_type": "code",
   "execution_count": 94,
   "id": "piano-oracle",
   "metadata": {
    "ExecuteTime": {
     "end_time": "2021-09-24T21:43:15.066814Z",
     "start_time": "2021-09-24T21:43:13.735631Z"
    }
   },
   "outputs": [],
   "source": [
    "cloud_positives = WordCloud(background_color='white').generate(positive_reviews_values)"
   ]
  },
  {
   "cell_type": "code",
   "execution_count": 96,
   "id": "powered-destiny",
   "metadata": {
    "ExecuteTime": {
     "end_time": "2021-09-24T21:44:01.264736Z",
     "start_time": "2021-09-24T21:44:01.092481Z"
    }
   },
   "outputs": [
    {
     "data": {
      "image/png": "[encoded data removed]",
      "text/plain": [
       "<Figure size 432x288 with 1 Axes>"
      ]
     },
     "metadata": {
      "needs_background": "light"
     },
     "output_type": "display_data"
    }
   ],
   "source": [
    "# Display the generated wordcloud image\n",
    "plt.imshow(cloud_positives, interpolation='bilinear') \n",
    "plt.axis(\"off\")\n",
    "\n",
    "# Don't forget to show the final image\n",
    "plt.show()"
   ]
  },
  {
   "cell_type": "code",
   "execution_count": 97,
   "id": "fewer-style",
   "metadata": {
    "ExecuteTime": {
     "end_time": "2021-09-24T21:45:29.096842Z",
     "start_time": "2021-09-24T21:45:22.595833Z"
    }
   },
   "outputs": [],
   "source": [
    "word_tokens = [word_tokenize(review) for review in review.review]"
   ]
  },
  {
   "cell_type": "code",
   "execution_count": 99,
   "id": "authentic-brook",
   "metadata": {
    "ExecuteTime": {
     "end_time": "2021-09-24T21:47:16.229601Z",
     "start_time": "2021-09-24T21:47:16.212647Z"
    }
   },
   "outputs": [],
   "source": [
    "len_tokens = []\n",
    "\n",
    "for i in range(len(word_tokens)):\n",
    "     len_tokens.append(len(word_tokens[i]))\n",
    "\n",
    "review['n_words'] = len_tokens "
   ]
  },
  {
   "cell_type": "markdown",
   "id": "royal-brave",
   "metadata": {},
   "source": [
    "### Step 2: Building a vectorizer"
   ]
  },
  {
   "cell_type": "code",
   "execution_count": 101,
   "id": "apart-bikini",
   "metadata": {
    "ExecuteTime": {
     "end_time": "2021-09-24T21:50:47.152737Z",
     "start_time": "2021-09-24T21:50:44.798081Z"
    }
   },
   "outputs": [
    {
     "name": "stdout",
     "output_type": "stream",
     "text": [
      "Top 5 rows of the DataFrame: \n",
      "    able  action  actually  ago  album   amazing  amazon  author      away  \\\n",
      "0   0.0     0.0       0.0  0.0    0.0  0.000000     0.0     0.0  0.274041   \n",
      "1   0.0     0.0       0.0  0.0    0.0  0.000000     0.0     0.0  0.000000   \n",
      "2   0.0     0.0       0.0  0.0    0.0  0.382773     0.0     0.0  0.000000   \n",
      "3   0.0     0.0       0.0  0.0    0.0  0.000000     0.0     0.0  0.000000   \n",
      "4   0.0     0.0       0.0  0.0    0.0  0.000000     0.0     0.0  0.000000   \n",
      "\n",
      "   bad  ...      work  works  world  worst     worth  writing  written  wrong  \\\n",
      "0  0.0  ...  0.000000    0.0    0.0    0.0  0.000000      0.0      0.0    0.0   \n",
      "1  0.0  ...  0.000000    0.0    0.0    0.0  0.219408      0.0      0.0    0.0   \n",
      "2  0.0  ...  0.142935    0.0    0.0    0.0  0.160089      0.0      0.0    0.0   \n",
      "3  0.0  ...  0.000000    0.0    0.0    0.0  0.000000      0.0      0.0    0.0   \n",
      "4  0.0  ...  0.000000    0.0    0.0    0.0  0.000000      0.0      0.0    0.0   \n",
      "\n",
      "   year     years  \n",
      "0   0.0  0.000000  \n",
      "1   0.0  0.208885  \n",
      "2   0.0  0.152410  \n",
      "3   0.0  0.000000  \n",
      "4   0.0  0.000000  \n",
      "\n",
      "[5 rows x 200 columns]\n"
     ]
    }
   ],
   "source": [
    "# Build the vectorizer\n",
    "vect = TfidfVectorizer(stop_words=ENGLISH_STOP_WORDS, ngram_range=(1, 2), max_features=200, token_pattern=r'\\b[^\\d\\W][^\\d\\W]+\\b').fit(review.review)\n",
    "# Create sparse matrix from the vectorizer\n",
    "X = vect.transform(review.review)\n",
    "\n",
    "# Create a DataFrame\n",
    "reviews_transformed = pd.DataFrame(X.toarray(), columns=vect.get_feature_names())\n",
    "print('Top 5 rows of the DataFrame: \\n', reviews_transformed.head())"
   ]
  },
  {
   "cell_type": "markdown",
   "id": "hidden-construction",
   "metadata": {},
   "source": [
    "### Step 3: Building a classifier"
   ]
  },
  {
   "cell_type": "code",
   "execution_count": 106,
   "id": "unlike-shell",
   "metadata": {
    "ExecuteTime": {
     "end_time": "2021-09-24T21:54:28.861089Z",
     "start_time": "2021-09-24T21:54:28.846092Z"
    }
   },
   "outputs": [],
   "source": [
    "# Define X and y\n",
    "y = review.score\n",
    "X = reviews_transformed"
   ]
  },
  {
   "cell_type": "code",
   "execution_count": 108,
   "id": "amateur-emphasis",
   "metadata": {
    "ExecuteTime": {
     "end_time": "2021-09-24T21:55:35.806729Z",
     "start_time": "2021-09-24T21:55:35.783796Z"
    }
   },
   "outputs": [],
   "source": [
    "X_train, X_test, y_train, y_test = train_test_split(X, y, test_size=0.2, random_state=456)"
   ]
  },
  {
   "cell_type": "code",
   "execution_count": 110,
   "id": "incorporate-spending",
   "metadata": {
    "ExecuteTime": {
     "end_time": "2021-09-24T21:56:37.913608Z",
     "start_time": "2021-09-24T21:56:37.837777Z"
    }
   },
   "outputs": [],
   "source": [
    "# Train a logistic regression\n",
    "log_reg = LogisticRegression().fit(X_train, y_train)\n",
    "# Predict the labels\n",
    "y_predicted = log_reg.predict(X_test)"
   ]
  },
  {
   "cell_type": "code",
   "execution_count": 112,
   "id": "major-rescue",
   "metadata": {
    "ExecuteTime": {
     "end_time": "2021-09-24T21:57:52.908668Z",
     "start_time": "2021-09-24T21:57:52.890716Z"
    }
   },
   "outputs": [
    {
     "name": "stdout",
     "output_type": "stream",
     "text": [
      "Accuracy on the test set:  0.789\n",
      "[[0.412 0.114]\n",
      " [0.097 0.377]]\n"
     ]
    }
   ],
   "source": [
    "# Print accuracy score and confusion matrix on test set\n",
    "print('Accuracy on the test set: ', accuracy_score(y_test, y_predicted))\n",
    "print(confusion_matrix(y_test, y_predicted)/len(y_test))"
   ]
  },
  {
   "cell_type": "code",
   "execution_count": null,
   "id": "inside-holmes",
   "metadata": {},
   "outputs": [],
   "source": []
  },
  {
   "cell_type": "code",
   "execution_count": null,
   "id": "smoking-dealer",
   "metadata": {},
   "outputs": [],
   "source": []
  },
  {
   "cell_type": "code",
   "execution_count": null,
   "id": "quick-roman",
   "metadata": {},
   "outputs": [],
   "source": []
  },
  {
   "cell_type": "code",
   "execution_count": null,
   "id": "virtual-official",
   "metadata": {},
   "outputs": [],
   "source": []
  },
  {
   "cell_type": "code",
   "execution_count": null,
   "id": "endless-subsection",
   "metadata": {},
   "outputs": [],
   "source": []
  },
  {
   "cell_type": "code",
   "execution_count": null,
   "id": "imperial-forestry",
   "metadata": {},
   "outputs": [],
   "source": []
  },
  {
   "cell_type": "code",
   "execution_count": null,
   "id": "patient-orchestra",
   "metadata": {},
   "outputs": [],
   "source": []
  },
  {
   "cell_type": "code",
   "execution_count": null,
   "id": "seeing-federal",
   "metadata": {},
   "outputs": [],
   "source": []
  },
  {
   "cell_type": "code",
   "execution_count": null,
   "id": "behavioral-victim",
   "metadata": {},
   "outputs": [],
   "source": []
  },
  {
   "cell_type": "code",
   "execution_count": null,
   "id": "pharmaceutical-ownership",
   "metadata": {},
   "outputs": [],
   "source": []
  },
  {
   "cell_type": "code",
   "execution_count": null,
   "id": "stupid-chuck",
   "metadata": {},
   "outputs": [],
   "source": []
  }
 ],
 "metadata": {
  "kernelspec": {
   "display_name": "Python 3",
   "language": "python",
   "name": "python3"
  },
  "language_info": {
   "codemirror_mode": {
    "name": "ipython",
    "version": 3
   },
   "file_extension": ".py",
   "mimetype": "text/x-python",
   "name": "python",
   "nbconvert_exporter": "python",
   "pygments_lexer": "ipython3",
   "version": "3.6.4"
  },
  "toc": {
   "base_numbering": 1,
   "nav_menu": {},
   "number_sections": true,
   "sideBar": true,
   "skip_h1_title": false,
   "title_cell": "Table of Contents",
   "title_sidebar": "Contents",
   "toc_cell": false,
   "toc_position": {},
   "toc_section_display": true,
   "toc_window_display": false
  }
 },
 "nbformat": 4,
 "nbformat_minor": 5
}
