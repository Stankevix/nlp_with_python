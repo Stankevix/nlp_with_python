{
 "cells": [
  {
   "cell_type": "markdown",
   "id": "absent-swing",
   "metadata": {},
   "source": [
    "# Chapter 3 - More on Numeric Vectors: Transforming Tweets"
   ]
  },
  {
   "cell_type": "markdown",
   "id": "forbidden-passport",
   "metadata": {},
   "source": [
    "**Palavras de parada (Stop Words)**\n",
    "\n",
    "Em todos os idiomas, existem palavras que ocorrem com muita frequência e não são muito informativas. Às vezes, é útil se livrar deles antes de construir um modelo de aprendizado de máquina.\n",
    "\n",
    "**O que são stop words e como encontrá-las?**\n",
    "\n",
    "Palavras que ocorrem com muita frequência e não são muito informativas são chamadas de palavras irrelevantes. \n",
    "\n",
    "Mas como sabemos quais palavras não são informativas? \n",
    "\n",
    "Em todos os idiomas, há um conjunto de palavras que a maioria dos profissionais concorda que não são úteis e devem ser removidas ao realizar uma tarefa de processamento de linguagem natural. Por exemplo, em inglês o artigo definido e indefinido \n",
    "\n",
    "    * definido e indefinido (the, a / an)\n",
    "    * conjunções ('e', 'mas', 'para')\n",
    "    * proposições ('on', 'in', 'at')\n",
    "\n",
    "são palavras de parada. Em segundo lugar, dependendo do contexto, podemos expandir o conjunto padrão de palavras irrelevantes. Por exemplo, no conjunto de dados de resenhas de filmes, podemos excluir palavras como \n",
    "    * {'filme', 'filme', 'cinema', etc} .\n",
    "\n",
    "**Pare as palavras com nuvens de palavras**\n",
    "\n",
    "Talvez você se lembre de um vídeo anterior que construímos nuvens de palavras usando resenhas de filmes. Aqui está um exemplo de duas nuvens de palavras usando as resenhas de filmes. Na imagem à esquerda, as palavras de parada não foram removidas. \n",
    "\n",
    "As palavras que aparecem são 'film' e 'br', que é uma indicação para uma quebra de linha. Na nuvem do lado direito, as palavras de parada foram removidas e agora vemos palavras como 'personagem', 'ver', 'bom', 'história'."
   ]
  },
  {
   "cell_type": "code",
   "execution_count": 11,
   "id": "cooked-extension",
   "metadata": {
    "ExecuteTime": {
     "end_time": "2021-09-24T16:08:49.054241Z",
     "start_time": "2021-09-24T16:08:47.405365Z"
    }
   },
   "outputs": [],
   "source": [
    "from wordcloud import wordcloud, STOPWORDS\n",
    "from sklearn.feature_extraction.text import CountVectorizer, ENGLISH_STOP_WORDS\n",
    "from sklearn.feature_extraction.text import CountVectorizer\n",
    "import pandas as pd"
   ]
  },
  {
   "cell_type": "code",
   "execution_count": 8,
   "id": "desirable-filename",
   "metadata": {
    "ExecuteTime": {
     "end_time": "2021-09-22T16:52:03.601692Z",
     "start_time": "2021-09-22T16:52:03.532860Z"
    }
   },
   "outputs": [],
   "source": [
    "movies = pd.read_csv(\"dataset/amazon_reviews_sample.csv\")\n",
    "movies = movies[['score','review']]"
   ]
  },
  {
   "cell_type": "code",
   "execution_count": 2,
   "id": "hired-colors",
   "metadata": {
    "ExecuteTime": {
     "end_time": "2021-09-22T16:48:20.620798Z",
     "start_time": "2021-09-22T16:48:20.607847Z"
    }
   },
   "outputs": [],
   "source": [
    "my_stopwords = set(STOPWORDS)\n",
    "my_stopwords.update(['movie','movies','film','films','watch','br'])"
   ]
  },
  {
   "cell_type": "code",
   "execution_count": 4,
   "id": "artistic-breakdown",
   "metadata": {
    "ExecuteTime": {
     "end_time": "2021-09-22T16:50:30.135380Z",
     "start_time": "2021-09-22T16:50:30.127377Z"
    }
   },
   "outputs": [],
   "source": [
    "my_stopwords_2 = ENGLISH_STOP_WORDS.union(['film','movie','cinema','theatre'])"
   ]
  },
  {
   "cell_type": "code",
   "execution_count": 9,
   "id": "diverse-lewis",
   "metadata": {
    "ExecuteTime": {
     "end_time": "2021-09-22T16:52:54.134754Z",
     "start_time": "2021-09-22T16:52:53.110256Z"
    }
   },
   "outputs": [],
   "source": [
    "vect = CountVectorizer(stop_words=my_stopwords_2)\n",
    "vect.fit(movies['review'])\n",
    "\n",
    "X = vect.transform(movies['review'])"
   ]
  },
  {
   "cell_type": "markdown",
   "id": "expressed-shopping",
   "metadata": {},
   "source": [
    "**Remova as palavras de parada das nuvens de palavras**\n",
    "\n",
    "Como removemos palavras de parada ao criar uma nuvem de palavras? \n",
    "\n",
    "Vamos começar revisando como construímos uma nuvem de palavras. Primeiro, importamos a função WordCloud do wordcloud. \n",
    "Também importamos a lista padrão de STOPWORDS do wordcloud. Para criar nossa lista de palavras de parada, podemos pegar um conjunto da lista padrão. Um conjunto é como uma lista, mas com itens únicos e não repetitivos. Podemos atualizar o conjunto de palavras de parada chamando update e fornecendo uma lista para ele. \n",
    "\n",
    "Passamos nossa lista de palavras irrelevantes, chamadas my_stopwords, para o argumento de palavras irrelevantes na função WordCloud. Então nós o exibimos. Portanto, o único novo argumento que adicionamos aqui é definir a lista de palavras de parada. todo o resto permanece o mesmo.\n",
    "\n",
    "**Stop Words com BOW**\n",
    "\n",
    "Remover palavras não informativas quando estamos construindo uma transformação BOW também pode ser muito útil. Isso pode ser facilmente incorporado na função de contador-vetorizador. Primeiro, precisamos importar a lista de palavras de parada padrão em inglês do mesmo pacote feature_extraction.text do sci-kit learn. Vamos supor que queremos enriquecer essa lista padrão com palavras específicas do filme. Para fazer isso, chamamos a função de união na lista padrão. Lembre-se de que a união de dois conjuntos A e B consiste em todos os elementos de A e todos os elementos de B de forma que nenhum elemento se repita. Em nosso caso, o sindicato adicionará as novas palavras à lista de palavras de parada padrão, se essa palavra ainda não estiver lá. Para usar o conjunto construído, especificamos o argumento stop_words no CountVectorizer para ser igual ao nosso conjunto definido. Todo o resto permanece o mesmo e deve parecer bastante familiar agora. Uma coisa importante a notar é que o uso de palavras irrelevantes reduzirá o tamanho do vocabulário que construímos usando uma BOW ou outra abordagem."
   ]
  },
  {
   "cell_type": "code",
   "execution_count": 13,
   "id": "horizontal-finish",
   "metadata": {
    "ExecuteTime": {
     "end_time": "2021-09-22T19:53:16.309916Z",
     "start_time": "2021-09-22T19:53:16.306953Z"
    }
   },
   "outputs": [],
   "source": [
    "from wordcloud import WordCloud, STOPWORDS"
   ]
  },
  {
   "cell_type": "code",
   "execution_count": 12,
   "id": "correct-settle",
   "metadata": {
    "ExecuteTime": {
     "end_time": "2021-09-22T19:52:52.321500Z",
     "start_time": "2021-09-22T19:52:52.311527Z"
    }
   },
   "outputs": [],
   "source": [
    "my_stopwords = set(STOPWORDS)\n",
    "my_stopwords.update(['movie','movies','film','films','watch','br'])"
   ]
  },
  {
   "cell_type": "code",
   "execution_count": null,
   "id": "psychological-paper",
   "metadata": {},
   "outputs": [],
   "source": [
    "my_cloud = WordCloud(background_color='white', stopwords=my_stopwords).generate(name_string)\n",
    "plt.imshow(my_cloud, interpolation='bilinear')"
   ]
  },
  {
   "cell_type": "markdown",
   "id": "patent-information",
   "metadata": {},
   "source": [
    "### Word cloud of tweets"
   ]
  },
  {
   "cell_type": "code",
   "execution_count": 19,
   "id": "crucial-farmer",
   "metadata": {
    "ExecuteTime": {
     "end_time": "2021-09-22T19:57:18.344303Z",
     "start_time": "2021-09-22T19:57:18.332336Z"
    }
   },
   "outputs": [],
   "source": [
    "from wordcloud import WordCloud, STOPWORDS\n",
    "import matplotlib.pyplot as plt"
   ]
  },
  {
   "cell_type": "code",
   "execution_count": 12,
   "id": "frozen-candle",
   "metadata": {
    "ExecuteTime": {
     "end_time": "2021-09-24T16:08:57.678192Z",
     "start_time": "2021-09-24T16:08:57.640221Z"
    }
   },
   "outputs": [],
   "source": [
    "text_tweet = '@SouthwestAir Another great flight &amp; crew, Las Vegas-Chicago #3397. Thanks! @USAirways thanks. @SouthwestAir got it squared away. Thank you. I had a man on the inside help me out! @JetBlue Not trying to make you look bad, on your website it says: \"Due to weather in the Charleston, NC\" Its actually in SC, not NC @USAirways thanks for giving away my seat. Another fine job! http://t.co/r7ibqr4CYd @USAirways your pple did a great job w the madness however some of your systems need help. I appreciate the hard work &amp; the push to b better @SouthwestAir I got a flight at 11:55am on Thursday but looking for something tomorrow, anything available? @SouthwestAir thanks I think we\\'ve got it figured out @SouthwestAir Thanks for the response. Was able to get my situation resolved. Not a fan of Mother Nature today. :) @USAirways @AmericanAir First Class all the way!!💺✈️ Headed to @portlandjetport http://t.co/kDMq0jps02 @SouthwestAir - just talking to customer service @united makes me appreciate you even more!  They could learn so much from you! @SouthwestAir Thank you so much for stepping up your game and making my day after night of elevator music. Much appreciated. @JetBlue Btw, thanks for responding quickly!! @SouthwestAir Sent. Thanks VP! @USAirways ok thank you we were told ground delay due to snow. @JetBlue Gotcha... thanks for the update. I\\'m ready to go whenever you are :) Enjoy your evening. @USAirways Will do. I appreciate the response. @SouthwestAir Awwweesssooomee! @SouthwestAir Black History Commercial is really sweet. Well done. @SouthwestAir though I work for another major airline,  I LOVE your Black history month commercial. I Thank you. @SouthwestAir Hi! I just saw a Black History month commercial on TV &amp; Im excited! In support of this month,will you all grant me 1 free trip @SouthwestAir thanks for the drink tickets hook up! Can\\'t wait for my first international flight with you to NAS! #pumped @SouthwestAir Yeah, we figured it out.  Thanks. @SouthwestAir On my flight today from RSW to GRR I was able to snag a free SW Agent to check for me. It looks like we are (finally) all set. @USAirways  thank you! Glad to be heading home! Great people at your call center! @USAirways thx 4 replying. After trying 2 get thru many times, &amp; v-mail or people hanging up on, us we talked 2 tech...cont\\'d @USAirways HA!  You\\'re fun. @SouthwestAir Hey yea I got thru...everything is good now (well, in 7-10 days when the voucher goes through)  Appreciate it! @USAirways flying high thanks! @SouthwestAir thanks for your assistance..you guys ROCK!!💯 @SouthwestAir all good now. Going to make it to Boston on time. I\\'m actually on your wifi right now @USAirways Thanks. It would be better from the gate agent at C14 in Charlotte boarding flight 1791. @SouthwestAir Glad it was finally resolved too. Too bad I can\\'t get a free voucher to go with mine so I can have a friend travel next time! @JetBlue I would prefer a similar picture but full of E190 tails, but great shot! @USAirways thanks @SouthwestAir much respect! @SouthwestAir Thank you!  #thankful #feelingtheluv @SouthwestAir I got it added thank you! :) @SouthwestAir Great, thank you. Best of luck dealing with this horrible winter. @southwestair #fattuesday Great job celebrating #mardigras today at Atlanta Airport. Another reason I\\'m nuts for you! http://t.co/8WBzOrRn3C @SouthwestAir No worries at all!!! I would rather be safe on the ground than take any chances. Yes! Tomorrow AM if BNA reopens ☺️ @JetBlue Well, thankfully they\\'ve got a nice food court here...When will an update be posted? @usairways Thanks to Kevin and team at F38ish at PHL for some great service recovery tonight. Appreciate it. @SouthwestAir About time...and just in time for my next flight Thursday. @SouthwestAir Thank you. I know ya\\'ll can\\'t control the weather. I appreciate ya\\'ll working to get my flight rebooked the last two days. @SouthwestAir Thanks. I\\'ll keep checking. I\\'m trying to book our first Disney World vacation. @USAirways Marsha M. at Myrtle Beach is the greatest! She deserves all the respect and praise there is! #ThankYouForEverything @USAirways thanks to Betty working gate at ILM and lovely gate agents here in CLT helping me get home 2 Phx tonight instead of tomorrow @SouthwestAir El Paso deals....May❤❤❤😍🌏 @SouthwestAir really appreciate the follow up, I always fly with y\\'all for a reason! @SouthwestAir Awesome - thanks! Despite Mother Nature\\'s best efforts, @SouthwestAir\\'s good-humored folks got us home safely in an area heavily affected by winter storms. @SouthwestAir I did. Thank you. @SouthwestAir Thanks for taking care of me Today!  Michele rocked the customer service! Gate 25 HOU @USAirways thanks for your help! I left a message for DCA lost and found. Fingers crossed we find it! @JetBlue Worked now, ty @SouthwestAir thank you :-) @SouthwestAir All pieces were found and safely delivered to our home this afternoon. @SouthwestAir no worries. You\\'re doing the best u can. Already Cancelled Flighted my biz trip. Still $LUV you! -RR 1079871763 @USAirways @AmericanAir @SVLLINDIA provides you the best logistics experience for people all over India.\\n#Mumbai #Surat #NaviMumbai @SouthwestAir no worries. We got thru eventually. I was just curious. Best of luck to you dealing with the weather! @JetBlue wouldn\\'t mind paying for the snacks but no $ for tix :-) Great job guys! @JetBlue Thanks for the quick reply! Just wanted to make sure it wasn\\'t just my account :) @JetBlue I did see that! Working on picking up a trip or two as we type. @JetBlue what are the chances of actually flying out of Charleston today?? Cold, rainy weather in the south of all places... @USAirways she also appreciated having her very own hashtag! :) #lucycat @JetBlue awesome, thanks! on hold now. @JetBlue flight 117. proud to fly Jet Blue! @JetBlue thanks great recap. I wouldn\\'t have been able to sleep!  I was nervous the bad guy was getting away. 😉 @JetBlue great. .@USAirways thanks! “@JetBlue: @jannasaurusrex Thanks for the kind words, Janna! #WeAppreciateYou #TrueBlue” and now I\\'M feeling like a boss #jetbluefame @JetBlue boarding the back of the airplane first. Like a boss. #sosmart #jetblue #frequentflyerappreciates #alsoyayforsnacks @JetBlue sooo earlier i said i couldnt fly with you for my school trip but now i can! 😏 @USAirways Thank you, busy times. @JetBlue thank you for the information. @JetBlue why are you always so amazing! #jetblue #trueblue http://t.co/iIMTJxcvLG @USAirways thanks :) @JetBlue Thanks. I\\'m finding lower fares already on other carriers with direct flights. July 8 - 13. @JetBlue incredible PR team. 👏👏👏👏 @JetBlue Was nice to see your Veterans Advantage Program at the gate on Sunday @ MCO.Keep up the good work at  JetBlue @JetBlue sounds great! Thank you!! :) @eatgregeat WOW~Thx for thinking of us, Greg! Heard #SOBEWFF was amazing! We\\'ve heard the same about @JetBlue (ps thx for the info) #TeamNKH @JetBlue it will be glowing. Your crew and your aircraft sparkled. You guys know about @nokidhungry right? Might be a good partnership:) @JetBlue you all are the best #flyfi # ondemand #leatherseats #hipunis #legroom @JetBlue Longing to look into the blue eyes. #firstlove @JetBlue you don\\'t need to cut services, charge more and give a better flying experience. That\\'s why I use jet blue in the first place @JetBlue glad you like it. Feel free to steal it. @JetBlue your blue helped bring out the color of my eyes. And I promise I didn\\'t eat all the free snacks. “@JetBlue: @Ruth_Slobodin Why not? We\\'d sure love to see you, Ruth! #JustDoIt #YouKnowYouWantTo ;)” you know me too well 💘 @JetBlue great will do once I land in JFK @USAirways thanks for reaching out to me.  My Gold Div no. 2k424j0. My Flights were changed under Confirmation # DNX58V. @JetBlue here you go... Your napkins pretty much say it all! http://t.co/OxY1Jnpjm3 @USAirways yes and our flight attendant (who is wonderful btw) secured the tray table so it\\'s not flailing about. http://t.co/JhXWMuTx4G @JetBlue A320 pulling into the gate as the sunrises here at @BostonLogan this morning #jetbluesofly #jetblue #airbus http://t.co/JGdu5us8Dz @USAirways thanks for seating me next to 2 hot athletes. This flight is significantly better now! @USAirways Thank you!!! On our way to get her bag now - thanks to having that number 😊 @JetBlue Thx for the quick response .... yep I tried- but it can\\'t find the flight when I Input the Confirmation # @USAirways YOU ARE THE BEST!!! FOLLOW ME PLEASE;)🙏🙏🙏✌️✌️✌️🙏🙏🙏 @JetBlue Wish Everyone felt like you @JetBlue thanks to you customers like me stay loyal. From check in to landing. @SouthwestAir thanks!! We will see what happens!! @JetBlue haha. TY. Do you know what time that lane opens at Logan? @USAirways YOU ARE AMAZING!!! FOLLOW ME BACK, PLEASE!!!🙏🙏🙏🙏🙏🙏🙏🙏🙏🙏🙏🙏🙏🙏🙏🙏🙏🙏 @JetBlue I like \" Follow @JetBlue \" @SouthwestAir Karen with customer service was very helpful. Thank you for providing one bright spot in a frustrating situation. @SouthwestAir you guys are awesome... #dontchangeathing #luv @SouthwestAir Finally! Integration w/ passbook is a great Valentine gift - better then chocoLate Flight. You do heart me. @SouthwestAir about time! Thank you! @SouthwestAir is having a sale! I\\'m delighted! @USAirways You all work hard at making sure things flow smoothly. Keeping positive. @USAirways we are boarding now but have yet to depart.  Thanks for the response. @USAirways I totally understand the weather. Just frustrated. Thanks! @SouthwestAir LUV Ya Too!!!!  I will sing a song for y\\'all when I finally get on that plane back to Nashville!!! #LOVESOUTHWESTAIR @SouthwestAir Thanks a ton! @SouthwestAir thank you, someone finally answered and was able to change my flight that was Cancelled Flighted bc of ice. Thank you for response @USAirways Thx to gate agt John Pascucci for finding us a flight from CLT to PVD after our original one was Cancelled Flightled http://t.co/YiwLhQhZgp @SouthwestAir always when I fly SW. #loyalRRmember @USAirways YOU ARE THE BEST!!! FOLLOW ME PLEASE;)🙏🙏🙏✌️✌️✌️🙏🙏🙏 @USAirways surprisingly quick response time by you and them. Thanks! @SouthwestAir yes. Thank you. Oct 25-oct 31 @USAirways still not in the air for deicing of plane. I\\'ll miss connect but customer service was helpful.I\\'m hoping to catch the next flight @JetBlue FYI, I\\'m onboard #616 comfortably travelling to JFK, seat was no problem as you said. Thanks for making flying more civilized! @SouthwestAir and thanks! @SouthwestAir its all good. flight eventually took off, and landed safely. oh, and I got the free cup o wine. thx @JetBlue Yesterday on my way from EWR to FLL just after take-off. :)\\n#wheelsup #JetBlueSoFly http://t.co/9xkiy0Kq2j @SouthwestAir nice work on the update! @SouthwestAir thanks do yall expect to be operational tomorrow out of Nashville? @JetBlue sure is 💙 @USAirways thanks so much! @SouthwestAir Beautiful, thanks a ton! @JetBlue after my second call to customer service and the fifth person I talked to, an amazing rep fixed it in about 5 mins! :) #persistence @JetBlue thanks so much! @USAirways thanks!  Can you help remind the agents it\\'s ok?  Ps. Heard rumors of a streaming wifi TV/movie service you might be installing @SouthwestAir finally! @USAirways YOU ARE THE BEST!!! FOLLOW ME PLEASE;)🙏🙏🙏✌️✌️✌️🙏🙏🙏 @SouthwestAir  Thank you. @JetBlue That makes two of us! Lol #Blushing @JetBlue Happy Anniversary!! It\\'s hard to believe you\\'re 15!! You\\'re so young! @JetBlue #1680 Super smooth flight and landing. Nicely done. @SouthwestAir Great job!! Looking forward to my next trip being able to use this new feature! @SouthwestAir Great job with the Passbook integration! It’ll really help streamline the commute to San Fran! 😊☕📲✈ .@SouthwestAir you\\'ve got a mess here at DTW but your staff is doing great. @SouthwestAir + @twitter  = outstanding customer service!  Thank you! @SouthwestAir aww thanks!! Other than that, love it! @SouthwestAir thank you for your help resolving my problem Shannon ROCKS - even though Rhonda didn\\'t !! @SouthwestAir can\\'t wait! Thanks for the response!❤️ @SouthwestAir - I just had a great experience with your customer service team. Thank you! #LuvSW A-list @SouthwestAir @ PIT- Gate A1! Big shout out to the lady trying to track him down! @SouthwestAir luckily, the people working the BSO at Chicago Midway have been very attentive and found our bags in Punta Cana. @SouthwestAir awesome. thank you! @USAirways thanks @USAirways - done :) @USAirways thank you. We filled out a claim and hope to have the bags tomorrow. @SouthwestAir @Imaginedragons @beatsmusic well timed tweet, just boarded and will be listening on my way home! @SouthwestAir that\\'s why I fly y\\'all, that personalized service @SouthwestAir @Imaginedragons @beatsmusic I\\'d love to hear them live at @VelourLive @velourlive this saturday! #destinationdragons @USAirways Will do :) @SouthwestAir So far so good! http://t.co/16c9ex79Rk @USAirways please give Tara G a pat on the back and praise.  She was very very helpful.  She is at PHL member lounge @USAirways  thanks I hope I get to my destination @SouthwestAir thx - fingers crossed they are found. Lmfaooo “@JetBlue: Our fleet\\'s on fleek. http://t.co/1G9RnmYUQe” @USAirways thanks for the reply, hoping everything is cleared up in Charlotte by Monday @USAirways will do. Hoping for a voucher for a future flight #Optimistic @SouthwestAir Whoa. Thanks and that\\'s what I wanted to hear! Early flight coming up. Thanks for the reply. @SouthwestAir is there a way to know who checked my bag on the curb? She was awesome!!! And want to be sure she gets a high five! @SouthwestAir thank you for handling this for me. Glad Southwest cares about what it\\'s flyers think! @SouthwestAir :arrived in San Juan early. Thanks for a great flight. LUV u! @SouthwestAir thanks for the follow up.  I appreciate it. @JetBlue lolol @s_myc88 @JetBlue shows us their sense of humor with these tongue-in-cheek flight etiquette videos: http://t.co/GGuAA1JvDF @SouthwestAir @karajusto OK we will! Thank you!!! @usairways #crew keeping safety top of mind in CLT. http://t.co/a0YoSJHZMc @JetBlue true. Maybe. Wish I had expedited security haha @SouthwestAir @taylormdowns We share that value in common. :) @SouthwestAir JUST GAVE ME TICKETS TO SEE @Imaginedragons  AT @VelourLive ON SATURDAY. I CAN\\'T EVEN RIGHT NOW HAHA. THANK YOU!!!! @SouthwestAir once or twice a year. Hard to get vacation time from work sometimes. But love flying with you guys! @SouthwestAir @love_dragonss lol I\\'m sorry I\\'m just seeing this now but LAUREN OH MY GOD AHHHH Why “@JetBlue: Our fleet\\'s on fleek. http://t.co/a7NvbJ8ipx” @SouthwestAir amazing service by your SW stewardesses! From den to Cun and from CUN to Atl and atl to lax. Thank u! @SouthwestAir thanks for the follow up. So glad to get my bag back. @SouthwestAir love..luv the addition of the passbook option. Power Moves RT @JetBlue: Our fleet\\'s on fleek. http://t.co/t9s68korSN Bingo! “@SouthwestAir: Thank you for bringing this to our attention. We\\'ll be happy to reach out to Noah so we can make this right. ^MR” @USAirways captain on flight 1712 from PHX-PHL at 3:55 tonight was hilarious. \"Greetings from the pointy end of the airplane\" haha thanks! @SouthwestAir just had a great flight #4223 with Damion! He was the best #damionflight4223 @SouthwestAir woohoo that just made my day. I looked and just couldn\\'t find that, thank you! @SouthwestAir One heck of an airline http://t.co/CyoOnZfTdC @AmericanAir I might look into that. My wife travels much more than I do. Could we both use the membership? @AmericanAir Great, thanks. Followed. @AmericanAir This is exactly why ill be flying AA from @Dulles_Airport to Dallas! Only airline I trust! @AmericanAir got another flight. Thanks you @SouthwestAir y\\'all the real MVP with these prices... @SouthwestAir Thx Ops Agt Rich Westagard n Flight Att. Nancy @ DEN Airport.Held flight 1027 n even saved seat 4 Bus Select #CustomersFirst! @SouthwestAir Thank you for having flights going out of Nashville! You guys Rock! #DisneyPrincessHalfMarathon #girlsweekend #bffs @AmericanAir I don\\'t think you should help him at all based on his behavior. The voucher and cot seem like enough lol 😃 @SouthwestAir DM sent! Thanks so much for responding! Your response was so timely, I missed it! @AmericanAir got back eventually! Was a rollercoaster. Once I got to the airport &amp; got to speak to someone things got fixed very quick. @SouthwestAir I love you guys! Had to take a few other airlines this week...makes me love and appreciate y\\'all so much more! #onlywaytofly Lovely! RT @JetBlue: Our fleet’s on fleek. http://t.co/Hi6Fl1AX9E I appreciate the reply. RT @SouthwestAir: @luxclark We’re so sorry to keep you waiting, Laura. An Agent will be with you shortly...^CB @AmericanAir yes yes yes,so glad to be headed home! @AmericanAir thanks!! @AmericanAir thanks keep me updated just hope I make either of my connections to Killeen Tx @SouthwestAir the new logo is going to look amazing on the airplanes “@JetBlue: Our fleet\\'s on fleek. http://t.co/3kVkd8yRxa” + lol wow @SouthwestAir love bridesmaid dancing Can\\'t wait for you to fly into puerto Vallarta and kick united ass! @AmericanAir thanks @SouthwestAir I ❤️ you! The only airline that understands us military families and our unpredictable changes. Pound it 👊 \"LOL you guys are so on it\" - me, had this been 4 months ago...“@JetBlue: Our fleet\\'s on fleek. http://t.co/LYcARlTFHl” @JetBlue wow, keeping up with the times... @SouthwestAir filing it now. Thank you for your response. @SouthwestAir thanks so much for making my night 😀 cannot wait for my trip next week! http://t.co/NbZ45jCd1r @SouthwestAir thank u for not leaving me \\n@me nice job running thru the airport to catch your connecting flight @southwestair thanks for taking it up a notch!! leinenkugels #craftbeer #goodflight @ Norfolk… http://t.co/TgSLjjN6g0 @SouthwestAir Thanks for replying, I sen\\'t my conf #! I love aviation and Southwest and all I wanted for my 18th was to fly SWA for the day! @SouthwestAir, I really appreciate you all\\'s #BHM commercial that aired today during @BET\\'s #BookofNegroes @USAirways — I had exceptional service on flight #403 from IND to PHX!! @AmericanAir Believe me, I understand. Flight #2955. Was originally booked for Sunday. Flight was Cancelled Flighted and rescheduled for today. @SouthwestAir you guys are so clever 😃 http://t.co/qn5odUGFqK @SouthwestAir - Great flight from Phoenix to Dallas tonight!Great service and ON TIME! Makes @timieyancey very happy! http://t.co/TkVCMhbPim @SouthwestAir Fantastic! Thank you! I always look forward to JB RT @JetBlue: @bostongarden :) Looking forward to welcoming you onboard! 💙 Looking forward to using Passbook when I fly  @SouthwestAir in a few weeks! @AmericanAir thank you! @JetBlue toss this ticket...it\\'s great PR and I\\'m sure every college student following me will be willing to rock out wit too 👀👀 @SouthwestAir can i get tiks for #DestinationDragons omg id love to! Plz 😱❤️im dying @southwestair Amazing view on the approach to LAX tonight. http://t.co/a68d5fULmH @SouthwestAir thanks, already subscribe and have a RR Account. Had received a promo code last month but has since expired. Any new offers? @SouthwestAir thank you kindly. @USAirways Fabulous - thank you so much! Looking forward to taking to the skies with you! :) @SouthwestAir THANK YOU for finally making your boarding passes work with passbook @USAirways thanks! @SouthwestAir de-icing is important! @JetBlue Thanks so much for talking to me! The article about #Twitter chats came out great! http://t.co/rKorHvR9z1 #contentmarketing @USAirways YOU ARE THE BEST AIRWAYS! Follow me please!!!!!🙏🙏🙏🙏🙏🙏🙏🙏🙏🙏🙏🙏🙏🙏🙏🙏🙏🙏🙏🙏🙏🙏🙏🙏🙏🙏🙏 @SouthwestAir for the win as always- saved my day and got me on a direct to Orlando. 🎉🎉🎉 @SouthwestAir just did last night. Thanks for following up. :) @SouthwestAir thanks for getting me back to Nashville. Big thanks to the pilots on the 6:15 out of Baltimore. Flying in snow landing on ice. @USAirways YOU ARE AMAZING!!! YOU ARE THE BEST!!! FOLLOW ME PLEASE AND I FOLLOW YOU BACK;)🙏🙏🙏✌️😉) @SouthwestAir Oh no worries NL, no disappointments here. Better to have NO lounges than like #Delta who has them but does disappoint! @SouthwestAir @DeltaPoints hey at least you guys are honest with your customers unlike @Delta @SouthwestAir Thanks for the info! Have a good day. @USAirways Sending thanks to employee Freddie in PHL Admiral Club A East for allowing me to give a day pass to my sibling stuck there today. @SouthwestAir Landed in Nashville! Thanks for taking care of us! http://t.co/RYXbPLgMnK @SouthwestAir Thank you for your time! @SouthwestAir Thank you! @USAirways that\\'s why u guys are my #1 choice. @USAirways YOU ARE AMAZING!!! YOU ARE THE BEST!!! FOLLOW ME PLEASE 🙏🙏🙏😢😢😢🙏🙏🙏 @USAirways Thank you. And thanks for being so accommodating. @JetBlue: So excited to hear about your move towards international travel from Long Beach Airport! @SouthwestAir I love and appreciate the fact that you guys rarely Cancelled Flight flights and are on time, but I need a Cancelled Flightlation this time. 🙏 @SouthwestAir thanks for your excellent response time and assistance! All set :) @SouthwestAir - total win!! Happy 7th bday on intercom, chocoLate Flight kisses, and a chance to hand out snacks.Thank you. http://t.co/NKloZcNtto @SouthwestAir big thanks to your team. family emerg, same day ticket, experience was excellent. 1st time flying with yall, not my last! @SouthwestAir has the best customer service! @USAirways with the weather mess in the South, I missed my connection in CLT. Impressed though with the Cust Serv phone reps today. @southwestair Flight 4146 Phi to Den was staffed by a great crew. #freecomedyshow #newlifetimecustomer So relieved I\\'m flying @JetBlue after listening to everyone at the neighboring gate bitch about Spirit. My airline\\'s better than yours. “@JetBlue: Our fleet\\'s on fleek. http://t.co/g12sn5qsqZ”- no... Yall better than this @USAirways thanks. 😒 @SouthwestAir hot stewardess flipped me off @USAirways Frustrating days!No flights home, changed airlines. Thank you PHL USAirway employees &amp; @united for help getting me back to IAH. @SouthwestAir Once again, I was able to change my flight without any fees... oh and the two free checked bags.  Best airline ever. @SouthwestAir you are the #Official airlines of #DivadaPouch aka #ThePoopQueen http://t.co/XXY2d2iMnP @SouthwestAir @JohnWayneAir Thank you both very much!! @USAirways Flight # 604. Thanks. @JetBlue We had 2 great flights into and out of the Bahamas, even during the bad weather in the northeast, thanks for the great service!!! @SouthwestAir neveind, it\\'s been found and on its way. Thanks for making the process so painless @USAirways YOU ARE THE BEST AIRWAYS!!!!!!!!!! FOLLOW ME BACK, PLEASE 🙏🙏🙏🙏🙏🙏🙏🙏🙏🙏🙏😢😢😢😢😢😢😢😢🙏🙏🙏🙏🙏🙏🙏🙏🙏🙏🙏🙏🙏🙏🙏🙏🙏🙏🙏🙏🙏 @SouthwestAir A wonderfully nice agent in Austin helped us out. Wish I remembered her name to give proper kudos. @SouthwestAir Got it covered. Thanks! @SouthwestAir Awesome!!! Sending now. @USAirways nice touch with using my first name.  Very intimate.  I\\'ll be filing a claim soon to be reimbursed. Have a us airways day! @USAirways on Sunday! Can\\'t wait! See you then @JetBlue loved the service from the staff at Newark today. \\n\\nGood service goes along way.\\n\\nI appreciate your preciation  \\n\\nNj ✈️Tampa \\n\\n🔵🔵🔵 @USAirways Thank you so much its been a very stressful day “@SouthwestAir: @kirkwoodtiger Hmmm... how does the Caribbean sound? https://t.co/AAY5avg99b ^LD” WARM THANKS! @USAirways landed safely everything worked out. @southwestair#SWADiversity We are ready to be inspired! http://t.co/S3EsW5AgUm @usairways 4 flights in 48hrs &amp; I\\'ve had the same flight attendant for 3 of those flights. Freaky coincidence! Plus side she\\'s great. :) @USAirways Absolutely!! The staff was amazing!! @USAirways Haha - that will indeed be a great day! @SouthwestAir allows you to change a flight once for no fee, yay! I will always book flights with them. @AmericanAir changes you $200 @SouthwestAir I\\'m really craving your pretzels, please send me some. @SouthwestAir just added #passbook support to their iOS application! Finally, I get to add them to my collection. http://t.co/lEdNoCdQee @USAirways thank you! I tried that and they said they didn\\'t have it. Anywhere else to try? @USAirways thank you for fixing my 5 hour delay. @USAirways customer service at its finest Don\\'t show these to Larry Fedora. RT @JetBlue: Our fleet\\'s on fleek. http://t.co/qqlzk2jkzR @southwestair Great job celebrating #MardiGras2015 .  You own the industry . Another reason I\\'m nuts for you! http://t.co/8WBzOrRn3C @SouthwestAir - Apology accepted! #customerserviceWIN #itravelalot http://t.co/z5znfwkKWP @SouthwestAir LOVE your TV ad with the girl dancing. Makes me laugh every time, AND now I want to take a trip! :-) @SouthwestAir Yes! I did and the bags came straight to my hotel. Thank you ...you guys rock! @SouthwestAir thank you!!! @USAirways shout out to the pilots and FC attendant(Eliz) of US 673. Super strong crosswinds during landing. Eliz did a super job throughout @SouthwestAir pleasantly surprised to be boarding my flight on time this morning at @Fly_Nashville. Good job! @USAirways ice cream up front! Solid @SouthwestAir OH MY GOSH SERIOUSLY?! you just made my day, week, year!!! No one will appreciate this more than me!!! @USAirways after missing my flight and reFlight Booking Problems 2x, I just walked onto another flight and my phone was still on the seat!! @USAirways on time today and from PHL! Nice work! #ThereIsAFirstForEverything @USAirways thanks Travis at PHL A East checkin for knowing baggage policies. Skis &amp; boots count as 1. Teach your mgr who didn\\'t know @USAirways finally rectified my flight situation! Thanks again @USAirways how about a drink voucher for the next flight?? #winkwink @SouthwestAir Thank you thank you thank you @SouthwestAir @love_dragonss oh my god LAUREN OH MY GOD OH MY GOD @SouthwestAir @love_dragonss holy fuckinf shit @SouthwestAir @love_dragonss LAUREN OMG BEST AIRLINE EVER @JetBlue you guys operate a world class company and for that I thank you @SouthwestAir you\\'re the best @SouthwestAir @love_dragonss LAUREN OMG IM DEAD IM SO SO HAPPY FOR YOU YES YES @SouthwestAir @love_dragonss LAUREN IM SCREAMING @SouthwestAir @love_dragonss oh my gosh @USAirways right on. Up. Up &amp; away ✈️🌞 @JetBlue Thank you guys! Brilliant customer service @USAirways FA attendant on 4553 PHL to PWM tonight was fab!  An asset to your team.  From 1F. Have a great night team! @SouthwestAir had a great LA flight with Clarence and Frank! Those 2 guys are a hoot! 😜😂 thanks @AmericanAir thanks, I\\'ll look forward to the response. @united New Apple crâpe, amazing! Live from UA1207. Really nice crew too.  #AmericanAir has biscuits, UA needs them 2 http://t.co/gZ9GqDT7Jj @JetBlue thanks for the info... Figured that was the case. Hopefully my new hashtag will change that ;) #ABCLetJetBlueStreamFeed @united Thank you for the new Club at O\\'Hare. Very comfortable. You made the difficult weather days proficient and enjoyable. @AmericanAir thank you, truly appreciate the help, just sent a DM @JetBlue saved the day:) @Expedia lost a costumer #jetblue #makingthingseasy #feelbetter @united I appreciate the follow up. @united @jsumiyasu I am thankful to the  United ground staff who put me in the last seat on the last flight out. Home Late Flight is still home! @united no worries about the tweets. We all should do what we can to make sure we, as in your tag line, \"Fly the Friendly Skies.\" @united @FlyANA_official pleasantly surprised to find ANA has made major upgrades on their transpacific route in flights, planes and service @AmericanAir Thank you so much. @JetBlue yes! Terra blue chips were my favorite. :) @JetBlue I DM\\'d my confirmation code... Thanks again for your help! Mommy, daddy, and kids appreciate it! @united Brandi Zabsonre in Denver deserves a raise for bringing delight into a terrible travel situation. big ups http://t.co/TK3aOpdtSQ Cool! \"@JetBlue: @hgeronemus We are 60% there and anticipate completing installation on all our A320\\'s this year. http://t.co/sGckBopATA” @JetBlue Love you guys sooooooo much. Ridiculously appreciated! A+ service! @united thankful for great service in Newark. Seats fixed and I was seated with my daughter! Fab landing in Fort Myers! @AmericanAir #AATeam thanks for working in very rigorous weather conditions for all @JetBlue you are officially my favorite, thank you for the wonderful service at JFK @SouthwestAir thank you so much completely made things right! @JetBlue thanks!! @SouthwestAir round-trip tickets just arrived for our auction at the Post-Masters Invitational! Thanks Southwest! http://t.co/mRfBjtePef @SouthwestAir Thanks so much! @SouthwestAir  THANK YOU for your awesome flights. Sweetheart got screwed on @FlyFrontier, managed to scramble and get a SW plane today. !!! @JetBlue thanks! I\\'ll do it. @JetBlue @FerrisSalameh Love JetBlue\\'s speedy Twitter customer service. @SouthwestAir  I USED to always fly Southwest. @SouthwestAir weather bc of system outage. Hopefully everything goes smoothly now. Thank you for follow up @JetBlue thanks! @SouthwestAir I managed to get sorted out over the phone. Good luck dealing with the snow in Texas! @JetBlue thank you so much for your effort @AmericanAir Delaney and Shawn at DFW showed exceptional customer service today. Will happily choose AA whenever possible now! Thank you! @SouthwestAir never mind, I moved my flight to tomorrow. Thanks for the help! @JetBlue thanks for letting us know. Hoping for no more delays! @SouthwestAir  thanks Southwest for saving our trip. my sweetheart isn\\'t going to miss seeing #AltonBrownLive thanks to y\\'all! #SOhappy @USAirways thank you @AmericanAir thanks... I finally got through this afternoon.  :) @SouthwestAir thx. Make it right. Help Meagan Fouty Brancato fl#2771 dfw gate 4 preboard w/kids - b4 group A please. Please. @SouthwestAir love them! Always get the best deals! @United WiFi onboard 737-800 far superior in pricing and performance (user-perceived bandwidth and Late Flightncy) to recent @GoGo experiences. @JetBlue Airways Corporation (NASDAQ:JBLU) Reaches on New High Range ... - StreetWise Report http://t.co/C7tpdKqULM @united stay warm - I will be passing through Chicago next week @AmericanAir Well, you guys are totally kicking a million pounds of ass. Bar none, the best SM team in the airline industry in my opinion. @JetBlue Please come to Indianapolis! @united thank you! I wish the lady in Little Rock had told me that in the morning when I asked her @JetBlue okay thanks. Hope to be flying with you guys soon! @JetBlue he loved the #natural #beefjerky snacks😉 @JetBlue thanks for your reply. It was flight 1572. @JetBlue who is he I must send a note!!! Too good for words! @united You might be dealing with frustrated passenegers. hope you all have a great day :) thank you very much for an amazing airline :) @JetBlue - loving Capt Joe on our flight from BOS to SFO #633. This should be fun! @united JT thanks for your help I’ll complete the form once we are back home @AmericanAir thanks @JetBlue It was fabulous! Very pleased. @AmericanAir THANK YOU!!! 👍👍👍👍👍 @JetBlue u the real MVP http://t.co/jWL26G6lRw @JetBlue No worries. Time flew in the terminal and now we\\'re taking off. Thanks again! @united Thanks! @united Elizabeth at Washington Dulles just hooked me up with a new connecting flight at my gate! I\\'m super pleased! @united Thank you for the speedy response! I figured it may be something of that nature. You guys and your \"fine print,\" haha @united holy high speed internet batman!  Speeds at United Club at IAD are insanely fast!  Thanks @AmericanAir Thank you!!!! I will be there to pick her up on time. @JetBlue - looking forward to it when we finally take off. @JetBlue thanks... @united doing a good thing, holding flight for a few for 11 peeps on Late Flight connecting flight. We\\'ll still make destination on time @AmericanAir thank you for the assistance @united on a good note, the 2 employees I encountered @ Newark were fabulous. I was very Late Flight for my connecting flight and they got me on!!! @united Thanks, ^KP. Please also mention the Quiche breakfast and Tandoori chicken dinner entrees and accompaniments are truly First Class. @USAirways connection made. Thanks again this week. #daddyshome @united looks like I\\'m settled in to where I\\'m going.  Thx. Is expiring the @united offer to buy or transfer #United #MileagePlus miles with discount? Many offers during a year http://t.co/6tz6imqZlG @AmericanAir yes, it says it should be deliver within 6 hours after pick up line. @united took this picture on Thursday. #awesome http://t.co/IVGpZSjtkW @AmericanAir thanks. Delivery status?? @united Sure did! Only waited about 15min. Yay! @JetBlue thanks! @USAirways yes I did thank you! They did a great job turning the flight in jan ! @united thank you! 😊 @AmericanAir Hey Becky Piela at the Orange County airport has been really kind and helpful with rescheduling our flight! @united done just now, thanks. @united Thanks for the timely service &amp; great staff getting my wife and me to and from Cancun this past week for our honeymoon. @AmericanAir Chicago seen from seat 6A, AA 1620. So far a great ride! On to PDX! http://t.co/X4rsvAGIjN @SouthwestAir tv stream means I get to spend my flight watching 1999 and 2011 Women\\'s World Cup Finals. #throwback #bestflightever @JetBlue thank you @SouthwestAir @heavenlychc9 I\\'d at least enjoy a free cocktail...or two. @SouthwestAir beyond ready @SouthwestAir thanks for the great customer service today! 👍👌 @SouthwestAir happy to enter your sweepstakes again #nutsaboutsouthwest @JetBlue ok thank you for the quick response JetBlue still the best comp @JetBlue im in a session presented by one of your beloved travelers, @paulgordonbrown,I see why you love him so much http://t.co/vv8cFyhKVb @SouthwestAir thankyou :))❤️ @SouthwestAir crew on flight 206 is awesome! Tell them I sent this tweet and maybe they will give me free wifi... #canthurtasking @SouthwestAir Katie, Gate C47, Denver International, fantastic customer service helping me and 2 new flyers; thx for amazing staff! @JetBlue oh definitely. I kind of only fly JetBlue. @JetBlue thanks for getting me to Orlando early #happiness @SouthwestAir /I really love your customer service Lou Ann in Phx rocks. Thanks SW. #be Ourguest @SouthwestAir Thanks for two smooth, safe and fast flights! #Boston #Houston #LUVSWA http://t.co/elhxUV0Uj1 @SouthwestAir thanks! @SouthwestAir great day in the air. http://t.co/YNc2ZUt4zz @SouthwestAir in flight wifi + @TMobile wifi calling makes for the best combination. Who doesn\\'t love texting 40,000 feet in the air :D @USAirways - Check-in staff at PHX are awesome! Great traffic control for general boarding. @SouthwestAir What an awesome flight Dallas 2 NY. Virgin America refused bc of my child\\'s peanut allergy but u guys didn\\'t. Thanks! 👍😊 @AmericanAir no kidding! Gonna take some beating on the apron... And there are some good lookin\\' planes out there! @USAirways   Just talked to reservation. Must congratulation to them. Very friendly.  Good for usair. The ONLY airline we fly. @SouthwestAir is my favorite airlines. I\\'ve never had issues with them. Plus there crew is entertaining. @SouthwestAir your flight attendants are really funny!! The sass is giving me life!!! 😂 @AmericanAir thanks for following up- it finally worked!! Fingers crossed the new flight works. @JetBlue Kudos to JetBlue social media team for jumping in an helping me out during the last snow storm while web site was down..Thanks!! @AmericanAir Was not on board you today just watched report unfold on Twitter but still am very proud! @JetBlue thanks so much for your condolences and quick response. It is very much appreciated @SouthwestAir thanks for the quick response. Should I call daily it wait the 5 days. @JetBlue Thank you Alicia!  #ExceptionalService @SouthwestAir thank you. Great customer service so far. Accidents happen I understand. Hopefully everything works out. @SouthwestAir 2/22-MDW 2 SAN flt 1687 attendant Melissa was awesome! Fast, smiling, great. After weather Cancelled Flight day b4, it was welcome @SouthwestAir The Fact That U See Black History Month 12 Months A Year Is Honorable! We WILL BE An Economic Base For Corp. Like U In Future! @SouthwestAir eyes next steps for improving #inflight #Wifi - Runway Girl http://t.co/h46HT1Oz40 @SouthwestAir Thank you Thank you Thank you!!! My last attempt to win #DestinationDragons tickets was a success! I could not be happier!! :) @SouthwestAir oh no worries. Just have never seen that before until today. I mean…it is a great card 😀 @JetBlue thanks. I chatted with a nice fella about it and he gave me the lowdown. @JetBlue mission accomplished: gave @paulgordonbrown  a hug http://t.co/LT1pYKfvRq @AmericanAir Thank you for the response, we got it resolved at the counter. @SouthwestAir thank you :) @SouthwestAir It\\'s all good. Thanks! @SouthwestAir following. Thank you. @SouthwestAir Flight 1700. (PHX TO LAX) Wheels stop.  Glad to be home!  Thanks to the professionals both up front and in the cabin!!! @AmericanAir thank you. They are processing my refund. @SouthwestAir 👏👏👏 on that Late Flightst ad. Makes me happy to be flying you in a few days. #BETHonors @SouthwestAir I love this airline so much! Thanks so much! The service is great! The snacks are amazing! Everything is outstanding thanks!! @SouthwestAir @intuit @jhamilton2007 4 moms, 4 careers, 1 day trip to LA. #intuitlife #leanin http://t.co/2qJbCv5jzq\" #southwestairlines @SouthwestAir ok thank you  i hope  so too @SouthwestAir Customer Centricity is knowing people #ANAMarketers @JetBlue ah no the staff was perfect this morning at JFK, more sleep for me!! :) @JetBlue @Airbus  Wow, awesome videos guys https://t.co/dbcvEPn5QC Great work. #Bluemanity #CoreValues  #Passion #AeroJobMarket #avgeek @JetBlue @Airbus Wow what an amazing video https://t.co/dbcvEPn5QC Great world Guys #Bluemanity #CoreValues #Passion #AeroJobMarket @JetBlue today my family gets to experience #mosaic status w/ me! #LifeIsGood @SouthwestAir strives to be \\'Customer Centric\\' in everything they do - communications, advertising, customer journey, etc. #ANAmarketers @SouthwestAir Thanks! Sent a DM to you. Let me know if oyu need any additional information. @JetBlue word thanks @USAirways Yes thank you. Appreciate u checking... @SouthwestAir Thx for your quick response and action! bf will make good use of the voucher #satisfied #happycustomer @JetBlue 162, SMF to JFK! @AmericanAir Flight for tomorrow was Cancelled Flightled. New one booked. Seats taken care of. Just a tweet to commend you all on the service. Thanks! @SouthwestAir \"Airport snow removal method #22..\"\\nKeep up the good work folks, this is where Cessna\\'s become 747\\'s! http://t.co/7poFSXOjSY @JetBlue of course !!!! @SouthwestAir I agree! RT @9NEWS: One airline is the fly-away favorite at DIA  #9NEWSBusiness http://t.co/o3WlaInImY @USAirways I\\'m enjoying my flights so far! You\\'re doing a great job. Today\\'s been tough, so thanks for making my flights comfortable. @JetBlue Thanks for the complimentary upgrade to first.  You are the best! @SouthwestAir is the best airline hands down. Amazing customer service, bags free and affordable flights. #happycamper @SouthwestAir thanks to Ella-Mae at LAS counter for going above and beyond to help us get back to ABQ after our flight was Cancelled Flightled! @AmericanAir Thanks to AA for the upgrade today and getting me on a new flight after my first one was Cancelled Flightled! @SouthwestAir Looking forward to flying once again with #SWA on Friday! The #LUV airline. #DTW #MDW #TUS @southwestair cool shot of the moon and one of your fleet http://t.co/kl9BAiMES6 @SouthwestAir loving the new planes and the lighting, only wish windows were larger. http://t.co/h44uJ63CJG @SouthwestAir can anyone help me upgrade to buisness select !? Cant seem to get hail of the right area at all .. I know you guys are good @SouthwestAir - We left iPad in a seat pocket.  Filed lost item report. Received it exactly 1 week Late Flightr.  Is that a record?  #unbelievable @USAirways Shavon at customer service desk in Charlotte was fantastic! So helpful and smiling evn after what sounds like long day.Reward her @AmericanAir first ride on new 737-800 with new interior and in seat video. Nice improvement! #Newplanesmell http://t.co/dJJjN9sLHT @SouthwestAir had a great flight to and from Cabo last week with my family #smoothflight #frequentflyer @AmericanAir No worries at all. Y’all have a good one!! @JetBlue Even though this flight #226 didn\\'t have much needed hot beverages 4 us NY-ers, the landing was super smooth 👍👍 😊 #happytweet @SouthwestAir bumped me to preboard on both flights (because I\\'m fat?) Whatever the reason, thanks! @SouthwestAir Thanks to your team for dealing with Flight 1700 to Houston. @SouthwestAir Thank you for the tip! @JetBlue thanks for getting me to Boston early for @TuftsEnergyConf \"Breaking Barriers To a Clean Energy Future\" @JetBlue Thanks! @SouthwestAir has the smoooothest flight attendants. #SouthwestSmoothie http://t.co/Vr9k180LaI @SouthwestAir Thank you for taking good care of people with ALS! http://t.co/m1yyWAFkFI @KevinSwan_ @ALSTDI @A_Life_Story_ @JetBlue got it. Thanks Thank U 😘 “@JetBlue: @ItsLaLoca But of course! Safety is always 1st!  We\\'ll make sure to handle her with CARE and LOVE!  :)” @united thanks! :) @AmericanAir Thanks for asking On second plane after maintenance issue, for flight from ORD to LIT. Sitting at gate in very very warm plane That would be great! I never thought I\\'d be the sort who\\'d be into them, but it really makes the flying experience more bearable @JetBlue @united Will have to try standby in Denver tonight or will have to Cancelled Flight father son trip till next year. Thx for trying. @JetBlue thanks to the gent on the phone who fixed my BOS-MCO flight and the fee waiver! A320 now :) #flyfi ! I forget her name :( @united they are all -pilots, FA and ground personnel doing a great job. Weather is to blame... Who do I talk to about that :) .@AmericanAir @TyWinter it\\'s really the small things--the details--that make an excellent experience or a really irritating one. @AmericanAir Thanks! Great stuff! I can only imagine how jammed everything is. @united hey awesome!  Thanks for the reply, will be filling the form out! @AmericanAir Thanks! Hope I don\\'t look like a complainer, I\\'ve written of good experiences w/you in the past and am making do in terminal 5 :) @JetBlue @united have reported it.  Still in Istanbul at the moment apparently.  On the other plane haha.  Hats off to the pilot! @united #1007 Houston-Bogota boarding again, safety first, it seems the mechanics fixed the problem faster, good energy to fly home/family @united Honestly, I stopped trying to report things via website. Now I just laugh. Flights work. Miles accrue. I\\'m sure it\\'s just cosmetic. @USAirways Got it, thanks! @united @parryaftab done thnx @JetBlue Success! Good work JetBlue team @JetBlue great flight! Great view! :-) http://t.co/Yxn00pnOav @JetBlue beautiful ride. Thanks again:) @AmericanAir Yay, thanks! Appreciate the help, I know it\\'s NUTS right now with the cold and ice! @AmericanAir F-A-N-T-A-S-T-I-C!! thanks again for coming thru with great customer service! @united thanks for the re-upgrade to 1st class. It may be a 45 min flight, but it is appreciated. @united well, thanks for not charging me for switching my two Cancelled Flightled flights anyway. That was pretty nice. #stillmakingmepoorthough @united thank you! Love united!! Have 4 flights today! @united I am blown away by stellar #custserv !! Thank you &lt;3 http://t.co/JOrEScfb4x @united Boeing 777 Star Alliance short finals @Heathrowairport 27L on an amazing winters morning #777 #Avgeek http://t.co/owMaXOyEhZ @AmericanAir will award me 50,000 air miles!!! Yes I am going to take a vacation! \\n#thanksamericanairlines @JetBlue gr8 #Mint crew on #flight 123 to #LAX they\\'re #Mintalicious #TrueBlueLove #ShelleyandMarcRock #travel #air @USAirways Just spoke with a representative. Moved my flight earlier. Thank you so much for the follow up. @AmericanAir sure, thank you! @JetBlue Thanks for offering this service, guys! http://t.co/xDjzkC34GB @united all good! Next flight was a little delayed so it all worked 👍 @JetBlue what can I say, I\\'m #LostinLove w/our #brandmance https://t.co/Bzwgp7aDVE #wemosaictogether #Mint #Love @united sweet, follow back and I\\'ll get the dm off @united Thank you Margo at Houston\\'s Bush Intercontinental for getting me home earlier. @united Thanks - it\\'s very helpful to understand that the reduced price seats that are sold at check-in have priority over the certificates. @united thank you! @JetBlue you guys rock!! http://t.co/LA397zaoAY @united can I just go ahead and live in your premium cabins? I\\'m in heaven now en route to LHR @united Fantastic job by your people today on ua22 from Dublin. A jam packed plane but the crew was wonderful!! @united Just did, thanks for checking! :) @united well it IS John Hughes\\' birthday. But I will stick w the plane &amp; hold off on trains &amp; automobiles. Gate workers are doing well. @united thank you for getting our daughter home when @americanair Cancelled Flightled all their flights to Nashville @united great. Looking forward to your response to my DM then @united it\\'s kinda funny. No worries. @united okay - thanks for your help, JT! I appreciate your time! @United is the best way to re-unite me with my one true love, shopping in USA\\'s fashion capital #NewYork #unitedVUSA http://t.co/rBn7StUij1 @united thanks @united Okay, thank you for your help :) @JetBlue PDX to JFK was suuuuper HOT. @united I forgot that Intl flights out of LAX don\\'t go from Intl Terminal! Easiest re-check in ever! woo! @AmericanAir thanks! a response is better than nothing at all {ahem, @USAirways} @AmericanAir those were snacks we left on purpose for your team. :) for being so helpful this morning at the desk and on the phone! @USAirways a big thanks to the gate agent flt5127..keeping us informed of the delay#greatcustomerservice @united yes, Thx! At 10:35 (landed at 9:20). @united flight to RSW tonight -me &amp;  twin 3 year olds. A pilot who was in row by me stayed to help me get the boys &amp; bags off. Lifesaver!! @united did I win :) @JetBlue Love you, bae. #JetBae @united please give special thanks to Aaron in Tampa office for helping me for literally two hours! He\\'s amazing. Mission accomplished! @JetBlue You definitely will! @JetBlue you don\\'t remember our date Monday night back to NYC? #heartbroken @united OMG THANK U😻😻😻 @united @staralliance was there few weeks ago AWESOME,bright vibrant, and NO habitrails @AmericanAir it\\'s always nice coming home but I wish you\\'d fly LAX-MAD and keep me away from Iberia 😜✈️ #GoingForGreat @united no worries - after everyone boarded, the cushions were brought in. Took a while, but they made it here. @JetBlue Really!? That\\'s good to hear! Thanks for the update @walls29 We may make that business meeting after all. @united \\nI will admit, you\\'ve been rather good to me over the years.\\nYou\\'ve still got me hooked.\\n(for now!)\\nPeace. @united thnx @united landing in anchorage, then on our way to fairbanks! http://t.co/FjkvQMbmaS @JetBlue perfect! Probably need some coffee to stay awake during the night ;) Then you better #HoldOn - #EverythingsGonnaBeAlright @jetblue 4 our #brandloveaffair https://t.co/64kN6GEEP8 #TrueBlueLove #travel #business @AmericanAir Thank you. @JetBlue haha no need to apologize 😁 I\\'ll be Flight Booking Problems sooner than Late Flightr. I love JetBlue @united Your staff, both on deck and in the cabin on UA768 SFO -&gt; BOS were exceptional today. Please tell them well done :) @united you have the nicest gate attendant at Newark airport gate 101 right now. Multiple delays and she is still pleasant with everyone. @united I was protected on that flight by gate agent Kerry at LAS. She also did an excellent job getting me to my destination today. Thanks! @united is officially my favorite airline. They have created magic for me all day!!! #friendlyskies #careyon @USAirways ok. Thank you @united Thanks, I will! @JetBlue can\\'t wait! I\\'ll be the one who can\\'t contain herself. 😄 @united yes #LHRT2 lounge is fantastic, if only the US ones could be remotely similar! @united Very good flight, thank you! @JetBlue Big thanks to Ricardo Olavarria at Reagan Airport. Fixed our ticket and made sure we made it for our friend\\'s wedding #greatservice @AmericanAir me too. Despite the chaos, I\\'m still grateful for a flight home ✈️ @united we had a wonderful flight attendant named Leah that was with us from lga to den, then den to anchorage! @JetBlue Oh that totally looks on par with @AmericanAir\\'s Admirals Club; any way you can slide us a couple passes? ;) @JetBlue Hi! Just wanted to see if you have any new routes planned this year for Newark. Love flying you guys and hope to do so more! @AmericanAir thanks..... @united our flight attendant @superben was super helpful in finding a bag we left on a flight today. Excellent customer service. Name fits. @united Give Cyndi &amp; Troy each a gold star. @united be  \"Chicago\\'s hometown airline\" care about your neighbors #SaveTheDiagonals #FlyQuiet #ORDNoise @JetBlue I\\'ll see you on board again soon! @AmericanAir thx, just sent the DM Cc @DadBoner  #boldflavors “@united: We’re bringing Bourbon St. to 35,000 ft. with bold flavors, fresh ingredients and more dining options\" @JetBlue heading to Buffalo... trading the cold in Boston for colder in Buffalo... Maybe the Caribbean next time? @USAirways Kudos to Robin at @PHXSkyHarbor Lost/Found for reuniting me w/ my iPad. She was delightful to work with! @united Got me home amid snow &amp; Cancelled Flightlations; delivered bag w/o hassle; plus no wait on phone &amp; an upgrade. Thank you! @united Sivi Stewart at Lax was fantastic tonight helping to find a lost item for us at the airport.  Much thanks! @JetBlue Of course U know I would like 2 lay you down in a #BedofRoses as long as they\\'re #mint colored! https://t.co/3QYEzHjGsb #brandmance @AmericanAir Kudos to the crew of Flt 167 today. Specially to Carlton. Loved your new 767-300. Keep up the good work AA! @united big up the pilot of 644 for turning 1hr on the tarmac to just a 20min delayed arrival @united The only thing you fella have done right today is get me to the pacific time zone. @united That made me so mad, but then I called the bag number, and that person was helpful and told me where the bag really was. (2/2) @united :take note of this great example of @JetBlue actually making good for an extremely inconvenient situation. http://t.co/t3Gnk2N7LD @AmericanAir Thank you. It\\'s much appreciated. We have been on the plane for 90 min now at the gate. @USAirways experience exceptional service from Cherry at #DenverAirport.  #GreatService. #professionalism @JetBlue @AmericanAir ah ha! I misread the end date as being 2014 not 2015. Thanks for clarifying :) @united and they were traveling as guests of a mileage plus member using that members miles. Great customer service. @AmericanAir Let\\'s all have a extraordinary week and make it a year to remember #GoingForGreat 2015 thanks so much American Airlines!!! @JetBlue Thank you very much! @USAirways you can thank supervisor Jeanine and her coworkers for the excellent customer service they provided @united ooh thanks! @AmericanAir great job and great service in and out of SDF this weekend during the winter storm. @united She met me from customer service at the arrival of flight UA3787 PVD-IAD. Thanks, you guys have really handled this storm! @JetBlue I will. Thank you! @AmericanAir welcome anyone who works in those conditions deserves a thank you even though I am other side of #Atlantic lol xx @united amazing flying over 25,000 miles on #UnitedAirlines &amp; alliance last year; still got jilted out of status! #moneyelsewhere This is so smart it makes me angry MT @JetBlue: We’ve partnered with @WSJ to bring you free digital access onboard! http://t.co/0LiwEcAsOe @united thanks for not getting my BusinessFirst priority tagged bag onto my connecting flight at EWR despite a 2+ hour layover. Nice job @united awesome. Thx. And thx for replying so damn fast, sure as hell beats 80s cheeze hold music!! @AmericanAir yes I have. Thanks @united - I think she was having a rough moment w/ a bad passenger from an earlier flight. Things got considerably better. Thanks! @USAirways me too! @AmericanAir i got a new reservation for tomorrow. Thanks! @United Bringing your \"A\" game with premium cabin dining. Nice! https://t.co/zgOQoxjBQY @AmericanAir $90 dollar RT ticket to Chicago? Yes, Please! @JetBlue Thanks for the reminder of a few older flights I\\'d taken and the easy access to add points to my new JB account! Awesome service. @AmericanAir Thanks gang! Mind if I ask, do you handle all of your Social Media in house? @JetBlue messaged you, thanks @united received my bag. I appreciate taking care of the matter and following up! @JetBlue OOH! Good one! Speaking of #MiAmore - Just know that #IAdore https://t.co/fWZClBvuG4 Loving #LoveSongFriday @united Great, thank you! @JetBlue I can\\'t wait to hear back from you regarding the internship opportunity! 😊 @united -today the staff @ MSP took customer service to a new level. My father passed away last night &amp; you helped me get home today! Thanks @united Thanks to supervisor Miriam who provided me with great customer service. #finally @JetBlue Thanks for the $100 credit because of the 4hr delay. I can tell customer service means a lot to YOU #Thankful @AmericanAir My pleasure, next AA flight - this Wednesday to Milan, Italy for @MIDOExhibition -- See you then! :) @AmericanAir THANK YOU FOR ALL THE HELP!  :P You guys are the best.  #americanairlines #americanair @JetBlue thank you for always have the most amazing customer service! Bring on The Disney Princess Half Marathon @united no worries Your customer service gets a bad wrap but just spoke w agent who saved me huge amounts of time &amp; apologized for yesterday @united Flew ORD to Miami and back and  had great crew, service on both legs. THANKS @united thank you. There was one here a few months ago, but none now. Weird you don\\'t have a club in one of the busiest airports in the US. @JetBlue I definitely will. Thanks! @AmericanAir exceptional customer service from AA - my misplaced item was waiting for me at checkin followed by a smooth flight. Thank you! @JetBlue I\\'m #MakingLoveOutofNothingAtAll on my #brandloveaffair to #LAX https://t.co/kdHRUF54sW @united it\\'s amazing really. @USAirways hey guys just want to say I had the best flight ever! Thank you so much. I fell asleep and actually had a wet dream. @united Thanks for explanation. It seems like an odd incentive structure, tho, because it dramatically diminishes the value of the certs. @AmericanAir thanks for keeping us safe @JetBlue sent :-) curious to see what kind of comp we get. @USAirways but don\\'t worry! They found a hotel, it\\'s only 45min away. I got there around 11:30pm, no problem. @united Club in Denver is dope 👌 @united you guys have such big hearts.. keep up the good work @AmericanAir I love very much your planes, can you please follow me back? It\\'s an amazing bussines! @JetBlue i love this song &lt;3 thanks @JetBlue @united You delayed a connection for customer service today now I\\'ll be able to pay my final respects to a dear family member. Thank you :) @AmericanAir SFO. Natt (the agent who helped me) really did an awesome job. @JetBlue currently dancing in the terminal. love Stevie! @AmericanAir thanks! @AmericanAir well Done all of you xx @AmericanAir All of the nicest people in the world work at Admiral\\'s clubs. Gladys in San Juan es mi Amiga @AmericanAir Thanks. Having issues checking in for flight, please check our DM convo for more info. chair #selfie \"@JetBlue: @StacyCrossB6 @PHLAirport @SaharaSams  Everyone looks #FLAWLESS ;) We\\'re so PROUD of our PHL crew! #BlueHeros” @AmericanAir My father loved working for you as well as PanAm @JetBlue @WSJ #JETBLUE treated me right as a #disabledtraveler thanks for a no hassle flight to @jamaica @united cool, thanks. @AmericanAir  CXL flight. rebooked 2 PAX no problems. Thank you and everyone at AA for helping us all out! @JetBlue flight booked! Heading out to California with the @WikiPearl team for  @NatProdExpo on March 6-8! Can\\'t wait! #ExpoWest @united sorry to hear outsourcing plan. Boise is best staff/cust service in the country. #boise @JetBlue totally would have.... but the outside view was even more camera ready haha #EvenMoreSpace #EvenMoreView http://t.co/dXuX6DBfd3 @JetBlue thank you for being jetblue and not jetgreen or jetred. blue is my favorite color! and jet blue makes it better :) @JetBlue thanks for replying-I feel a little better we\\'ll see how it goes ☺️✈️ @JetBlue thank you! I\\'m excited to fly with you for the first time. @SouthwestAir Travel agent Darrel here at Love Field hosting a paper airplane contest to entertain all the children was so awesome to see! @SouthwestAir Great flight yesterday from MSY to AUS!! Thank you for such great safety,service and beautiful skies!! http://t.co/X1EqYAHfvZ @SouthwestAir I\\'ve DM\\'d you. Thanks! @SouthwestAir FINALLY!  A Passbook option for the SWA App. Thank you!!!!! @JetBlue 😭😭😭😭 yall are really better then American Airlines though. What can I say other than when it comes to my #BrandLoveAffair w/ @jetblue ur my #soulandinspiration https://t.co/IGkoGyWksr #umosaicmecrazy @JetBlue Great service from PBI to HPN! Thanks. @JetBlue done, thank you! @SouthwestAir Make the world a better place: Visit an elderly relative. @SouthwestAir @AmericanAir y\\'all are better then @united @SouthwestAir Although the wait was long due to weather r/scheduling, a phone call and super rep solved the issue! Thank you!! @SouthwestAir @AARP #tfw1 Appreciate the tweet back - It was unexpected. @SouthwestAir I will say that your customer service has consistently been the very best!!! @SouthwestAir last week I flew from DAL to LAX. You got us in almost an hour early. Thank You. @JetBlue  FLL to MDE, great flight, great customer service, THANKS! 2 mths waiting  @AmericanAir  to speak to a human at customer service @SouthwestAir \\n\\nJust realized I had the wrong departure date. Thanks for making changes easy! @SouthwestAir was in a line a mile long at sky harbor this morning. Your staff was courteous and expeditious.  Thank you. \\n#onechildfourbags @JetBlue okay thank you! I\\'ll check with them again! @JetBlue they miraculously fixed the plane #kudos to shoe ever it was “@JetBlue: @sylvie75015 Good morning, Sylvie! Have a great flight! #yourock” &gt; Thank you #JetBlue! @mxo42 @henrikwagner73 #JetBlueRocks @jetblue always #mosaicmecrazy #sunrise #bestairline #nofilterneeded &amp; how can you not love #FlyFi… http://t.co/NY6CS7jRuV @SouthwestAir Offers Atlanta Unprecedented Perk http://t.co/nustgpElSf http://t.co/Be0B4K1Xbt @USAirways @AmericanAir I am so going to miss US Airways.  You always provided great service and NEVER LET ME DOWN. @SouthwestAir Thx for the GRAND view today! FLT 3825 SEATAC to PHX. #GrandCanyon #Arizona #Wow #Love #Photography http://t.co/D7pQOUAtdF @SouthwestAir male flight attendant on flight 3913 from Orlando to Indy was AMAZING! He needs a raise 👍 Had the best experience with him @SouthwestAir Kudos for adding #Passbook to your app! I LOVE IT! @JetBlue well, the last update was in the right direction, at least! I\\'ll keep my fingers crossed. @SouthwestAir Thanks for helping out! Class act, all the way... see you in the air! @USAirways thank you for refunding me on my baggage ! really appreciate it @SouthwestAir The pilots&amp; crew on flt 3999 and customer service professionals at baggage claim are OUTSTANDING!! Thank you!! @SouthwestAir DeLacy P is a compassionate professional! Despite the flight challenges she made passengers feel like priorities!!🌟🌟 @SouthwestAir never lets me down!!! @SouthwestAir thanks for getting me home from Denver tonight despite the snow! @SouthwestAir Southwest Airline is THE way to go! @SouthwestAir Thank you for your help Adam and to the awesome gate agents at B12 in LAS for getting us home! @JetBlue thx, social media person! @AmericanAir Such a suprise! New vanity kit set for frequent travellers 😀 thank you AA! http://t.co/fA7Nygn1Ux @AmericanAir lovely flight back from MIA to LHR - great crew - thanks :-)) @SouthwestAir Thx to customer service rep ALEX for his patient help in reFlight Booking Problems a Cancelled Flighted flight and getting us where we have to be tmrw! @SouthwestAir great example of customer service this morning at MSY headed to ATL. Alison and Bobbi were fantastic! Gate B8. Thank you. @USAirways Thks US #1786 2/19 PHL to FLL. Overall 1st class has improved with more food now on PHL to FLL and most crews are super. @JetBlue They just came out. Thanks for the follow-up. That\\'s why you\\'re the best! @JetBlue Thanks! See you soon! @JetBlue thank you thank you!  I finally set up the jetblue app!  Yay! @AmericanAir just curious. Thanks for the response as always, good or bad. Better than your competition. @JetBlue Thanks for taking me back home today despite Pandora\\'s best efforts to Cancelled Flight the flight. #jetblue #backhome #noplacelikehome @SouthwestAir props to your LAS employees working C11 gate. Because of them I am not opposed to flying through or to LAS in the future! 👏👏👏 @AmericanAir Thanks! @SouthwestAir I tweeted several times last week about flight info during storm, always a timely tweet back.  Thx! 😄 @AmericanAir thanks  you always be my airline of choice when possible @SouthwestAir thank you! @JetBlue @Maddie_Flood Your airline sounds outstanding and your Twitter feed is clearly extremely useful. Keep up the great work 😊 @JetBlue is amazing. Had a short delay. They gave me $150 credit! It was literally pretty much my fault I missed the flight. @SouthwestAir Thanks. 436. Only a minor delay so not a big deal. :)Appreciate the concern though. Boarding now. You do have amazing service! @JetBlue thank you 😊 standing in line now! @AmericanAir attended to and corrected my complaints via Twitter. Whoa. This is the brave, new world we live in. Thank you, American Air :) @SouthwestAir Leave BUR ten minutes Late Flight and arrive in SJC a minute before we were supposed to... Impressed! #gettingbetter 👍 @SouthwestAir has a beautiful fleet. What a perfect evening to fly! http://t.co/XMZ3Tf9Ix8 @AmericanAir btw you guys should consider making a lounge at Austin Intl. airport! Very popuLate Flightd area! Will help the company for sure👌 @SouthwestAir Thanks. @AmericanAir I love the Admiral Clubs! Thanks, hey can you follow me? @AmericanAir appreciate it!! @USAirways I appreciate your prompt response. @SouthwestAir ohk. Thank You!!! B/C of the inexpensive airfares that Southwest has I can now travel around. @SouthwestAir you guys are so amazing for sending people to meet Imagine Dragons #DestinationDragons 😋 @JetBlue thanks for getting us to NYC -JFK really safely. :-) But srsly? How long does it take to get our checked bags? #eternity #5amMisery @JetBlue thanks for the response - when is the next flight after the 9:48 flight? @SouthwestAir Way to go flying out of Denver today! Must be the only airline not Cancelled Flighting/delaying flights! #FlySWA #denverairport @SouthwestAir think you have great people working for you. @AmericanAir but your flight crews &amp; ground crews have handled situation well. Texting notification let me catch a few winks during delay. @AmericanAir Thx! I hope so. IAH to DFW to OKC has turned out to be a LONG trip today and I have to work tomorrow. @JetBlue great flight on a brand new jet. Great seating. Beautiful plane. Big fan of this airline. @JetBlue had a great experience working with Glenn Coles at Buffalo-Niagara Airport!! Top notch employee @SouthwestAir stewardess really funny! Now I could get the gent next to me to use some headphones, this would be the perfect flight! @SouthwestAir you guys rule. I will DM you. &lt;3 Thank you. @SouthwestAir Just watched crew on flight 380 help elderly lady off plane...#firstclass @SouthwestAir is hosting an @TheAcademy party in the terminal in Atlanta. #peanutsonaplatter @AmericanAir thank you! My lost item was located at ORD and is being returned to me. @JetBlue thank you! I know the weather in #Boston isn\\'t great. Everyone\\'s tired @SouthwestAir - just got it back about 20 mins ago. Went about 18 hrs w/o it but I appreciate the support. $50 voucher + $50 for essentials. @SouthwestAir My Fav!!!! @SouthwestAir  Mad love http://t.co/4ojrSDWPkK NYC- @SouthwestAir good to be back. See you all again in several weeks. @SouthwestAir I wanted to thank the great efforts of Jamie McKinnie in BUF she is a true pro! during major delays she was owning it! #raise @AmericanAir Thanks, both airlines said that it is located at AA Detroit. Also was informed that it flew with AA, which shouldn\\'t matter. @JetBlue got it. thanks the quick reply. @AmericanAir Thank you. @SouthwestAir  @TheEllenShow @Imaginedragons  @kdepetro313 .what a great first night. #DestinationDragons http://t.co/N3LrFo4UaY @JetBlue thanks. I will use the extra time to do some more shopping! Did somebody say duty free? @JetBlue\\'s flight Flight Booking Problems experience is pretty great! @SouthwestAir DM sent.  Thank you. @SouthwestAir @SouthwestOliver that\\'s a great FA right there. @SouthwestAir Never felt better taken care of! Indian aunties are the gold standard. Thanks Aruna! http://t.co/aypyaDUY6a @SouthwestAir flight 3970, bna-rdu had the most excellent crew today @SouthwestAir Thank u Thank u Thank u for coming through for us! I sincerely didn\\'t think it would happen. &lt;3 #SWA #THANKYOU @JetBlue thanks for making my trip home #MintyFresh next #brandmance flight I\\'ll take more selfies! #LOVE #travel #business “@JetBlue: @2littlebirds Well captured, Brittany! We love the clouds! :)  Enjoy the ride!” Thank you! @JetBlue thanks! Have a good Sunday. @SouthwestAir Incredible view! I had a smooth flight both ways even tho there was turbulence. Your pilots ROCK! http://t.co/3nsUSfSBPv @SouthwestAir is the best. Case and point. https://t.co/ucVnilMb4x @ryand2285 #HappyBirthday @AmericanAir thanks! Flight 2160 today. Great crew! @JetBlue thank you. We are finally at the gate. @AmericanAir is rising like the sun at DCA this morning.  @NATCA members have the best view. #avgeek http://t.co/VAhdekVOKe @SouthwestAir finally through thx @SouthwestAir hello #SouthwestAir I\\'m  happy to be flying with you this morning DAL-MDW #4053 looking forward to a comfortable fight @southwestair your attendants at the ATL airport are awesome! Very helpful with all the Cancelled Flightlations this morning. @AmericanAir ...have you seen Blue? Go look it up :) @AmericanAir thanks for the great customer service. Family made it back to SAT safely. The weather at DFW made things a little worrisome. @JetBlue you guys rock! @JetBlue my email is my twitter handle followed by gmail ☺👍👍 @JetBlue Awesome! #bestairlineever @SouthwestAir loving the boarding to go to Chicago #KeepItMovin\\' @SouthwestAir is my favorite airline!  I can\\'t wait to book my flight to New Orleans for my trip in April!! :) :) @AmericanAir fantastic thanks! Will try and tweet a photo of the view :) @AmericanAir excellent!  Love you guys!  If it is first class I\\'ll hug ya\\'ll!  See you shortly! @SouthwestAir @bgr1061 luv SWA myself and my employees use you always!! @AmericanAir Thanks, have emailed them. How long should I expect for a response? @AmericanAir great job TYR ground crew...now let\\'s get this bird outta here!!!  Tell flight 3200 to wait on me...be there in 45 mikes! @SouthwestAir Thanks 4 the great service, staff, letting me change my flight 5 times for free! PVD to the skies for me always on SWA! @SouthwestAir so glad u guys do business w/ more class than UR competitors @SpiritAirlines 😏 @JetBlue I only fly Jet Blue @JetBlue Start including PTO in your getaway packages and I\\'m all in @SouthwestAir Had a great trip this past week to Vegas for work; and had this pic over the Southwest on Southwest! http://t.co/a3YCFlaLxV @SouthwestAir had an amazing experience with your staff at DIA last night. I was blown away by their hospitality with my wife on crutches @SouthwestAir flt 3867 crew  #OrangeCounty to #Denver is The #BEST! Weather delay but pilots just invited the kids to see the cockpit! #luv @SouthwestAir great flight! And great view! http://t.co/auFM4xdaj2 @SouthwestAir Weather keeps slowing us down. Not your fault. This is the 1st time a Southwest flight of mine was Late Flight so I can\\'t complain :) @SouthwestAir DM sent. Thanks for the help! @JetBlue Landing! As usual great flight wiyh a great crew. Hello sunny West Palm Beach ! #jetbluerocks @SouthwestAir I made it! Heading to Denver, and your employees really are as pleasant as I just told someone your application asks.  Thanks! @JetBlue I knew there was a reason u were my favorite airline. Just read you answer on twitter in globe this morning. Great job @USAirways we will...sunday! Just a few days away @SouthwestAir i hope i can be apart of the team with this job opening! @SouthwestAir replacing @vitaminwater with beer! Bravo!👏👏 Cheers! 🍻🍻 @Leinenkugels @DosEquis @FatTire @JetBlue it\\'s only because I\\'m wearing #TrueBlueColors! @SouthwestAir Great #BlackHistoryMonth commercial! Thx! #ATL #singer #musician #life #BlackLivesMatter @SouthwestAir three cheers to your Denver staff. Don\\'t know if we \\nwill get out but they\\'re keeping us smiling. http://t.co/RX8z53M7yy @SouthwestAir Gate attendant at McCarran C16 (Vegas to Dallas) went above and beyond. After a long day of frustration it was welcome. @SouthwestAir Yes! Just a few minutes after my tweet. She was able to reschedule her flight. Thanks! @SouthwestAir Thanks for sending my kid to the #DestinationDragons concert Vegas @Imaginedragons So awesome! http://t.co/G9b6e0a2sZ @SouthwestAir I\\'ll do that. Can\\'t DM until you follow me. Thanks! @JetBlue yup we know, not your fault, just not ideal sittin for over an hour but as always your staff is great! @SouthwestAir @TMadCLE Flying with you in April, first time on southwest. Can\\'t wait!!! Flew American airlines last time. Was meh. @SouthwestAir I love you Southwest. I accept all your flight attendants and their many talents always! #flySWA @SouthwestAir just sent another 4 drink coupons....I think I have over 30 coupons now. free drinks anyone? @SouthwestAir Thanks for making good on @PoteetTJ \\'s Cancelled Flightled flight. @JetBlue Thanks for the personalized customer service! #cannedtweet #autoresponse @JetBlue if I had my tux, it\\'d be a date! #UMosaicMeCrazy http://t.co/hap4gboSTU @SouthwestAir I just wanna say you\\'re incredible for sending people to see their idols. Sooooo kind and amazing💖 #DestinationDragons @SouthwestAir THANK YOU. I left my iPad on a plane, filled out a lost and found form. Yall found it and shipped it back. Thank you #flySW @JetBlue they were amazing and thank you! @SouthwestAir thanks so much just had to make a Cancelled Flightlation! I\\'ve sent u the info. “@JetBlue: @2littlebirds Beautiful shot.. Thanks for sharing. Using #FlyFi to post? ;)” Your welcome! Not on this flight. It was a quickie;) @JetBlue she helped me with my problem so easily and was so nice, you guys rock! @SouthwestAir That\\'s an awesome library. @JetBlue your customer service agent Bonnie is amazing on the phone she deserves a promotion!!! @USAirways Exicted to be flying with y\\'all soon !! @SouthwestAir Left my computer on the plane. Two weeks Late Flightr they found it and sent it to me. #greatservice.  #happy #customer @JetBlue flight to Orlando is unable to serve hot bevies.... So they\\'ve made movies and alcohol complimentary. That works @AmericanAir @USAirways Statement wasn\\'t sent yesterday like Jeanine said. After I even called last night as well. Again, excellent service @SouthwestAir y\\'all are fast we already have our 5 winners! Congrats!! @JetBlue thanks for the info. Already doing it now before we board! Looking forward to the future upgrades! #JetBlue http://t.co/5Db9eSBNzG @USAirways I will. Thank you for at least tweeting me back:) better than most. 👌 @JetBlue things happen it\\'s ok just wish I was on the beach and not in the airport “@USAirways: @jdbwaffles We\\'re excited to have you fly with us, JB! When will this be?” Spring Break !!! @JetBlue I love #JetBlue ! #FlyFi when will we be able to charge our devices on domestic #A320 flights?! Thanks! http://t.co/obqIro1bUJ @SouthwestAir Sent your way, thanks for the help. @JetBlue Touchdown JFK! Well done pilots of JetBlue Flight 226! #JetBlueRocks @JetBlue BOS. Everything current now. Thanks for the follow up @SouthwestAir seeing your workers time in and time out going above and beyond is why I love flying with you guys. Thank you! @SouthwestAir thanks connection thru Nashville have A1 boarding pass get to Dallas gate boarding 40 min before flt get end of B group @AmericanAir @BoeingAirplanes I really would love to experience first class on that plane,looks stunning! Still thinking, those PJs may have me sold @AmericanAir @momsgoodeats We\\'d #love to have you on board with us! @MandarinJourney here I come @SouthwestAir  thanks for adding passbook ability! Hopefully we can do group passbook tickets in the future somehow. @JetBlue good to hear. Thx for being responsive. @SouthwestAir Awesome. Thanks! You guys rock! @USAirways awesome! And yes, @UpInAirClaire is! @SouthwestAir nice touch on the passbook integration! @SouthwestAir Thanks. I did go through these motions shortly after my flight yesterday. I wonder how quickly flight attendants are notified. @AmericanAir @contactcej thanks! @SouthwestAir Thanks for the quick reply!  I travel a lot...but not that much, lol. Cool thx! Only a couple more #PGAShow flights til I\\'m #Mosaic...can\\'t wait. Will be easier to change flights when weathers bad\\n@JetBlue @SouthwestAir Got help from a nice lady on the phone in Georgia.  Thank you! @SouthwestAir another great trip! LAX 823 - LAS 3075-  BNA. Thanks so much!!! @SouthwestAir A+ to the Safety Dos and Don\\'ts Announcer. Flight 651 from Midway (MDW) to Pittsburgh (PIT)! @SouthwestAir love the passbook update. Used it the day after it was released. Finally!! Thank you! @AmericanAir the folks at the Executive Platinum desk are great pros.  They understand my displeasure with change fees and switch to SW. @AmericanAir He thanks you. Anything you can do to help. Would any further information help in the process? @JetBlue thanks so much for help Us, u r amazing! @SouthwestAir they arrived Late Flight but pilots got us to DIA on time. #impressive #outstanding #greatservice #allgood @USAirways Thanks. No DC yet, I see. I will keep that link and check back. Appreciate it! “@AmericanAir: @TheCandaceSmith Thanks for the shout-out, Candace! Enjoy the ride.” Always! I adore American Airlines! @JetBlue Great thank you! @JetBlue Exciting times ahead! 😁🎉 @USAirways thank you! @SouthwestAir Thanks! Confirmation number just DMed. Appreciate any help! @AmericanAir  TPA - ORD!!! AA1679 Another successful journey, thanks for the hospitality! @AmericanAir Thank you for the response. Much appreciated! @JetBlue Counting on your flight 989 to get to DC! @AmericanAir thanks.  I actually made it, my connection flight was delayed.  Guess all delays are not a bad thing. http://t.co/XGgCNTco8m @USAirways \\nGood news, we got fixed. @USAirways Best GAgent in a long time - Danny B. for US628 DFW-CLT. Appreciated how up to date he kept us during irrops. Super professional! @USAirways Melinda in reservations in greensboro nc is an absolute jewel thank her for me she\\'s amazing!!! @SouthwestAir @coachGS what\\'s even better is the price changed in the 2 minutes since I talked to the lady and they still honored the cheap1 @SouthwestAir @matthewebel And this is why I love flying Southwest. Excellent service, and you don\\'t take yourselves too seriously! @JetBlue great flight http://t.co/E0R0NTO4TR @JetBlue you can\\'t beat jetblue in space\\'s matter http://t.co/NRpWmGyv3e @SouthwestAir open seating is like an open marriage, there\\'s so much love for strangers! @SouthwestAir thank you for great customer service. Trying to make it to San Antonio and your staff and alerts have been helpful. Boo ice! @SouthwestAir Glad to know I\\'ll be flying the luv airline tomorrow ;) @SouthwestAir I would appreciate that.  Thank you. @SouthwestAir I\\'ll stick with flying for free any where that Southwest goes; my son works for this wonderful company and Moms fly free. @SouthwestAir Thanks, you guys are the best @SouthwestAir  Your Terry is our hero.  Got my husband back thru security to retrieve his cellphone in Austin. Terry (#85832) You Rock! @SouthwestAir Love Southwest. You guys have been good to me! http://t.co/X4tDY84dBH @SouthwestAir Can a pair of tickets waiting for me after my sports practice? I live here and definitely know where that is! @Imaginedragons @JetBlue @amybruni @DIRECTTV but of course! :-) #bestdressed #bluecarpet @AmericanAir everything for sorted out. Thanks for the help. Excited to get home tonight! @SouthwestAir looks like Bellagio to me! Good luck people! See you at the show at Vinyl @USAirways awesome! Flight #676 out of philly on Tuesday. Party in row 15 if you\\'re interested. @SouthwestAir 3 hours and 80 degree difference. Yes please!!  MHT TO MCO @sadie4406 http://t.co/MRAW3qDw4D @SouthwestAir What can we do to bring you back to Jackson, MS?! We miss you terribly around here. These other airlines are horrible!! @AmericanAir keep up the good work.  Got me to my destination safe and on time today @SouthwestAir thank you! @jetblue offered me a complimentary drink for switching seats. Stewardess asked for my age &amp; I said 30. We giggled. #goodgenes #ilookyoung @SouthwestAir telling my Fam in Vegas now. :) @JetBlue Thanks. Still booked our trip 3/13-17 LB to SLC to see grand kids.  Just very frustrating. Tried app, web, etc. Still love u guys! Never got to the strip that fast before. Stoked for special @Imaginedragons show tonight! Thx again @SouthwestAir! http://t.co/ToPqmVqnJp @SouthwestAir it\\'s not fun having a delay from Nashville to Las Vegas, but the crew at the gate C9 desk has been AWESOME! #patience #luvswa @SouthwestAir Big kudos to your staff today at Dallas Love Field for lifting everyone\\'s spirits today with all the delays and Cancelled Flightlations @AmericanAir Lady at B1 ABQ for 5347 on 2/23 was of a great service to all among several Cancelled Flightlations @USAirways i got through and am able to switch my flight with no charge. Thank you @AmericanAir thanks, me too @USAirways Welcome to North Texas US Air / American Air employees. \\nHousing and Education are great opportunities in The GR8 State Of Texas @SouthwestAir Your crew on 3138 is doing a great job of keeping everyone informed during the delays #givethemraises @SouthwestAir Your Terry is our hero! Got my husband back thru security to retrieve cellphone left on plane in Austin. Terry #85832 U Rock! @SouthwestAir  Your Terry is our hero! Got my husband back thru security to retrieve cellphone left on plane in Austin. Terry #85832 U Rock! @AmericanAir congrats on your call center customer service! A guy named Fidencio answered and he went above &amp; beyond to help me! 👌👌👌 @SouthwestAir just got a call apologizing personally for the long waits last week trying to rebook flights. Class act. I appreciate that! @SouthwestAir Awesome staff at the  check in desk! They had a paper airplane race for a SW gift card to keep ppl entertained during delays @JetBlue #kudos! And we\\'re done and heading to warmer weather! @SouthwestAir Just go ahead and start the scavenger hunt after 5 pm today when work is over ;) #DestinationDragons @SouthwestAir Thanks for getting us to paradise safely! http://t.co/KDzQcZlpyR @JetBlue Thanks for the instant reply, and for still doing first bag free (so important)! @AmericanAir @maryella_green despite the inconvenience, the situation was handled quickly and we appreciate it very much! @JetBlue Awesome! Thank you! ;) @AmericanAir @maryella_green just received it, actually. Thank you!!!!!!!!! @southwestair #netneutrality Nice to see you prioritize Internet traffic to your own streaming service over other web sites! @SouthwestAir best airline 👌 @AmericanAir thanks 😩. idk if it still Late Flight but I hope I get it tonight 😭 @JetBlue thanks for update http://t.co/K7uBOTMr1r @SouthwestAir LUV! your new Luv Television Commercials. Traveled on your airline last year return trip from NYC...#feltthelove @SouthwestAir really easy for locals to get down to the strip. book. @AmericanAir Absolutely! @SouthwestAir  Just sent DM. Thanks for your attentiveness to this matter. @JetBlue ok!!! That\\'s super helpful. Thank you. I\\'ll reach out if I have any other questions. @JetBlue thanks for your prompt response. I know you put safety first. Unfortunately will hit freezing rain/sleet on ride home. @SouthwestAir yes please! @JetBlue nothing but praise for you helping our lady make her flight to CHS tonight!  #impressed @AmericanAir Thank you @JetBlue thanks so much. Can\\'t wait to fly with you guys :) @SouthwestAir YES please....How do we get that companion pass? @JetBlue OK, thank you. @AmericanAir No apology necessary. It was wind and I was on Delta. XOXO @SouthwestAir.   50th Anniversary on April 10th. Still. Sweethearts.  Companions.  Lifetime.  Sons.  Families. Love. @AmericanAir thank you @SouthwestAir lol I already am ! I am a card member as well too lol i enjoy flying with you Guys @SouthwestAir constantly providing wonderful views and service! #SouthwestLuv http://t.co/9UNxqOTzIK @JetBlue thanks for a speedy flight time recovery. @JetBlue thank you for taking care of me with a drink since my in-flight entertainment wasn\\'t working #goodcustomerservice @AmericanAir Joanne from your San Diego staff was phenomenal! Give that girl a raise. She handled our #flightnightmare better than anyone. @SouthwestAir Have had a companion pass for a few years and my wife and I use it all the time.  Thanks #southwest for making travel easy! @SouthwestAir I changed my flight through St. Louis. Thanks for the reply though! @AmericanAir thanks to AA / DART for getting me home in time for work this morning DEN-DFW... didn\\'t have to waste a vaca day @dartmedia @SouthwestAir I miss mine terribly. A +1 for my 30th anniversary would be amazing. It would mean LUV is in the air. #dontmakemebeg @SouthwestAir I (heart) my CP status. Sure would be nice to have though. @americanair Not surprised that you were the Fastest Responding US Brand on Twitter for Q2 + Q3 2014. Also 10th fastest in the world in Q3 @SouthwestAir #RedCarpet Southwest Companion Pass would be great! @AmericanAir I love the service and cheap upgrades American Provides! One of the best airlines ever! good food, good seats, amazing thanks! @AmericanAir @gerri_elliott You will!! Every chance I get! Thanks for keeping me Exec Platinum. @SouthwestAir just got mine..now where to go?? @SouthwestAir sign me up! @SouthwestAir Yes, please. @USAirways big thanks to Yvonne Anthony from the Chairman\\'s desk.  Top tier customer service today.  #outstanding #service &amp; #support. @SouthwestAir I continue to be amazed by the amazing customer service.  Thank you SWA! @USAirways thanks for helping with #reFlight Booking Problems #Cancelled Flightedflight Yvonne Anthony.  You will help us get to Tel Aviv on time.  #HappyFriday @SouthwestAir yes please @AmericanAir I FOUND MY FOOTAGE!! :D I am so so happy. @SouthwestAir got mine!  Just in time for the wife and my 15th anniversary! @SouthwestAir That would be brighter than all the stars combined on the red carpet tonight! @JetBlue @L_Burley11 -- the best!!! @JetBlue thanks for bringing my son home to me. @SouthwestAir sign me up! “@SouthwestAir: Companion Pass. Because everyone deserves #RedCarpet treatment and a +1 (even if it\\'s your mom). http://t.co/QjKL4aBprG” @SouthwestAir I want one! @JetBlue you got yourselves hot ladies flying the air for life #loyal @SouthwestAir I love my Companion Pass (qualified 4th year).  #HollyMais @JetBlue thank you @SouthwestAir Thank you SWA and Shannon G. @LASairport (C22) for being a miracle worker! #awesome @JetBlue would you say a delay is more likely? Thanks so much. .@SouthwestAir Thx for the follow up. Just sent DM @JetBlue just touched down in #NewOrleans for the annual @HeinekenUSACorp national distributor conference! #livethelegend Keep it up :) @AmericanAir @JetBlue on the plane now!  Hopefully no longer at the mercy of the playlist!  Thanks! @SouthwestAir you\\'re my early frontrunner for best airline! #oscars2016 @SouthwestAir loved it! @SouthwestAir show me some love and a companion flight~please and thank you! @SouthwestAir yes I was everything worked out great @SouthwestAir you know what\\'d be beyond awesome? A pair of tickets to the @Imaginedragons show in ATL. A girl can dream #DestinationDragons @USAirways Reservation agent on the phone did a great job. @AmericanAir I\\'ve just received the ticket. Thank you for your help @SouthwestAir thank you for the confirmation. Maybe people on my flight have directional dislexia. @SouthwestAir have sent you a DM with the details. Thanks! @SouthwestAir   Thanks @AmericanAir thanks @SouthwestAir Me on one of your planes!!! Thanks for taking me Arizona 184! http://t.co/Finq5Fh6ue @USAirways Thank you @SouthwestAir TY for your consideration! @SouthwestAir crew of WN3946 SAN-SFO was brilliant! Rita was hilarious. I know I\\'ve been down on you before, but this was a great flight @SouthwestAir thanks! Very excited to see it :D @JetBlue is the best!  Can\\'t wait to use my travel bank $ for a FUN trip. @JetBlue I did not! She\\'s a woman who\\'s a lead, she was working at gate c26. @AmericanAir Glad to hear that there were no serious injuries in the minor crash @dfwairport this evening. @JetBlue If you \"follow\" me, I will be able to DM you.  Thanks. @SouthwestAir it\\'s ok! Southwest is still the best airline around! Just hate when baggage room runs out.. My now checked bag has headphones! @AmericanAir no space in my seat but thanks to your pilots I\\'m back 25mn early to Ohare!! Didn\\'t think that was possible!! #sna2ord #1644 @SouthwestAir we\\'re pulling off the runway now! Making new friends with seat mates. Thanks for the response CB. @JetBlue I want to give a warm thanks to your crew at Logan airport for still getting me to the DC area after Cancelled Flightlations this morning! @JetBlue Another awesome telephone experience with @JetBlue Thank you, Cory! #Greatcustomerservice✈☺ @SouthwestAir beautiful view flying into San Jose, CA this evening http://t.co/SxVaGbRTlI @AmericanAir Just followed you. @SouthwestAir thank you!! @JetBlue thank you! @SouthwestAir luv my companion pass! @JetBlue he just went above and beyond to be helpful @SouthwestAir All good... beers and #oscars2015 ar #DIA @SouthwestAir kudos to the crew of flight 1050 to GRR for making a very special memory for a sweet young passenger, and her Momma. Well done @JetBlue your employee Charles cave at the gate at MSY went above and beyond to help try to help me find my glasses. Thought u should know @SouthwestAir Thanks for helping my mom after @allegiantair wouldn\\'t let her get on her plane in Orlando! You\\'re the best! #customerservice @USAirways made it!!! Send Bloody Mary\\'s to row 27!!! @united thanks for all the help! Totally appreciate it and you made it super easy too'"
   ]
  },
  {
   "cell_type": "code",
   "execution_count": 18,
   "id": "critical-moment",
   "metadata": {
    "ExecuteTime": {
     "end_time": "2021-09-22T19:57:00.793791Z",
     "start_time": "2021-09-22T19:57:00.246415Z"
    }
   },
   "outputs": [
    {
     "data": {
      "image/png": "[encoded data removed]",
      "text/plain": [
       "<Figure size 432x288 with 1 Axes>"
      ]
     },
     "metadata": {
      "needs_background": "light"
     },
     "output_type": "display_data"
    }
   ],
   "source": [
    "my_cloud = WordCloud(background_color='white').generate(text_tweet)\n",
    "\n",
    "plt.imshow(my_cloud, interpolation='bilinear') \n",
    "plt.axis(\"off\")\n",
    "plt.show()"
   ]
  },
  {
   "cell_type": "markdown",
   "id": "annual-sponsorship",
   "metadata": {},
   "source": [
    "### Word cloud of tweets"
   ]
  },
  {
   "cell_type": "code",
   "execution_count": 22,
   "id": "proud-texas",
   "metadata": {
    "ExecuteTime": {
     "end_time": "2021-09-22T20:00:20.011351Z",
     "start_time": "2021-09-22T20:00:19.579100Z"
    }
   },
   "outputs": [],
   "source": [
    "# Define and update the list of stopwords\n",
    "my_stop_words = set(STOPWORDS)\n",
    "my_stop_words = my_stop_words.update(['airline', 'airplane'])\n",
    "my_cloud = WordCloud(stopwords=my_stop_words).generate(text_tweet)"
   ]
  },
  {
   "cell_type": "code",
   "execution_count": 21,
   "id": "stuffed-arkansas",
   "metadata": {
    "ExecuteTime": {
     "end_time": "2021-09-22T20:00:16.604638Z",
     "start_time": "2021-09-22T20:00:16.433773Z"
    }
   },
   "outputs": [
    {
     "data": {
      "image/png": "[encoded data removed]",
      "text/plain": [
       "<Figure size 432x288 with 1 Axes>"
      ]
     },
     "metadata": {
      "needs_background": "light"
     },
     "output_type": "display_data"
    }
   ],
   "source": [
    "plt.imshow(my_cloud, interpolation='bilinear') \n",
    "plt.axis(\"off\")\n",
    "plt.show()"
   ]
  },
  {
   "cell_type": "markdown",
   "id": "furnished-hunger",
   "metadata": {},
   "source": [
    "### Airline sentiment with stop words"
   ]
  },
  {
   "cell_type": "code",
   "execution_count": 13,
   "id": "significant-rebecca",
   "metadata": {
    "ExecuteTime": {
     "end_time": "2021-09-24T16:09:03.263013Z",
     "start_time": "2021-09-24T16:09:03.180203Z"
    }
   },
   "outputs": [],
   "source": [
    "tweets = pd.read_csv(\"dataset/Tweets.csv\")"
   ]
  },
  {
   "cell_type": "code",
   "execution_count": 14,
   "id": "legal-worship",
   "metadata": {
    "ExecuteTime": {
     "end_time": "2021-09-24T16:09:04.114535Z",
     "start_time": "2021-09-24T16:09:04.070627Z"
    }
   },
   "outputs": [
    {
     "data": {
      "text/html": [
       "<div>\n",
       "<style scoped>\n",
       "    .dataframe tbody tr th:only-of-type {\n",
       "        vertical-align: middle;\n",
       "    }\n",
       "\n",
       "    .dataframe tbody tr th {\n",
       "        vertical-align: top;\n",
       "    }\n",
       "\n",
       "    .dataframe thead th {\n",
       "        text-align: right;\n",
       "    }\n",
       "</style>\n",
       "<table border=\"1\" class=\"dataframe\">\n",
       "  <thead>\n",
       "    <tr style=\"text-align: right;\">\n",
       "      <th></th>\n",
       "      <th>tweet_id</th>\n",
       "      <th>airline_sentiment</th>\n",
       "      <th>airline_sentiment_confidence</th>\n",
       "      <th>negativereason</th>\n",
       "      <th>negativereason_confidence</th>\n",
       "      <th>airline</th>\n",
       "      <th>airline_sentiment_gold</th>\n",
       "      <th>name</th>\n",
       "      <th>negativereason_gold</th>\n",
       "      <th>retweet_count</th>\n",
       "      <th>text</th>\n",
       "      <th>tweet_coord</th>\n",
       "      <th>tweet_created</th>\n",
       "      <th>tweet_location</th>\n",
       "      <th>user_timezone</th>\n",
       "    </tr>\n",
       "  </thead>\n",
       "  <tbody>\n",
       "    <tr>\n",
       "      <th>0</th>\n",
       "      <td>570306133677760513</td>\n",
       "      <td>neutral</td>\n",
       "      <td>1.0000</td>\n",
       "      <td>NaN</td>\n",
       "      <td>NaN</td>\n",
       "      <td>Virgin America</td>\n",
       "      <td>NaN</td>\n",
       "      <td>cairdin</td>\n",
       "      <td>NaN</td>\n",
       "      <td>0</td>\n",
       "      <td>@VirginAmerica What @dhepburn said.</td>\n",
       "      <td>NaN</td>\n",
       "      <td>2015-02-24 11:35:52 -0800</td>\n",
       "      <td>NaN</td>\n",
       "      <td>Eastern Time (US &amp; Canada)</td>\n",
       "    </tr>\n",
       "    <tr>\n",
       "      <th>1</th>\n",
       "      <td>570301130888122368</td>\n",
       "      <td>positive</td>\n",
       "      <td>0.3486</td>\n",
       "      <td>NaN</td>\n",
       "      <td>0.0000</td>\n",
       "      <td>Virgin America</td>\n",
       "      <td>NaN</td>\n",
       "      <td>jnardino</td>\n",
       "      <td>NaN</td>\n",
       "      <td>0</td>\n",
       "      <td>@VirginAmerica plus you've added commercials t...</td>\n",
       "      <td>NaN</td>\n",
       "      <td>2015-02-24 11:15:59 -0800</td>\n",
       "      <td>NaN</td>\n",
       "      <td>Pacific Time (US &amp; Canada)</td>\n",
       "    </tr>\n",
       "    <tr>\n",
       "      <th>2</th>\n",
       "      <td>570301083672813571</td>\n",
       "      <td>neutral</td>\n",
       "      <td>0.6837</td>\n",
       "      <td>NaN</td>\n",
       "      <td>NaN</td>\n",
       "      <td>Virgin America</td>\n",
       "      <td>NaN</td>\n",
       "      <td>yvonnalynn</td>\n",
       "      <td>NaN</td>\n",
       "      <td>0</td>\n",
       "      <td>@VirginAmerica I didn't today... Must mean I n...</td>\n",
       "      <td>NaN</td>\n",
       "      <td>2015-02-24 11:15:48 -0800</td>\n",
       "      <td>Lets Play</td>\n",
       "      <td>Central Time (US &amp; Canada)</td>\n",
       "    </tr>\n",
       "    <tr>\n",
       "      <th>3</th>\n",
       "      <td>570301031407624196</td>\n",
       "      <td>negative</td>\n",
       "      <td>1.0000</td>\n",
       "      <td>Bad Flight</td>\n",
       "      <td>0.7033</td>\n",
       "      <td>Virgin America</td>\n",
       "      <td>NaN</td>\n",
       "      <td>jnardino</td>\n",
       "      <td>NaN</td>\n",
       "      <td>0</td>\n",
       "      <td>@VirginAmerica it's really aggressive to blast...</td>\n",
       "      <td>NaN</td>\n",
       "      <td>2015-02-24 11:15:36 -0800</td>\n",
       "      <td>NaN</td>\n",
       "      <td>Pacific Time (US &amp; Canada)</td>\n",
       "    </tr>\n",
       "    <tr>\n",
       "      <th>4</th>\n",
       "      <td>570300817074462722</td>\n",
       "      <td>negative</td>\n",
       "      <td>1.0000</td>\n",
       "      <td>Can't Tell</td>\n",
       "      <td>1.0000</td>\n",
       "      <td>Virgin America</td>\n",
       "      <td>NaN</td>\n",
       "      <td>jnardino</td>\n",
       "      <td>NaN</td>\n",
       "      <td>0</td>\n",
       "      <td>@VirginAmerica and it's a really big bad thing...</td>\n",
       "      <td>NaN</td>\n",
       "      <td>2015-02-24 11:14:45 -0800</td>\n",
       "      <td>NaN</td>\n",
       "      <td>Pacific Time (US &amp; Canada)</td>\n",
       "    </tr>\n",
       "  </tbody>\n",
       "</table>\n",
       "</div>"
      ],
      "text/plain": [
       "             tweet_id airline_sentiment  airline_sentiment_confidence  \\\n",
       "0  570306133677760513           neutral                        1.0000   \n",
       "1  570301130888122368          positive                        0.3486   \n",
       "2  570301083672813571           neutral                        0.6837   \n",
       "3  570301031407624196          negative                        1.0000   \n",
       "4  570300817074462722          negative                        1.0000   \n",
       "\n",
       "  negativereason  negativereason_confidence         airline  \\\n",
       "0            NaN                        NaN  Virgin America   \n",
       "1            NaN                     0.0000  Virgin America   \n",
       "2            NaN                        NaN  Virgin America   \n",
       "3     Bad Flight                     0.7033  Virgin America   \n",
       "4     Can't Tell                     1.0000  Virgin America   \n",
       "\n",
       "  airline_sentiment_gold        name negativereason_gold  retweet_count  \\\n",
       "0                    NaN     cairdin                 NaN              0   \n",
       "1                    NaN    jnardino                 NaN              0   \n",
       "2                    NaN  yvonnalynn                 NaN              0   \n",
       "3                    NaN    jnardino                 NaN              0   \n",
       "4                    NaN    jnardino                 NaN              0   \n",
       "\n",
       "                                                text tweet_coord  \\\n",
       "0                @VirginAmerica What @dhepburn said.         NaN   \n",
       "1  @VirginAmerica plus you've added commercials t...         NaN   \n",
       "2  @VirginAmerica I didn't today... Must mean I n...         NaN   \n",
       "3  @VirginAmerica it's really aggressive to blast...         NaN   \n",
       "4  @VirginAmerica and it's a really big bad thing...         NaN   \n",
       "\n",
       "               tweet_created tweet_location               user_timezone  \n",
       "0  2015-02-24 11:35:52 -0800            NaN  Eastern Time (US & Canada)  \n",
       "1  2015-02-24 11:15:59 -0800            NaN  Pacific Time (US & Canada)  \n",
       "2  2015-02-24 11:15:48 -0800      Lets Play  Central Time (US & Canada)  \n",
       "3  2015-02-24 11:15:36 -0800            NaN  Pacific Time (US & Canada)  \n",
       "4  2015-02-24 11:14:45 -0800            NaN  Pacific Time (US & Canada)  "
      ]
     },
     "execution_count": 14,
     "metadata": {},
     "output_type": "execute_result"
    }
   ],
   "source": [
    "tweets.head()"
   ]
  },
  {
   "cell_type": "code",
   "execution_count": 34,
   "id": "surface-player",
   "metadata": {
    "ExecuteTime": {
     "end_time": "2021-09-22T20:05:50.591144Z",
     "start_time": "2021-09-22T20:05:50.354571Z"
    }
   },
   "outputs": [
    {
     "data": {
      "text/plain": [
       "CountVectorizer(stop_words=frozenset({'@', 'a', 'about', 'above', 'across',\n",
       "                                      'after', 'afterwards', 'again', 'against',\n",
       "                                      'airline', 'airlines', 'all', 'almost',\n",
       "                                      'alone', 'along', 'already', 'also',\n",
       "                                      'although', 'always', 'am', 'among',\n",
       "                                      'amongst', 'amoungst', 'amount', 'an',\n",
       "                                      'and', 'another', 'any', 'anyhow',\n",
       "                                      'anyone', ...}))"
      ]
     },
     "execution_count": 34,
     "metadata": {},
     "output_type": "execute_result"
    }
   ],
   "source": [
    "my_stop_words = ENGLISH_STOP_WORDS.union(['airline', 'airlines', '@'])\n",
    "\n",
    "# Build and fit the vectorizer\n",
    "vect = CountVectorizer(stop_words=my_stop_words)\n",
    "vect.fit(tweets.text)"
   ]
  },
  {
   "cell_type": "code",
   "execution_count": 35,
   "id": "intended-fight",
   "metadata": {
    "ExecuteTime": {
     "end_time": "2021-09-22T20:05:55.990130Z",
     "start_time": "2021-09-22T20:05:55.644512Z"
    }
   },
   "outputs": [
    {
     "name": "stdout",
     "output_type": "stream",
     "text": [
      "   00  000  000114  000419  000ft  000lbs  0011  0016  00a  00am  ...  \\\n",
      "0   0    0       0       0      0       0     0     0    0     0  ...   \n",
      "1   0    0       0       0      0       0     0     0    0     0  ...   \n",
      "2   0    0       0       0      0       0     0     0    0     0  ...   \n",
      "3   0    0       0       0      0       0     0     0    0     0  ...   \n",
      "4   0    0       0       0      0       0     0     0    0     0  ...   \n",
      "\n",
      "   zrh_airport  zsdgzydnde  zsuztnaijq  ztrdwv0n4l  zukes  zurich  zv2pt6trk9  \\\n",
      "0            0           0           0           0      0       0           0   \n",
      "1            0           0           0           0      0       0           0   \n",
      "2            0           0           0           0      0       0           0   \n",
      "3            0           0           0           0      0       0           0   \n",
      "4            0           0           0           0      0       0           0   \n",
      "\n",
      "   zv6cfpohl5  zvfmxnuelj  zzps5ywve2  \n",
      "0           0           0           0  \n",
      "1           0           0           0  \n",
      "2           0           0           0  \n",
      "3           0           0           0  \n",
      "4           0           0           0  \n",
      "\n",
      "[5 rows x 14768 columns]\n"
     ]
    }
   ],
   "source": [
    "# Create the bow representation\n",
    "X_review = vect.transform(tweets.text)\n",
    "X_df = pd.DataFrame(X_review.toarray(), columns=vect.get_feature_names())\n",
    "print(X_df.head())"
   ]
  },
  {
   "cell_type": "markdown",
   "id": "adapted-exhibition",
   "metadata": {},
   "source": [
    "### Multiple text columns"
   ]
  },
  {
   "cell_type": "code",
   "execution_count": 36,
   "id": "respected-burner",
   "metadata": {
    "ExecuteTime": {
     "end_time": "2021-09-22T20:07:09.035940Z",
     "start_time": "2021-09-22T20:07:09.024965Z"
    }
   },
   "outputs": [],
   "source": [
    "from wordcloud import WordCloud, STOPWORDS\n",
    "from sklearn.feature_extraction.text import CountVectorizer, ENGLISH_STOP_WORDS"
   ]
  },
  {
   "cell_type": "code",
   "execution_count": 39,
   "id": "similar-solid",
   "metadata": {
    "ExecuteTime": {
     "end_time": "2021-09-22T20:09:21.169880Z",
     "start_time": "2021-09-22T20:09:20.887491Z"
    }
   },
   "outputs": [
    {
     "data": {
      "text/plain": [
       "CountVectorizer(stop_words={'a', 'about', 'above', 'across', 'after',\n",
       "                            'afterwards', 'again', 'against', 'all', 'almost',\n",
       "                            'alone', 'along', 'already', 'also', 'although',\n",
       "                            'always', 'am', 'among', 'amongst', 'amoungst',\n",
       "                            'amount', 'an', 'and', 'another', 'any', 'anyhow',\n",
       "                            'anyone', 'anything', 'anyway', 'anywhere', ...})"
      ]
     },
     "execution_count": 39,
     "metadata": {},
     "output_type": "execute_result"
    }
   ],
   "source": [
    "my_stop_words = ENGLISH_STOP_WORDS.union(['airline', 'airlines', '@', 'am', 'pm'])\n",
    " \n",
    "# Build and fit the vectorizers\n",
    "vect1 = CountVectorizer(stop_words=my_stop_words)\n",
    "vect2 = CountVectorizer(stop_words=set(ENGLISH_STOP_WORDS)) \n",
    "vect1.fit(tweets.text)\n",
    "vect2.fit(tweets.negativereason.dropna())"
   ]
  },
  {
   "cell_type": "code",
   "execution_count": 40,
   "id": "romance-rings",
   "metadata": {
    "ExecuteTime": {
     "end_time": "2021-09-22T20:09:23.550285Z",
     "start_time": "2021-09-22T20:09:23.536323Z"
    }
   },
   "outputs": [
    {
     "name": "stdout",
     "output_type": "stream",
     "text": [
      "['zoom', 'zouowgv3q6', 'zpz78poeon', 'zqutus7epw', 'zrh', 'zrh_airport', 'zsdgzydnde', 'zsuztnaijq', 'ztrdwv0n4l', 'zukes', 'zurich', 'zv2pt6trk9', 'zv6cfpohl5', 'zvfmxnuelj', 'zzps5ywve2']\n",
      "['attendant', 'bad', 'booking', 'cancelled', 'complaints', 'customer', 'damaged', 'flight', 'issue', 'late', 'longlines', 'lost', 'luggage', 'problems', 'service', 'tell']\n"
     ]
    }
   ],
   "source": [
    "# Print the last 15 features from the first, and all from second vectorizer\n",
    "print(vect1.get_feature_names()[-15:])\n",
    "print(vect2.get_feature_names())"
   ]
  },
  {
   "cell_type": "markdown",
   "id": "diverse-bandwidth",
   "metadata": {},
   "source": [
    "## Capturing a token pattern"
   ]
  },
  {
   "cell_type": "markdown",
   "id": "growing-preference",
   "metadata": {},
   "source": [
    "**Capturando um padrão de token**\n",
    "\n",
    "Você deve ter notado, ao trabalhar com os dados de opinião da companhia aérea do Twitter, que o texto contém muitos dígitos e outros caracteres. Às vezes, podemos querer excluí-los de nossa representação numérica.\n",
    "\n",
    "**Operadores de string e comparações**\n",
    "\n",
    "Se trabalharmos com uma string, como podemos ter certeza de que extraímos apenas alguns caracteres? Existem algumas funcionalidades úteis que revisaremos aqui. Podemos usar operadores de comparação de string, como .isaplha (), que retorna verdadeiro se uma string é composta apenas de letras e falso caso contrário; .isdigits () retorna verdadeiro se uma string é composta apenas de dígitos; e finalmente .isalnum () retorna verdadeiro se uma string é composta apenas por caracteres alfanuméricos, ou seja, letras e dígitos."
   ]
  },
  {
   "cell_type": "code",
   "execution_count": 45,
   "id": "southeast-immunology",
   "metadata": {
    "ExecuteTime": {
     "end_time": "2021-09-22T20:23:55.158482Z",
     "start_time": "2021-09-22T20:23:55.142606Z"
    }
   },
   "outputs": [],
   "source": [
    "from nltk import word_tokenize"
   ]
  },
  {
   "cell_type": "code",
   "execution_count": 41,
   "id": "premium-director",
   "metadata": {
    "ExecuteTime": {
     "end_time": "2021-09-22T20:20:49.881957Z",
     "start_time": "2021-09-22T20:20:49.866998Z"
    }
   },
   "outputs": [],
   "source": [
    "my_string = \"Never forget what you are, for surely the world will not. Make it your strength. Then it can never be your weakness. Armour yourself in it, and it will never be used to hurt you.\""
   ]
  },
  {
   "cell_type": "code",
   "execution_count": 42,
   "id": "thermal-republican",
   "metadata": {
    "ExecuteTime": {
     "end_time": "2021-09-22T20:21:01.819135Z",
     "start_time": "2021-09-22T20:21:01.806182Z"
    }
   },
   "outputs": [
    {
     "data": {
      "text/plain": [
       "False"
      ]
     },
     "execution_count": 42,
     "metadata": {},
     "output_type": "execute_result"
    }
   ],
   "source": [
    "# Check if a string is composed only of letters\n",
    "my_string.isalpha()"
   ]
  },
  {
   "cell_type": "code",
   "execution_count": 43,
   "id": "facial-associate",
   "metadata": {
    "ExecuteTime": {
     "end_time": "2021-09-22T20:21:46.037635Z",
     "start_time": "2021-09-22T20:21:46.018713Z"
    }
   },
   "outputs": [
    {
     "data": {
      "text/plain": [
       "False"
      ]
     },
     "execution_count": 43,
     "metadata": {},
     "output_type": "execute_result"
    }
   ],
   "source": [
    "# Check if a string is composed only of digits\n",
    "my_string.isdigit()"
   ]
  },
  {
   "cell_type": "code",
   "execution_count": 44,
   "id": "ceramic-command",
   "metadata": {
    "ExecuteTime": {
     "end_time": "2021-09-22T20:22:14.811812Z",
     "start_time": "2021-09-22T20:22:14.803839Z"
    }
   },
   "outputs": [
    {
     "data": {
      "text/plain": [
       "False"
      ]
     },
     "execution_count": 44,
     "metadata": {},
     "output_type": "execute_result"
    }
   ],
   "source": [
    "# Check if a string is composed only of alphanumeric characters\n",
    "my_string.isalnum()"
   ]
  },
  {
   "cell_type": "markdown",
   "id": "drawn-rainbow",
   "metadata": {},
   "source": [
    "**Operadores de string com compreensão de lista**\n",
    "\n",
    "Os operadores de string podem melhorar alguns dos recursos que criamos anteriormente. \n",
    "\n",
    "Como um lembrete, em um vídeo anterior, usamos uma compreensão de lista para iterar sobre cada revisão do conjunto de dados de revisões do produto e criar tokens de palavras a partir de cada revisão. Podemos ajustar nosso código original. Se quisermos reter apenas tokens que consistem em letras, por exemplo, podemos usar o operador .isaplha () em uma segunda compreensão de lista. Como o resultado da compreensão da primeira lista é uma lista de listas, primeiro precisamos iterar os itens em cada lista interna, filtrando os tokens que não são letras. \n",
    "\n",
    "É o que ocorre na primeira parte da compreensão da lista, entre colchetes. Na segunda parte, estamos iterando nas listas, basicamente dizendo que queremos realizar essa filtragem em todas as listas na lista word_tokens. Quando comparamos o comprimento do primeiro item de word_tokens e as listas cleaning_tokens, vemos que a filtragem diminuiu o número de tokens, como poderíamos esperar."
   ]
  },
  {
   "cell_type": "code",
   "execution_count": 46,
   "id": "collectible-bottle",
   "metadata": {
    "ExecuteTime": {
     "end_time": "2021-09-22T20:24:06.668593Z",
     "start_time": "2021-09-22T20:24:00.159404Z"
    }
   },
   "outputs": [],
   "source": [
    "word_tokens = [word_tokenize(review) for review in movies['review']]"
   ]
  },
  {
   "cell_type": "code",
   "execution_count": 47,
   "id": "unnecessary-continent",
   "metadata": {
    "ExecuteTime": {
     "end_time": "2021-09-22T20:24:50.701923Z",
     "start_time": "2021-09-22T20:24:50.599735Z"
    }
   },
   "outputs": [],
   "source": [
    "cleaned_tokens = [[word for word in item if word.isalpha()] for item in word_tokens]"
   ]
  },
  {
   "cell_type": "code",
   "execution_count": 51,
   "id": "cloudy-czech",
   "metadata": {
    "ExecuteTime": {
     "end_time": "2021-09-22T20:25:30.230497Z",
     "start_time": "2021-09-22T20:25:30.217526Z"
    }
   },
   "outputs": [
    {
     "data": {
      "text/plain": [
       "(87, 78)"
      ]
     },
     "execution_count": 51,
     "metadata": {},
     "output_type": "execute_result"
    }
   ],
   "source": [
    "len(word_tokens[0]),len(cleaned_tokens[0])"
   ]
  },
  {
   "cell_type": "markdown",
   "id": "thorough-luxury",
   "metadata": {},
   "source": [
    "Expressões regulares são uma forma padrão de extrair certos caracteres de uma string. Python tem um pacote embutido, chamado re, que permite que você trabalhe com expressões regulares. Não cobriremos as expressões regulares em profundidade aqui, mas, um rápido lembrete sobre a sintaxe. Importamos o pacote re. \n",
    "\n",
    "Então imagine que temos uma string #Wonderfulday e queremos extrair um hash (#) seguido por qualquer letra, maiúscula ou minúscula. Uma maneira padrão de fazer isso é chamando a função de pesquisa em nossa string, especificando a expressão regular. Em nosso caso, ele começa com um # e é seguido por uma letra maiúscula ou minúscula. \n",
    "\n",
    "Quando imprimimos o resultado, vemos que é um objeto de correspondência, mostrando o quão grande é a correspondência - em nosso caso, o intervalo é 2, e também os caracteres exatos que foram correspondidos."
   ]
  },
  {
   "cell_type": "code",
   "execution_count": 52,
   "id": "touched-traveler",
   "metadata": {
    "ExecuteTime": {
     "end_time": "2021-09-22T20:26:10.758891Z",
     "start_time": "2021-09-22T20:26:10.746891Z"
    }
   },
   "outputs": [],
   "source": [
    "import re"
   ]
  },
  {
   "cell_type": "code",
   "execution_count": 53,
   "id": "given-spencer",
   "metadata": {
    "ExecuteTime": {
     "end_time": "2021-09-22T20:26:58.367263Z",
     "start_time": "2021-09-22T20:26:58.362271Z"
    }
   },
   "outputs": [],
   "source": [
    "my_string = '#Wonderfulday'\n",
    "\n",
    "x = re.search('#[A-Za-z]', my_string)"
   ]
  },
  {
   "cell_type": "code",
   "execution_count": 54,
   "id": "potential-tiffany",
   "metadata": {
    "ExecuteTime": {
     "end_time": "2021-09-22T20:27:04.751606Z",
     "start_time": "2021-09-22T20:27:04.735688Z"
    }
   },
   "outputs": [
    {
     "data": {
      "text/plain": [
       "<_sre.SRE_Match object; span=(0, 2), match='#W'>"
      ]
     },
     "execution_count": 54,
     "metadata": {},
     "output_type": "execute_result"
    }
   ],
   "source": [
    "x"
   ]
  },
  {
   "cell_type": "code",
   "execution_count": 55,
   "id": "southeast-thumb",
   "metadata": {
    "ExecuteTime": {
     "end_time": "2021-09-22T20:28:01.981154Z",
     "start_time": "2021-09-22T20:28:01.967191Z"
    }
   },
   "outputs": [
    {
     "data": {
      "text/plain": [
       "CountVectorizer(token_pattern='\\\\b[^\\\\d\\\\W][^\\\\d\\\\W]+\\\\b')"
      ]
     },
     "execution_count": 55,
     "metadata": {},
     "output_type": "execute_result"
    }
   ],
   "source": [
    "CountVectorizer(token_pattern=r'\\b[^\\d\\W][^\\d\\W]+\\b')"
   ]
  },
  {
   "cell_type": "markdown",
   "id": "complete-tobago",
   "metadata": {},
   "source": [
    "Nosso familiar CountVectorizer usa uma expressão regular como argumento. O padrão usado corresponde a palavras que consistem em pelo menos duas letras ou números (\\ w) e que são separadas por limites de palavras (\\ b). Ele irá ignorar palavras de uma letra e dividirá palavras como 'não' e 'não tenho'. Se estivermos bem com esse padrão padrão, não precisamos alterar nenhum argumento no CountVectorizer. \n",
    "\n",
    "Se quisermos alterá-lo, podemos especificar o argumento token_pattern. Se quisermos que o vetorizador ignore dígitos e outros caracteres e considere apenas palavras de duas ou mais letras, podemos usar o padrão de token especificado. Na verdade, existem várias maneiras de especificar isso. \n",
    "\n",
    "Isso não significa que o especificado aqui seja a única maneira correta ou melhor de fazer isso. Sinta-se à vontade para experimentar isso. Observe, entretanto, que precisamos adicionar um 'r' antes da própria expressão regular."
   ]
  },
  {
   "cell_type": "markdown",
   "id": "governmental-mechanism",
   "metadata": {},
   "source": [
    "### Stemming and lemmatization"
   ]
  },
  {
   "cell_type": "markdown",
   "id": "oriented-thermal",
   "metadata": {},
   "source": [
    "Em um idioma, as palavras geralmente são derivadas de outras palavras, o que significa que as palavras podem compartilhar a mesma raiz(origem). Quando criamos uma transformação numérica de um recurso de texto, podemos remover uma palavra até sua raiz. Este é o tópico desta lição.\n",
    "\n",
    "**O que é stemming (derivação)?**\n",
    "\n",
    "Esse processo é chamado de derivação. \n",
    "Mais formalmente, radicalização pode ser definida como a transformação de palavras ate a sua raiz, mesmo se a própria raiz não for uma palavra válida no idioma. Por exemplo, staying, stays, stayed  será mapeado para a raiz 'stay' e house, houses, housing será mapeado para a raiz 'house'. Em geral, a derivação  tende a cortar sufixos como '-ed', '-ing', '-er', bem como formas plurais ou possessivas.\n",
    "\n",
    "**O que é lemmatization (lematização)?**\n",
    "\n",
    "A lematização é um processo bastante semelhante à derivação, com a principal diferença de que, com a lematização, as raízes resultantes são palavras válidas na linguagem. \n",
    "\n",
    "Voltando aos nossos exemplos de palavras derivadas de 'stay', a lematização as reduz a 'stay'; e palavras derivadas de 'house' são reduzidas ao substantivo 'house'.\n",
    "\n",
    "`stay, stays, staying ----> stay`\n",
    "\n",
    "`house, houses, housing ----> house`\n",
    "\n",
    "**Stemming vs lemmatization**\n",
    "\n",
    "Você pode estar se perguntando quando usar a derivação e quando a lematização. \n",
    "A principal diferença está nas raízes obtidas.\n",
    "\n",
    "**Com a lematização, elas são palavras reais e com derivação podem não ser.** \n",
    "\n",
    "Portanto, se no seu problema é importante reter palavras, não apenas raízes, a lematização seria mais adequada. No entanto, se você usar nltk - que é o que usaremos neste curso - a derivação segue um algoritmo que a torna mais rápida do que o processo de lematização em nltk. Além disso, a lematização depende de saber a classe gramatical da palavra que você deseja lematizar. Por exemplo, se queremos transformar um substantivo, um verbo, um adjetivo, etc.\n"
   ]
  },
  {
   "cell_type": "markdown",
   "id": "victorian-object",
   "metadata": {},
   "source": [
    "**PorterStemmer**\n",
    "\n",
    "Uma biblioteca de derivação popular é a PorterStemmer no pacote nltk.stem. \n",
    "\n",
    "O PorterStemmer não é o único stemmer em nltk, mas é bastante rápido e fácil de usar, por isso costuma ser uma escolha padrão. Chamamos a função PorterStemmer e a armazenamos com o nome porter. \n",
    "\n",
    "Podemos então chamar porter.stem em uma string, por exemplo, 'wonderful'. O resultado é 'wonder'."
   ]
  },
  {
   "cell_type": "code",
   "execution_count": 56,
   "id": "infinite-violation",
   "metadata": {
    "ExecuteTime": {
     "end_time": "2021-09-23T15:32:39.679515Z",
     "start_time": "2021-09-23T15:32:39.661563Z"
    }
   },
   "outputs": [],
   "source": [
    "from nltk.stem import PorterStemmer"
   ]
  },
  {
   "cell_type": "code",
   "execution_count": 57,
   "id": "driven-witch",
   "metadata": {
    "ExecuteTime": {
     "end_time": "2021-09-23T15:32:51.741313Z",
     "start_time": "2021-09-23T15:32:51.734360Z"
    }
   },
   "outputs": [],
   "source": [
    "porter = PorterStemmer()"
   ]
  },
  {
   "cell_type": "code",
   "execution_count": 60,
   "id": "disturbed-banana",
   "metadata": {
    "ExecuteTime": {
     "end_time": "2021-09-23T15:33:19.860618Z",
     "start_time": "2021-09-23T15:33:19.842698Z"
    }
   },
   "outputs": [
    {
     "data": {
      "text/plain": [
       "'wonder'"
      ]
     },
     "execution_count": 60,
     "metadata": {},
     "output_type": "execute_result"
    }
   ],
   "source": [
    "porter.stem('wonderful')"
   ]
  },
  {
   "cell_type": "markdown",
   "id": "continental-capture",
   "metadata": {},
   "source": [
    "O stemming também é possível usando outros idiomas, como:\n",
    "\n",
    "    português, dinamarquês, holandês, francês, espanhol, alemão, etc. \n",
    "\n",
    "Para usar stemming em idiomas estrangeiros precisamos usar o pacote SnowballStemmer. \n",
    "\n",
    "Podemos especificar no lematizador o idioma estrangeiro que desejamos usar. Em seguida, aplicamos a função radical em nossa string. Por exemplo, importamos um stemming português e o alimentamos com um verbo português \"acordar\". \n",
    "\n",
    "O resultado é a raiz do verbo será 'acord'."
   ]
  },
  {
   "cell_type": "code",
   "execution_count": 66,
   "id": "another-montana",
   "metadata": {
    "ExecuteTime": {
     "end_time": "2021-09-23T15:37:35.943527Z",
     "start_time": "2021-09-23T15:37:35.928571Z"
    }
   },
   "outputs": [],
   "source": [
    "from nltk.stem.snowball import SnowballStemmer"
   ]
  },
  {
   "cell_type": "code",
   "execution_count": 67,
   "id": "cross-inside",
   "metadata": {
    "ExecuteTime": {
     "end_time": "2021-09-23T15:37:36.242305Z",
     "start_time": "2021-09-23T15:37:36.227315Z"
    }
   },
   "outputs": [],
   "source": [
    "PtStemmer = SnowballStemmer(\"portuguese\")"
   ]
  },
  {
   "cell_type": "code",
   "execution_count": 68,
   "id": "purple-lesson",
   "metadata": {
    "ExecuteTime": {
     "end_time": "2021-09-23T15:37:36.645458Z",
     "start_time": "2021-09-23T15:37:36.628504Z"
    }
   },
   "outputs": [
    {
     "data": {
      "text/plain": [
       "'acord'"
      ]
     },
     "execution_count": 68,
     "metadata": {},
     "output_type": "execute_result"
    }
   ],
   "source": [
    "PtStemmer.stem(\"acordar\")"
   ]
  },
  {
   "cell_type": "markdown",
   "id": "devoted-turner",
   "metadata": {},
   "source": [
    "Se você aplicar o PorterStemmer em uma frase, o resultado será a frase original. Vemos que nada mudou em nossa frase 'Hoje é um dia maravilhoso!\". "
   ]
  },
  {
   "cell_type": "code",
   "execution_count": 69,
   "id": "combined-praise",
   "metadata": {
    "ExecuteTime": {
     "end_time": "2021-09-23T15:39:45.790290Z",
     "start_time": "2021-09-23T15:39:45.781339Z"
    }
   },
   "outputs": [
    {
     "data": {
      "text/plain": [
       "'hoje é um dia maravilhoso!'"
      ]
     },
     "execution_count": 69,
     "metadata": {},
     "output_type": "execute_result"
    }
   ],
   "source": [
    "PtStemmer.stem(\"Hoje é um dia maravilhoso!\")"
   ]
  },
  {
   "cell_type": "markdown",
   "id": "unlikely-harassment",
   "metadata": {},
   "source": [
    "Precisamos radicalizar cada palavra da frase separadamente. \n",
    "\n",
    "Portanto, como uma primeira etapa, precisamos transformar a frase em tokens usando a conhecida função word_tokenize. \n",
    "\n",
    "Na segunda etapa, aplicamos a função de derivação em cada palavra da frase, usando uma lista de compreensão."
   ]
  },
  {
   "cell_type": "code",
   "execution_count": 76,
   "id": "hairy-orchestra",
   "metadata": {
    "ExecuteTime": {
     "end_time": "2021-09-23T15:41:59.773512Z",
     "start_time": "2021-09-23T15:41:59.760515Z"
    }
   },
   "outputs": [],
   "source": [
    "from nltk import word_tokenize\n",
    "from nltk.stem.snowball import SnowballStemmer"
   ]
  },
  {
   "cell_type": "code",
   "execution_count": 75,
   "id": "exciting-reserve",
   "metadata": {
    "ExecuteTime": {
     "end_time": "2021-09-23T15:41:40.792316Z",
     "start_time": "2021-09-23T15:41:40.781372Z"
    }
   },
   "outputs": [],
   "source": [
    "PtStemmer = SnowballStemmer(\"portuguese\")\n",
    "tokens = word_tokenize(\"Hoje é um dia maravilhoso!\")"
   ]
  },
  {
   "cell_type": "code",
   "execution_count": 77,
   "id": "unsigned-stake",
   "metadata": {
    "ExecuteTime": {
     "end_time": "2021-09-23T15:42:18.638136Z",
     "start_time": "2021-09-23T15:42:18.621217Z"
    }
   },
   "outputs": [],
   "source": [
    "stemmed_tokens = [PtStemmer.stem(token) for token in tokens]"
   ]
  },
  {
   "cell_type": "code",
   "execution_count": 78,
   "id": "blocked-image",
   "metadata": {
    "ExecuteTime": {
     "end_time": "2021-09-23T15:42:22.735803Z",
     "start_time": "2021-09-23T15:42:22.724834Z"
    }
   },
   "outputs": [
    {
     "data": {
      "text/plain": [
       "['hoj', 'é', 'um', 'dia', 'maravilh', '!']"
      ]
     },
     "execution_count": 78,
     "metadata": {},
     "output_type": "execute_result"
    }
   ],
   "source": [
    "stemmed_tokens"
   ]
  },
  {
   "cell_type": "markdown",
   "id": "decreased-florist",
   "metadata": {},
   "source": [
    "**WordNetLemmatizer**\n",
    "\n",
    "A lematização é semelhante à derivação. \n",
    "\n",
    "Importamos o WordNetLemmatizer da biblioteca nltk.stem, que usa o banco de dados WordNet para pesquisar lemas de palavras. Chamamos a função WordNetLemmatizer e a armazenamos com o nome WNlemmatizer. \n",
    "Podemos então chamar `WNlemmatizer.lemmatize ()` em 'maravilhoso'. Observe que especificamos uma classe gramatical, fornecida pelo argumento 'pos'. A posição padrão é substantivo ou 'n'. Aqui especificamos um adjetivo, por isso pos = 'a'. O resultado é 'maravilhoso'. Se você se lembra, o stemming retornou 'maravilh' como resultado."
   ]
  },
  {
   "cell_type": "code",
   "execution_count": 79,
   "id": "false-requirement",
   "metadata": {
    "ExecuteTime": {
     "end_time": "2021-09-23T15:44:53.710415Z",
     "start_time": "2021-09-23T15:44:53.692464Z"
    }
   },
   "outputs": [],
   "source": [
    "from nltk.stem import WordNetLemmatizer"
   ]
  },
  {
   "cell_type": "code",
   "execution_count": 80,
   "id": "motivated-postage",
   "metadata": {
    "ExecuteTime": {
     "end_time": "2021-09-23T15:45:10.472817Z",
     "start_time": "2021-09-23T15:45:10.455864Z"
    }
   },
   "outputs": [],
   "source": [
    "WNlemmatizer = WordNetLemmatizer()"
   ]
  },
  {
   "cell_type": "code",
   "execution_count": 81,
   "id": "deadly-biodiversity",
   "metadata": {
    "ExecuteTime": {
     "end_time": "2021-09-23T15:45:54.937933Z",
     "start_time": "2021-09-23T15:45:53.288332Z"
    }
   },
   "outputs": [
    {
     "data": {
      "text/plain": [
       "'maravilhoso'"
      ]
     },
     "execution_count": 81,
     "metadata": {},
     "output_type": "execute_result"
    }
   ],
   "source": [
    "WNlemmatizer.lemmatize('maravilhoso',pos='a')"
   ]
  },
  {
   "cell_type": "markdown",
   "id": "finite-truth",
   "metadata": {},
   "source": [
    "### Stems and lemmas from GoT"
   ]
  },
  {
   "cell_type": "code",
   "execution_count": 93,
   "id": "inside-poetry",
   "metadata": {
    "ExecuteTime": {
     "end_time": "2021-09-23T15:52:10.749329Z",
     "start_time": "2021-09-23T15:52:10.742348Z"
    }
   },
   "outputs": [],
   "source": [
    "from nltk.stem import PorterStemmer, WordNetLemmatizer\n",
    "from nltk import word_tokenize\n",
    "import time"
   ]
  },
  {
   "cell_type": "code",
   "execution_count": 94,
   "id": "funded-transcript",
   "metadata": {
    "ExecuteTime": {
     "end_time": "2021-09-23T15:52:11.232698Z",
     "start_time": "2021-09-23T15:52:11.220682Z"
    }
   },
   "outputs": [],
   "source": [
    "GoT = \"Never forget what you are, for surely the world will not. Make it your strength. Then it can never be your weakness. Armour yourself in it, and it will never be used to hurt you.\""
   ]
  },
  {
   "cell_type": "code",
   "execution_count": 95,
   "id": "exciting-antenna",
   "metadata": {
    "ExecuteTime": {
     "end_time": "2021-09-23T15:52:11.717029Z",
     "start_time": "2021-09-23T15:52:11.704021Z"
    }
   },
   "outputs": [],
   "source": [
    "tokens = word_tokenize(GoT) "
   ]
  },
  {
   "cell_type": "code",
   "execution_count": 96,
   "id": "heavy-illustration",
   "metadata": {
    "ExecuteTime": {
     "end_time": "2021-09-23T15:52:12.590509Z",
     "start_time": "2021-09-23T15:52:12.581566Z"
    }
   },
   "outputs": [
    {
     "name": "stdout",
     "output_type": "stream",
     "text": [
      "Time taken for stemming in seconds:  0.0009641647338867188\n",
      "Stemmed tokens:  ['never', 'forget', 'what', 'you', 'are', ',', 'for', 'sure', 'the', 'world', 'will', 'not', '.', 'make', 'it', 'your', 'strength', '.', 'then', 'it', 'can', 'never', 'be', 'your', 'weak', '.', 'armour', 'yourself', 'in', 'it', ',', 'and', 'it', 'will', 'never', 'be', 'use', 'to', 'hurt', 'you', '.']\n"
     ]
    }
   ],
   "source": [
    "porter = PorterStemmer()\n",
    "start_time = time.time()\n",
    "stemmed_tokens = [porter.stem(token) for token in tokens]\n",
    "end_time = time.time()\n",
    "\n",
    "print('Time taken for stemming in seconds: ', end_time - start_time)\n",
    "print('Stemmed tokens: ', stemmed_tokens) "
   ]
  },
  {
   "cell_type": "code",
   "execution_count": 97,
   "id": "instructional-demographic",
   "metadata": {
    "ExecuteTime": {
     "end_time": "2021-09-23T15:52:18.504486Z",
     "start_time": "2021-09-23T15:52:18.499501Z"
    }
   },
   "outputs": [
    {
     "name": "stdout",
     "output_type": "stream",
     "text": [
      "Time taken for lemmatizing in seconds:  0.0\n",
      "Lemmatized tokens:  ['Never', 'forget', 'what', 'you', 'are', ',', 'for', 'surely', 'the', 'world', 'will', 'not', '.', 'Make', 'it', 'your', 'strength', '.', 'Then', 'it', 'can', 'never', 'be', 'your', 'weakness', '.', 'Armour', 'yourself', 'in', 'it', ',', 'and', 'it', 'will', 'never', 'be', 'used', 'to', 'hurt', 'you', '.']\n"
     ]
    }
   ],
   "source": [
    "WNlemmatizer = WordNetLemmatizer()\n",
    "start_time = time.time()\n",
    "lem_tokens = [WNlemmatizer.lemmatize(token) for token in tokens]\n",
    "end_time = time.time()\n",
    "\n",
    "\n",
    "print('Time taken for lemmatizing in seconds: ', end_time - start_time)\n",
    "print('Lemmatized tokens: ', lem_tokens) "
   ]
  },
  {
   "cell_type": "markdown",
   "id": "passive-plaintiff",
   "metadata": {},
   "source": [
    "### Stem Spanish reviews"
   ]
  },
  {
   "cell_type": "code",
   "execution_count": 99,
   "id": "sexual-reward",
   "metadata": {
    "ExecuteTime": {
     "end_time": "2021-09-24T15:29:31.061512Z",
     "start_time": "2021-09-24T15:29:31.056527Z"
    }
   },
   "outputs": [],
   "source": [
    "import pandas as pd\n",
    "from langdetect import detect_langs"
   ]
  },
  {
   "cell_type": "code",
   "execution_count": 100,
   "id": "tough-genius",
   "metadata": {
    "ExecuteTime": {
     "end_time": "2021-09-24T15:29:31.747529Z",
     "start_time": "2021-09-24T15:29:31.641357Z"
    }
   },
   "outputs": [],
   "source": [
    "reviews = pd.read_csv(\"dataset/amazon_reviews_sample.csv\")\n",
    "reviews = reviews[['score','review']]"
   ]
  },
  {
   "cell_type": "code",
   "execution_count": 102,
   "id": "residential-ordinance",
   "metadata": {
    "ExecuteTime": {
     "end_time": "2021-09-24T15:31:09.958005Z",
     "start_time": "2021-09-24T15:30:30.355942Z"
    }
   },
   "outputs": [],
   "source": [
    "languages = []\n",
    "languages = [detect_langs(review) for review in reviews['review']]\n",
    "languages = [str(lang).split(':')[0][1:] for lang in languages]\n",
    "reviews['language'] = languages"
   ]
  },
  {
   "cell_type": "code",
   "execution_count": 103,
   "id": "existing-eugene",
   "metadata": {
    "ExecuteTime": {
     "end_time": "2021-09-24T15:31:14.687660Z",
     "start_time": "2021-09-24T15:31:14.659705Z"
    }
   },
   "outputs": [
    {
     "data": {
      "text/html": [
       "<div>\n",
       "<style scoped>\n",
       "    .dataframe tbody tr th:only-of-type {\n",
       "        vertical-align: middle;\n",
       "    }\n",
       "\n",
       "    .dataframe tbody tr th {\n",
       "        vertical-align: top;\n",
       "    }\n",
       "\n",
       "    .dataframe thead th {\n",
       "        text-align: right;\n",
       "    }\n",
       "</style>\n",
       "<table border=\"1\" class=\"dataframe\">\n",
       "  <thead>\n",
       "    <tr style=\"text-align: right;\">\n",
       "      <th></th>\n",
       "      <th>score</th>\n",
       "      <th>review</th>\n",
       "      <th>language</th>\n",
       "    </tr>\n",
       "  </thead>\n",
       "  <tbody>\n",
       "    <tr>\n",
       "      <th>0</th>\n",
       "      <td>1</td>\n",
       "      <td>Stuning even for the non-gamer: This sound tr...</td>\n",
       "      <td>en</td>\n",
       "    </tr>\n",
       "    <tr>\n",
       "      <th>1</th>\n",
       "      <td>1</td>\n",
       "      <td>The best soundtrack ever to anything.: I'm re...</td>\n",
       "      <td>en</td>\n",
       "    </tr>\n",
       "    <tr>\n",
       "      <th>2</th>\n",
       "      <td>1</td>\n",
       "      <td>Amazing!: This soundtrack is my favorite musi...</td>\n",
       "      <td>en</td>\n",
       "    </tr>\n",
       "    <tr>\n",
       "      <th>3</th>\n",
       "      <td>1</td>\n",
       "      <td>Excellent Soundtrack: I truly like this sound...</td>\n",
       "      <td>en</td>\n",
       "    </tr>\n",
       "    <tr>\n",
       "      <th>4</th>\n",
       "      <td>1</td>\n",
       "      <td>Remember, Pull Your Jaw Off The Floor After H...</td>\n",
       "      <td>en</td>\n",
       "    </tr>\n",
       "  </tbody>\n",
       "</table>\n",
       "</div>"
      ],
      "text/plain": [
       "   score                                             review language\n",
       "0      1   Stuning even for the non-gamer: This sound tr...       en\n",
       "1      1   The best soundtrack ever to anything.: I'm re...       en\n",
       "2      1   Amazing!: This soundtrack is my favorite musi...       en\n",
       "3      1   Excellent Soundtrack: I truly like this sound...       en\n",
       "4      1   Remember, Pull Your Jaw Off The Floor After H...       en"
      ]
     },
     "execution_count": 103,
     "metadata": {},
     "output_type": "execute_result"
    }
   ],
   "source": [
    "reviews.head()"
   ]
  },
  {
   "cell_type": "code",
   "execution_count": 105,
   "id": "rising-charles",
   "metadata": {
    "ExecuteTime": {
     "end_time": "2021-09-24T15:31:51.659891Z",
     "start_time": "2021-09-24T15:31:51.643936Z"
    }
   },
   "outputs": [],
   "source": [
    "non_english_reviews = reviews[reviews['language'] != 'en']"
   ]
  },
  {
   "cell_type": "code",
   "execution_count": 106,
   "id": "plain-purse",
   "metadata": {
    "ExecuteTime": {
     "end_time": "2021-09-24T15:31:58.376757Z",
     "start_time": "2021-09-24T15:31:58.364826Z"
    }
   },
   "outputs": [
    {
     "data": {
      "text/html": [
       "<div>\n",
       "<style scoped>\n",
       "    .dataframe tbody tr th:only-of-type {\n",
       "        vertical-align: middle;\n",
       "    }\n",
       "\n",
       "    .dataframe tbody tr th {\n",
       "        vertical-align: top;\n",
       "    }\n",
       "\n",
       "    .dataframe thead th {\n",
       "        text-align: right;\n",
       "    }\n",
       "</style>\n",
       "<table border=\"1\" class=\"dataframe\">\n",
       "  <thead>\n",
       "    <tr style=\"text-align: right;\">\n",
       "      <th></th>\n",
       "      <th>score</th>\n",
       "      <th>review</th>\n",
       "      <th>language</th>\n",
       "    </tr>\n",
       "  </thead>\n",
       "  <tbody>\n",
       "    <tr>\n",
       "      <th>169</th>\n",
       "      <td>1</td>\n",
       "      <td>Awesume! BEST BLOCKS EVER!: THIS TOY WAS OUR ...</td>\n",
       "      <td>de</td>\n",
       "    </tr>\n",
       "    <tr>\n",
       "      <th>881</th>\n",
       "      <td>1</td>\n",
       "      <td>Good read................. ............... .....</td>\n",
       "      <td>cy</td>\n",
       "    </tr>\n",
       "    <tr>\n",
       "      <th>1249</th>\n",
       "      <td>1</td>\n",
       "      <td>Il grande ritorno!: E' dai tempi del tour di ...</td>\n",
       "      <td>it</td>\n",
       "    </tr>\n",
       "    <tr>\n",
       "      <th>1259</th>\n",
       "      <td>1</td>\n",
       "      <td>La reencarnación vista por un científico: El ...</td>\n",
       "      <td>es</td>\n",
       "    </tr>\n",
       "    <tr>\n",
       "      <th>1260</th>\n",
       "      <td>1</td>\n",
       "      <td>Excelente Libro / Amazing book!!: Este libro ...</td>\n",
       "      <td>es</td>\n",
       "    </tr>\n",
       "  </tbody>\n",
       "</table>\n",
       "</div>"
      ],
      "text/plain": [
       "      score                                             review language\n",
       "169       1   Awesume! BEST BLOCKS EVER!: THIS TOY WAS OUR ...       de\n",
       "881       1   Good read................. ............... .....       cy\n",
       "1249      1   Il grande ritorno!: E' dai tempi del tour di ...       it\n",
       "1259      1   La reencarnación vista por un científico: El ...       es\n",
       "1260      1   Excelente Libro / Amazing book!!: Este libro ...       es"
      ]
     },
     "execution_count": 106,
     "metadata": {},
     "output_type": "execute_result"
    }
   ],
   "source": [
    "non_english_reviews.head()"
   ]
  },
  {
   "cell_type": "code",
   "execution_count": 108,
   "id": "immune-clerk",
   "metadata": {
    "ExecuteTime": {
     "end_time": "2021-09-24T15:33:34.404603Z",
     "start_time": "2021-09-24T15:33:34.394643Z"
    }
   },
   "outputs": [],
   "source": [
    "spanish_reviews = non_english_reviews[non_english_reviews['language'] == 'es']"
   ]
  },
  {
   "cell_type": "code",
   "execution_count": 107,
   "id": "narrative-blowing",
   "metadata": {
    "ExecuteTime": {
     "end_time": "2021-09-24T15:32:19.132448Z",
     "start_time": "2021-09-24T15:32:19.125435Z"
    }
   },
   "outputs": [],
   "source": [
    "from nltk.stem.snowball import SnowballStemmer\n",
    "from nltk import word_tokenize"
   ]
  },
  {
   "cell_type": "code",
   "execution_count": 109,
   "id": "fresh-license",
   "metadata": {
    "ExecuteTime": {
     "end_time": "2021-09-24T15:34:06.632884Z",
     "start_time": "2021-09-24T15:34:06.620892Z"
    }
   },
   "outputs": [],
   "source": [
    "SpanishStemmer = SnowballStemmer(\"spanish\")"
   ]
  },
  {
   "cell_type": "code",
   "execution_count": 111,
   "id": "limited-partnership",
   "metadata": {
    "ExecuteTime": {
     "end_time": "2021-09-24T15:34:18.456054Z",
     "start_time": "2021-09-24T15:34:18.406386Z"
    }
   },
   "outputs": [],
   "source": [
    "tokens = [word_tokenize(review) for review in spanish_reviews.review] \n",
    "stemmed_tokens = [[SpanishStemmer.stem(word) for word in token] for token in tokens]"
   ]
  },
  {
   "cell_type": "code",
   "execution_count": 112,
   "id": "recreational-hamilton",
   "metadata": {
    "ExecuteTime": {
     "end_time": "2021-09-24T15:34:23.251761Z",
     "start_time": "2021-09-24T15:34:23.245778Z"
    }
   },
   "outputs": [
    {
     "name": "stdout",
     "output_type": "stream",
     "text": [
      "['la', 'reencarn', 'vist', 'por', 'un', 'cientif', ':', 'el', 'prim', 'libr', 'del', 'dr.', 'weiss', 'sig', 'siend', 'un', 'gran', 'libr', 'par', 'tod', 'aquell', 'a', 'quien', 'les', 'inquiet', 'el', 'tem', 'de', 'la', 'reencarn', ',', 'asi', 'no', 'cre', 'en', 'ella', '.']\n"
     ]
    }
   ],
   "source": [
    "print(stemmed_tokens[0])"
   ]
  },
  {
   "cell_type": "markdown",
   "id": "continental-hello",
   "metadata": {},
   "source": [
    "### Stems from tweets"
   ]
  },
  {
   "cell_type": "code",
   "execution_count": 113,
   "id": "czech-italy",
   "metadata": {
    "ExecuteTime": {
     "end_time": "2021-09-24T15:38:32.686380Z",
     "start_time": "2021-09-24T15:38:32.679397Z"
    }
   },
   "outputs": [],
   "source": [
    "porter = PorterStemmer()"
   ]
  },
  {
   "cell_type": "code",
   "execution_count": 115,
   "id": "forbidden-adventure",
   "metadata": {
    "ExecuteTime": {
     "end_time": "2021-09-24T15:39:17.451323Z",
     "start_time": "2021-09-24T15:39:10.027735Z"
    }
   },
   "outputs": [],
   "source": [
    "tokens = [word_tokenize(text) for text in tweets.text]\n",
    "stemmed_tokens = [[porter.stem(word) for word in tweet] for tweet in tokens] "
   ]
  },
  {
   "cell_type": "code",
   "execution_count": 116,
   "id": "earned-multiple",
   "metadata": {
    "ExecuteTime": {
     "end_time": "2021-09-24T15:39:18.820692Z",
     "start_time": "2021-09-24T15:39:18.801736Z"
    }
   },
   "outputs": [
    {
     "name": "stdout",
     "output_type": "stream",
     "text": [
      "['@', 'virginamerica', 'what', '@', 'dhepburn', 'said', '.']\n"
     ]
    }
   ],
   "source": [
    "print(stemmed_tokens[0])"
   ]
  },
  {
   "cell_type": "markdown",
   "id": "informational-somalia",
   "metadata": {},
   "source": [
    "## TfIdf: More ways to transform text"
   ]
  },
  {
   "cell_type": "markdown",
   "id": "stuck-backing",
   "metadata": {},
   "source": [
    "Trabalhamos extensivamente com um BOW e o aplicamos usando um CountVectorizer em Python. Por mais poderoso que o BOW possa ser, às vezes podemos querer tentar abordagens um pouco mais sofisticadas. Neste vídeo, falaremos sobre um deles, uma abordagem chamada **TfIdf - termo frequência inversa de documento frequência.**\n",
    "\n",
    "\n",
    "* TF - O termo frequência :  nos diz com que frequência uma determinada palavra aparece em um documento no corpus. Cada palavra em um documento tem sua própria frequência de termo. \n",
    "\n",
    "* Frequência inversa de documentos:  é comumente definida como a razão do log entre o número total de documentos e o número de documentos que contêm uma palavra específica. O que significa frequência inversa de documentos é que palavras raras terão uma frequência alta de documentos inversos."
   ]
  },
  {
   "cell_type": "markdown",
   "id": "rotary-shock",
   "metadata": {},
   "source": [
    "**Pontuação TfIdf de uma palavra**\n",
    "\n",
    "Quando multiplicamos as pontuações tf e idf, \n",
    "\n",
    "`TfIdf=term_frequency*inverse_document_freq`\n",
    "\n",
    "obtemos a pontuação TfIdf de uma palavra em um corpus. \n",
    "\n",
    "Com a BOW, as palavras podem ter contagens de frequência diferentes entre os documentos, mas não levamos em consideração o comprimento de um documento; enquanto a pontuação TfIdf de uma palavra incorpora o comprimento de um documento. \n",
    "\n",
    "O TfIdf também destacará palavras que são mais interessantes, ou seja, palavras que são comuns em um documento, mas não em todos os documentos."
   ]
  },
  {
   "cell_type": "markdown",
   "id": "swiss-father",
   "metadata": {},
   "source": [
    "### Your first TfIdf"
   ]
  },
  {
   "cell_type": "code",
   "execution_count": 3,
   "id": "associate-albania",
   "metadata": {
    "ExecuteTime": {
     "end_time": "2021-09-24T16:01:15.929674Z",
     "start_time": "2021-09-24T16:01:11.350681Z"
    }
   },
   "outputs": [],
   "source": [
    "from sklearn.feature_extraction.text import TfidfVectorizer"
   ]
  },
  {
   "cell_type": "code",
   "execution_count": 4,
   "id": "burning-christopher",
   "metadata": {
    "ExecuteTime": {
     "end_time": "2021-09-24T16:01:15.945635Z",
     "start_time": "2021-09-24T16:01:15.931671Z"
    }
   },
   "outputs": [],
   "source": [
    "annak = ['Happy families are all alike;', 'every unhappy family is unhappy in its own way']"
   ]
  },
  {
   "cell_type": "code",
   "execution_count": 5,
   "id": "brief-acquisition",
   "metadata": {
    "ExecuteTime": {
     "end_time": "2021-09-24T16:01:15.961592Z",
     "start_time": "2021-09-24T16:01:15.947629Z"
    }
   },
   "outputs": [],
   "source": [
    "anna_vect = TfidfVectorizer().fit(annak)"
   ]
  },
  {
   "cell_type": "code",
   "execution_count": 6,
   "id": "shared-respondent",
   "metadata": {
    "ExecuteTime": {
     "end_time": "2021-09-24T16:01:21.018990Z",
     "start_time": "2021-09-24T16:01:21.002066Z"
    }
   },
   "outputs": [],
   "source": [
    "anna_tfidf = anna_vect.transform(annak)"
   ]
  },
  {
   "cell_type": "code",
   "execution_count": 7,
   "id": "advance-friendship",
   "metadata": {
    "ExecuteTime": {
     "end_time": "2021-09-24T16:01:25.640265Z",
     "start_time": "2021-09-24T16:01:25.625300Z"
    }
   },
   "outputs": [
    {
     "name": "stdout",
     "output_type": "stream",
     "text": [
      "[[0.4472136  0.4472136  0.4472136  0.         0.4472136  0.\n",
      "  0.4472136  0.         0.         0.         0.         0.\n",
      "  0.        ]\n",
      " [0.         0.         0.         0.30151134 0.         0.30151134\n",
      "  0.         0.30151134 0.30151134 0.30151134 0.30151134 0.60302269\n",
      "  0.30151134]]\n"
     ]
    }
   ],
   "source": [
    "print(anna_tfidf.toarray())"
   ]
  },
  {
   "cell_type": "markdown",
   "id": "disturbed-account",
   "metadata": {},
   "source": [
    "### TfIdf on Twitter airline sentiment data"
   ]
  },
  {
   "cell_type": "code",
   "execution_count": 8,
   "id": "threaded-victory",
   "metadata": {
    "ExecuteTime": {
     "end_time": "2021-09-24T16:02:44.229225Z",
     "start_time": "2021-09-24T16:02:44.211273Z"
    }
   },
   "outputs": [],
   "source": [
    "from sklearn.feature_extraction.text import TfidfVectorizer, CountVectorizer, ENGLISH_STOP_WORDS"
   ]
  },
  {
   "cell_type": "code",
   "execution_count": 9,
   "id": "equipped-discussion",
   "metadata": {
    "ExecuteTime": {
     "end_time": "2021-09-24T16:03:16.541295Z",
     "start_time": "2021-09-24T16:03:16.533329Z"
    }
   },
   "outputs": [],
   "source": [
    "my_pattern = r'\\b[^\\d\\W][^\\d\\W]+\\b'"
   ]
  },
  {
   "cell_type": "code",
   "execution_count": 15,
   "id": "chicken-configuration",
   "metadata": {
    "ExecuteTime": {
     "end_time": "2021-09-24T16:09:10.907509Z",
     "start_time": "2021-09-24T16:09:10.407610Z"
    }
   },
   "outputs": [],
   "source": [
    "vect = TfidfVectorizer(ngram_range=(1, 2), max_features=100, token_pattern=my_pattern, stop_words=ENGLISH_STOP_WORDS).fit(tweets.text)"
   ]
  },
  {
   "cell_type": "code",
   "execution_count": 16,
   "id": "absolute-cycling",
   "metadata": {
    "ExecuteTime": {
     "end_time": "2021-09-24T16:09:21.999751Z",
     "start_time": "2021-09-24T16:09:21.712968Z"
    }
   },
   "outputs": [],
   "source": [
    "X_txt = vect.transform(tweets.text)\n",
    "X=pd.DataFrame(X_txt.toarray(), columns=vect.get_feature_names())"
   ]
  },
  {
   "cell_type": "code",
   "execution_count": 17,
   "id": "greater-grove",
   "metadata": {
    "ExecuteTime": {
     "end_time": "2021-09-24T16:09:25.407574Z",
     "start_time": "2021-09-24T16:09:25.389635Z"
    }
   },
   "outputs": [
    {
     "name": "stdout",
     "output_type": "stream",
     "text": [
      "Top 5 rows of the DataFrame:      aa  agent  airline  airport  americanair       amp  bag  baggage  bags  \\\n",
      "0  0.0    0.0      0.0      0.0          0.0  0.000000  0.0      0.0   0.0   \n",
      "1  0.0    0.0      0.0      0.0          0.0  0.000000  0.0      0.0   0.0   \n",
      "2  0.0    0.0      0.0      0.0          0.0  0.000000  0.0      0.0   0.0   \n",
      "3  0.0    0.0      0.0      0.0          0.0  0.537247  0.0      0.0   0.0   \n",
      "4  0.0    0.0      0.0      0.0          0.0  0.000000  0.0      0.0   0.0   \n",
      "\n",
      "   cancelled  ...        ve  virginamerica  wait  waiting  want  way  weather  \\\n",
      "0        0.0  ...  0.000000       1.000000   0.0      0.0   0.0  0.0      0.0   \n",
      "1        0.0  ...  0.544485       0.531770   0.0      0.0   0.0  0.0      0.0   \n",
      "2        0.0  ...  0.000000       0.407271   0.0      0.0   0.0  0.0      0.0   \n",
      "3        0.0  ...  0.000000       0.559828   0.0      0.0   0.0  0.0      0.0   \n",
      "4        0.0  ...  0.000000       0.663756   0.0      0.0   0.0  0.0      0.0   \n",
      "\n",
      "   work  worst  yes  \n",
      "0   0.0    0.0  0.0  \n",
      "1   0.0    0.0  0.0  \n",
      "2   0.0    0.0  0.0  \n",
      "3   0.0    0.0  0.0  \n",
      "4   0.0    0.0  0.0  \n",
      "\n",
      "[5 rows x 100 columns]\n"
     ]
    }
   ],
   "source": [
    "print('Top 5 rows of the DataFrame: ', X.head())"
   ]
  },
  {
   "cell_type": "markdown",
   "id": "orange-salvation",
   "metadata": {},
   "source": [
    "### Tfidf and a BOW on same data"
   ]
  },
  {
   "cell_type": "code",
   "execution_count": 18,
   "id": "tropical-michael",
   "metadata": {
    "ExecuteTime": {
     "end_time": "2021-09-24T16:10:24.102542Z",
     "start_time": "2021-09-24T16:10:24.089580Z"
    }
   },
   "outputs": [],
   "source": [
    "from sklearn.feature_extraction.text import CountVectorizer, TfidfVectorizer"
   ]
  },
  {
   "cell_type": "code",
   "execution_count": 19,
   "id": "moving-comfort",
   "metadata": {
    "ExecuteTime": {
     "end_time": "2021-09-24T16:11:12.876442Z",
     "start_time": "2021-09-24T16:11:12.815377Z"
    }
   },
   "outputs": [],
   "source": [
    "reviews = pd.read_csv(\"dataset/amazon_reviews_sample.csv\")\n",
    "reviews = reviews[['score','review']]"
   ]
  },
  {
   "cell_type": "code",
   "execution_count": 20,
   "id": "contained-preservation",
   "metadata": {
    "ExecuteTime": {
     "end_time": "2021-09-24T16:11:15.071034Z",
     "start_time": "2021-09-24T16:11:13.912138Z"
    }
   },
   "outputs": [],
   "source": [
    "# Build a BOW and tfidf vectorizers from the review column and with max of 100 features\n",
    "vect1 = CountVectorizer(max_features=100).fit(reviews.review) # BOW\n",
    "vect2 = TfidfVectorizer(max_features=100).fit(reviews.review) # TFIDF"
   ]
  },
  {
   "cell_type": "code",
   "execution_count": 21,
   "id": "prescription-execution",
   "metadata": {
    "ExecuteTime": {
     "end_time": "2021-09-24T16:11:17.745895Z",
     "start_time": "2021-09-24T16:11:16.765741Z"
    }
   },
   "outputs": [],
   "source": [
    "# Transform the vectorizers\n",
    "X1 = vect1.transform(reviews.review)\n",
    "X2 = vect2.transform(reviews.review)"
   ]
  },
  {
   "cell_type": "code",
   "execution_count": 22,
   "id": "assigned-belief",
   "metadata": {
    "ExecuteTime": {
     "end_time": "2021-09-24T16:11:21.322130Z",
     "start_time": "2021-09-24T16:11:21.299204Z"
    }
   },
   "outputs": [],
   "source": [
    "# Create DataFrames from the vectorizers\n",
    "X_df1 = pd.DataFrame(X1.toarray(), columns=vect1.get_feature_names())\n",
    "X_df2 = pd.DataFrame(X2.toarray(), columns=vect2.get_feature_names())"
   ]
  },
  {
   "cell_type": "code",
   "execution_count": 23,
   "id": "stupid-profile",
   "metadata": {
    "ExecuteTime": {
     "end_time": "2021-09-24T16:11:22.571384Z",
     "start_time": "2021-09-24T16:11:22.542456Z"
    }
   },
   "outputs": [
    {
     "name": "stdout",
     "output_type": "stream",
     "text": [
      "Top 5 rows, using BOW: \n",
      "    about  after  all  also  am  an  and  any  are  as  ...  what  when  which  \\\n",
      "0      0      0    1     0   0   0    2    0    0   0  ...     0     0      0   \n",
      "1      0      0    0     0   0   0    3    1    1   0  ...     0     0      0   \n",
      "2      0      0    3     0   0   1    4    0    1   1  ...     0     0      1   \n",
      "3      0      0    0     0   0   0    9    0    1   0  ...     0     0      0   \n",
      "4      0      1    0     0   0   0    3    0    1   0  ...     0     0      0   \n",
      "\n",
      "   who  will  with  work  would  you  your  \n",
      "0    2     0     1     0      2    0     1  \n",
      "1    0     0     0     0      1    1     0  \n",
      "2    1     0     0     1      1    2     0  \n",
      "3    0     0     0     0      0    0     0  \n",
      "4    0     0     0     0      0    3     1  \n",
      "\n",
      "[5 rows x 100 columns]\n",
      "Top 5 rows using tfidf: \n",
      "    about     after       all  also   am       an       and       any  \\\n",
      "0    0.0  0.000000  0.138970   0.0  0.0  0.00000  0.140823  0.000000   \n",
      "1    0.0  0.000000  0.000000   0.0  0.0  0.00000  0.191572  0.175388   \n",
      "2    0.0  0.000000  0.285009   0.0  0.0  0.10526  0.192539  0.000000   \n",
      "3    0.0  0.000000  0.000000   0.0  0.0  0.00000  0.554705  0.000000   \n",
      "4    0.0  0.174214  0.000000   0.0  0.0  0.00000  0.197188  0.000000   \n",
      "\n",
      "        are        as  ...  what  when    which       who  will      with  \\\n",
      "0  0.000000  0.000000  ...   0.0   0.0  0.00000  0.351952   0.0  0.113371   \n",
      "1  0.116940  0.000000  ...   0.0   0.0  0.00000  0.000000   0.0  0.000000   \n",
      "2  0.088148  0.090385  ...   0.0   0.0  0.13013  0.120301   0.0  0.000000   \n",
      "3  0.112868  0.000000  ...   0.0   0.0  0.00000  0.000000   0.0  0.000000   \n",
      "4  0.120369  0.000000  ...   0.0   0.0  0.00000  0.000000   0.0  0.000000   \n",
      "\n",
      "       work     would       you      your  \n",
      "0  0.000000  0.306757  0.000000  0.175024  \n",
      "1  0.000000  0.139101  0.106279  0.000000  \n",
      "2  0.139218  0.104853  0.160223  0.000000  \n",
      "3  0.000000  0.000000  0.000000  0.000000  \n",
      "4  0.000000  0.000000  0.328184  0.163385  \n",
      "\n",
      "[5 rows x 100 columns]\n"
     ]
    }
   ],
   "source": [
    "print('Top 5 rows, using BOW: \\n', X_df1.head())\n",
    "print('Top 5 rows using tfidf: \\n', X_df2.head())"
   ]
  },
  {
   "cell_type": "code",
   "execution_count": null,
   "id": "boolean-rabbit",
   "metadata": {},
   "outputs": [],
   "source": []
  }
 ],
 "metadata": {
  "kernelspec": {
   "display_name": "Python 3",
   "language": "python",
   "name": "python3"
  },
  "language_info": {
   "codemirror_mode": {
    "name": "ipython",
    "version": 3
   },
   "file_extension": ".py",
   "mimetype": "text/x-python",
   "name": "python",
   "nbconvert_exporter": "python",
   "pygments_lexer": "ipython3",
   "version": "3.6.4"
  },
  "toc": {
   "base_numbering": 1,
   "nav_menu": {},
   "number_sections": true,
   "sideBar": true,
   "skip_h1_title": false,
   "title_cell": "Table of Contents",
   "title_sidebar": "Contents",
   "toc_cell": false,
   "toc_position": {},
   "toc_section_display": true,
   "toc_window_display": true
  }
 },
 "nbformat": 4,
 "nbformat_minor": 5
}
